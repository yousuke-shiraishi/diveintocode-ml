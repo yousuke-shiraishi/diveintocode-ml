{
 "cells": [
  {
   "cell_type": "markdown",
   "metadata": {},
   "source": [
    "# 【問題1】これまで利用してきたクラスの列挙"
   ]
  },
  {
   "cell_type": "markdown",
   "metadata": {},
   "source": [
    "PandasのクラスでPandas データフレーム型はDataFrameクラス"
   ]
  },
  {
   "cell_type": "markdown",
   "metadata": {},
   "source": [
    "matplotlibのクラスFigureは fig = plt.figure()でインスタンス化する"
   ]
  },
  {
   "cell_type": "markdown",
   "metadata": {},
   "source": [
    "scikit-learnのクラス　StandardScaler()やLinearRegression（）"
   ]
  },
  {
   "cell_type": "markdown",
   "metadata": {},
   "source": [
    "# 【問題2】これまで利用してきたメソッドやインスタンス変数の列挙"
   ]
  },
  {
   "cell_type": "markdown",
   "metadata": {},
   "source": [
    "# メソッド"
   ]
  },
  {
   "cell_type": "markdown",
   "metadata": {},
   "source": [
    "DataFrameクラスのメソッドはインスタンス.mean(axis = 0)やインスタンス.sum(axis = 1)"
   ]
  },
  {
   "cell_type": "markdown",
   "metadata": {},
   "source": [
    "matplotlibのクラスFigureのメソッドは  \n",
    "fig = plt.figure()  \n",
    "ax = fig.add_subplot(1,1,1)  \n",
    "ax.plot(x, y)"
   ]
  },
  {
   "cell_type": "markdown",
   "metadata": {},
   "source": [
    "StandardScaler()メソッドは\n",
    "sc = StandardScaler()\n",
    "sc.fit()やsc.transform()"
   ]
  },
  {
   "cell_type": "markdown",
   "metadata": {},
   "source": [
    "# インスタンス変数"
   ]
  },
  {
   "cell_type": "markdown",
   "metadata": {},
   "source": [
    "ndarray.shape,  \n",
    "ndarray.dtype,ndarray.T"
   ]
  },
  {
   "cell_type": "markdown",
   "metadata": {},
   "source": [
    "データフレームクラスのインスタンス変数　df.index.names,df.columns.names"
   ]
  },
  {
   "cell_type": "markdown",
   "metadata": {},
   "source": [
    "sc.scale_ (特徴量のスケーリングの値),sc.mean_　  \n",
    "（特徴量毎の平均値）,  \n",
    "sc.var_　（特徴量毎の分散）"
   ]
  },
  {
   "cell_type": "markdown",
   "metadata": {},
   "source": [
    "# 【問題3】標準化クラスをスクラッチで作成"
   ]
  },
  {
   "cell_type": "code",
   "execution_count": 10,
   "metadata": {},
   "outputs": [],
   "source": [
    "class ScratchStandardScaler():\n",
    "    #import numpy as np\n",
    "    \"\"\"\n",
    "    標準化のためのクラス\n",
    "\n",
    "    Attributes\n",
    "    ----------\n",
    "    mean_ : 次の形のndarray, shape(n_features,)\n",
    "        平均\n",
    "    var_ : 次の形のndarray, shape(n_features,)\n",
    "        分散\n",
    "    \"\"\"\n",
    "\n",
    "    def fit(self, X):\n",
    "        \"\"\"\n",
    "        標準化のために平均と標準偏差を計算する。\n",
    "\n",
    "        Parameters\n",
    "        ----------\n",
    "        X : 次の形のndarray, shape (n_samples, n_features)\n",
    "            学習データ\n",
    "        \"\"\"\n",
    "        \n",
    "        x_copy = np.copy(X)\n",
    "        #x_std = (x_copy - x_copy.mean()) / x_copy.std()\n",
    "        self.mean_ = np.mean(x_copy,axis=0)\n",
    "        self.var_ = np.var(x_copy,axis=0)\n",
    "    \n",
    "\n",
    "    def transform(self, X):\n",
    "        \"\"\"\n",
    "        fitで求めた値を使い標準化を行う。\n",
    "\n",
    "        Parameters\n",
    "        ----------\n",
    "        X : 次の形のndarray, shape (n_samples, n_features)\n",
    "            特徴量\n",
    "\n",
    "        Returns\n",
    "        ----------\n",
    "        X_scaled : 次の形のndarray, shape (n_samples, n_features)\n",
    "            標準化された特緒量\n",
    "        \"\"\"\n",
    "        X_scaled = (X - self.mean_) / np.sqrt(self.var_**2)\n",
    "        return X_scaled"
   ]
  },
  {
   "cell_type": "code",
   "execution_count": 11,
   "metadata": {},
   "outputs": [
    {
     "name": "stdout",
     "output_type": "stream",
     "text": [
      "平均 : [4.86 3.31 1.45 0.22]\n",
      "分散 : [0.0764 0.0849 0.0105 0.0056]\n"
     ]
    },
    {
     "data": {
      "text/plain": [
       "array([[  3.14136126,   2.23792697,  -4.76190476,  -3.57142857],\n",
       "       [  0.52356021,  -3.65135453,  -4.76190476,  -3.57142857],\n",
       "       [ -2.09424084,  -1.29564193, -14.28571429,  -3.57142857],\n",
       "       [ -3.40314136,  -2.47349823,   4.76190476,  -3.57142857],\n",
       "       [  1.83246073,   3.41578327,  -4.76190476,  -3.57142857],\n",
       "       [  7.06806283,   6.94935218,  23.80952381,  32.14285714],\n",
       "       [ -3.40314136,   1.06007067,  -4.76190476,  14.28571429],\n",
       "       [  1.83246073,   1.06007067,   4.76190476,  -3.57142857],\n",
       "       [ -6.02094241,  -4.82921084,  -4.76190476,  -3.57142857],\n",
       "       [  0.52356021,  -2.47349823,   4.76190476, -21.42857143]])"
      ]
     },
     "execution_count": 11,
     "metadata": {},
     "output_type": "execute_result"
    }
   ],
   "source": [
    "import numpy as np\n",
    "from sklearn.datasets import load_iris\n",
    "\n",
    "data = load_iris()\n",
    "X = data.data[:10]\n",
    "\n",
    "scratch_scaler = ScratchStandardScaler()\n",
    "scratch_scaler.fit(X)\n",
    "print(\"平均 :\", scratch_scaler.mean_)\n",
    "print(\"分散 :\", scratch_scaler.var_)\n",
    "X_std = scratch_scaler.transform(X)\n",
    "X_std"
   ]
  },
  {
   "cell_type": "markdown",
   "metadata": {},
   "source": [
    "# 【課題4】 四則演算を行うクラスの作成"
   ]
  },
  {
   "cell_type": "markdown",
   "metadata": {},
   "source": [
    "ExampleClassは足し算のメソッドを持っていますが、これに引き算、掛け算、割り算のメソッドを加えてください。  \n",
    "\n",
    "また、コンストラクタに入力されたvalueが文字列や配列など数値以外だった場合には警告文を出し、self.value=0とするコードを追加してください。  \n",
    "\n",
    "クラス名や説明文も適切に書き換えてください。"
   ]
  },
  {
   "cell_type": "code",
   "execution_count": 12,
   "metadata": {},
   "outputs": [
    {
     "name": "stdout",
     "output_type": "stream",
     "text": [
      "初期値1000が設定されました\n",
      "value : 1000\n",
      "value : 1003\n",
      "value : 1001\n",
      "value : 3003\n",
      "value : 1501.5\n",
      "0で割ってはいけません\n",
      "value : 1501.5\n",
      "数値を入力してください\n",
      "value : 1501.5\n"
     ]
    }
   ],
   "source": [
    "class ArithmeticOperationsClass():\n",
    "    \"\"\"\n",
    "    説明用の簡単なクラス\n",
    "\n",
    "    Parameters\n",
    "    ----------\n",
    "    value : float or int\n",
    "        初期値\n",
    "\n",
    "    Attributes\n",
    "    ----------\n",
    "    value : float or int\n",
    "        計算結果\n",
    "    \"\"\"\n",
    "      \n",
    "    def __init__(self, value):\n",
    "        import warnings\n",
    "        if not  (isinstance(value, int) or isinstance(value, float)):\n",
    "            value = 0\n",
    "            warnings.warn('数値を入力してください')\n",
    "        else:\n",
    "            pass\n",
    "            \n",
    "        \n",
    "        self.value = value\n",
    "        print(\"初期値{}が設定されました\".format(self.value))\n",
    "        \n",
    "    def add(self, value2):\n",
    "        \"\"\"\n",
    "        受け取った引数をself.valueに加える\n",
    "        \"\"\"\n",
    "        try:\n",
    "            self.value += value2\n",
    "        except TypeError:\n",
    "            print('数値を入力してください')\n",
    "        \n",
    "    \n",
    "    def subtraction(self, value3):\n",
    "        \"\"\"\n",
    "        受け取った引数をself.valueから引く\n",
    "        \"\"\"\n",
    "        try:\n",
    "            self.value -= value3\n",
    "        except TypeError:\n",
    "            print('数値を入力してください')\n",
    "        \n",
    "    def multiplication(self, value4):\n",
    "        \"\"\"\n",
    "        受け取った引数をself.valueに掛ける\n",
    "        \"\"\"\n",
    "        try:\n",
    "            self.value *= value4\n",
    "        except TypeError:\n",
    "            print('数値を入力してください')\n",
    "        \n",
    "    def division(self, value5):\n",
    "        \"\"\"\n",
    "        受け取った引数をself.valueに割る\n",
    "        \"\"\"\n",
    "        try:\n",
    "            self.value /= value5\n",
    "        except ZeroDivisionError:\n",
    "            print('0で割ってはいけません')\n",
    "        except TypeError:\n",
    "            print('数値を入力してください')\n",
    "\n",
    "example = ArithmeticOperationsClass(1000)\n",
    "print(\"value :\", example.value)\n",
    "example.add(3)\n",
    "print(\"value :\", example.value)\n",
    "example.subtraction(2)\n",
    "print(\"value :\", example.value)\n",
    "example.multiplication(3)\n",
    "print(\"value :\", example.value)\n",
    "example.division(2)\n",
    "print(\"value :\", example.value)\n",
    "example.division(0)\n",
    "print(\"value :\", example.value)\n",
    "example.add(\"wwww\")\n",
    "print(\"value :\", example.value)"
   ]
  },
  {
   "cell_type": "code",
   "execution_count": null,
   "metadata": {},
   "outputs": [],
   "source": []
  },
  {
   "cell_type": "code",
   "execution_count": null,
   "metadata": {},
   "outputs": [],
   "source": []
  }
 ],
 "metadata": {
  "kernelspec": {
   "display_name": "Python 3",
   "language": "python",
   "name": "python3"
  },
  "language_info": {
   "codemirror_mode": {
    "name": "ipython",
    "version": 3
   },
   "file_extension": ".py",
   "mimetype": "text/x-python",
   "name": "python",
   "nbconvert_exporter": "python",
   "pygments_lexer": "ipython3",
   "version": "3.6.7"
  }
 },
 "nbformat": 4,
 "nbformat_minor": 2
}
