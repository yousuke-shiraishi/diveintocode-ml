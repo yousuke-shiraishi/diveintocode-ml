{
 "cells": [
  {
   "cell_type": "code",
   "execution_count": 13,
   "metadata": {},
   "outputs": [
    {
     "name": "stderr",
     "output_type": "stream",
     "text": [
      "/anaconda3/envs/DIC/lib/python3.6/site-packages/sklearn/utils/validation.py:595: DataConversionWarning: Data with input dtype int64 was converted to float64 by StandardScaler.\n",
      "  warnings.warn(msg, DataConversionWarning)\n",
      "/anaconda3/envs/DIC/lib/python3.6/site-packages/sklearn/utils/validation.py:595: DataConversionWarning: Data with input dtype int64 was converted to float64 by StandardScaler.\n",
      "  warnings.warn(msg, DataConversionWarning)\n",
      "/anaconda3/envs/DIC/lib/python3.6/site-packages/sklearn/utils/validation.py:595: DataConversionWarning: Data with input dtype int64 was converted to float64 by StandardScaler.\n",
      "  warnings.warn(msg, DataConversionWarning)\n",
      "/anaconda3/envs/DIC/lib/python3.6/site-packages/sklearn/utils/validation.py:595: DataConversionWarning: Data with input dtype int64 was converted to float64 by StandardScaler.\n",
      "  warnings.warn(msg, DataConversionWarning)\n"
     ]
    }
   ],
   "source": [
    "import numpy as np\n",
    "import matplotlib.pyplot as plt\n",
    "import pandas as pd\n",
    "from sklearn.preprocessing import StandardScaler\n",
    "from sklearn.model_selection import train_test_split\n",
    "from pysnooper import snoop\n",
    "from sklearn.datasets import load_iris\n",
    "from matplotlib.colors import ListedColormap\n",
    "import matplotlib.patches as mpatches\n",
    "import pickle\n",
    "\n",
    "iris = load_iris()\n",
    "X = iris.data\n",
    "X= X[50:,[0,2]] #アイリスの特徴量を２つに限定\n",
    "X = np.array(X)\n",
    "y =  iris.target.reshape(-1,1)\n",
    "y= y[50:] #versicolorとvirginicaに限定\n",
    "num_test = 0.20\n",
    "X_train, X_test, y_train, y_test = train_test_split(X, y, test_size=num_test, random_state=23)\n",
    "sc = StandardScaler()\n",
    "\n",
    "X_train_std = sc.fit_transform(X_train)\n",
    "X_test_std = sc.fit_transform(X_test)\n",
    "y_train_std = sc.fit_transform(y_train)\n",
    "y_test_std = sc.fit_transform(y_test)"
   ]
  },
  {
   "cell_type": "code",
   "execution_count": 14,
   "metadata": {},
   "outputs": [
    {
     "data": {
      "text/plain": [
       "(100, 2)"
      ]
     },
     "execution_count": 14,
     "metadata": {},
     "output_type": "execute_result"
    }
   ],
   "source": [
    "X.shape"
   ]
  },
  {
   "cell_type": "code",
   "execution_count": 15,
   "metadata": {},
   "outputs": [],
   "source": [
    "def decision_region(X_train, y_train, model, step=0.01, title='decision region', xlabel='xlabel', ylabel='ylabel', target_names=['versicolor', 'virginica']):\n",
    "    \"\"\"\n",
    "    2値分類を2次元の特徴量で学習したモデルの決定領域を描く。\n",
    "    背景の色が学習したモデルによる推定値から描画される。\n",
    "    散布図の点は学習用データである。\n",
    "\n",
    "    Parameters\n",
    "    ----------------\n",
    "    X_train : ndarray, shape(n_samples, 2)\n",
    "        学習用データの特徴量\n",
    "    y_train : ndarray, shape(n_samples,)\n",
    "        学習用データの正解値\n",
    "    model : object\n",
    "        学習したモデルのインスンタスを入れる\n",
    "    step : float, (default : 0.1)\n",
    "        推定値を計算する間隔を設定する\n",
    "    title : str\n",
    "        グラフのタイトルの文章を与える\n",
    "    xlabel, ylabel : str\n",
    "        軸ラベルの文章を与える\n",
    "    target_names= : list of str\n",
    "        凡例の一覧を与える\n",
    "    \"\"\"\n",
    "    # setting\n",
    "    scatter_color = ['red', 'blue']\n",
    "    contourf_color = ['pink', 'skyblue']\n",
    "    n_class = 2\n",
    "\n",
    "    # pred\n",
    "    mesh_f0, mesh_f1  = np.meshgrid(np.arange(np.min(X_train[:,0])-0.5, np.max(X_train[:,0])+0.5, step), np.arange(np.min(X_train[:,1])-0.5, np.max(X_train[:,1])+0.5, step))\n",
    "    mesh = np.c_[np.ravel(mesh_f0),np.ravel(mesh_f1)]\n",
    "    pred = model.predict(mesh).reshape(mesh_f0.shape)\n",
    "\n",
    "    # plot\n",
    "    plt.title(title)\n",
    "    plt.xlabel(xlabel)\n",
    "    plt.ylabel(ylabel)\n",
    "    plt.contourf(mesh_f0, mesh_f1, pred, n_class-1, cmap=ListedColormap(contourf_color))\n",
    "    plt.contour(mesh_f0, mesh_f1, pred, n_class-1, colors='y', linewidths=3, alpha=0.5)\n",
    "    for i, target in enumerate(set(y_train)):\n",
    "        plt.scatter(X_train[y_train==target][:, 0], X_train[y_train==target][:, 1], s=80, color=scatter_color[i], label=target_names[i], marker='o')\n",
    "    patches = [mpatches.Patch(color=scatter_color[i], label=target_names[i]) for i in range(n_class)]\n",
    "    plt.legend(handles=patches)\n",
    "    plt.legend()\n",
    "    plt.show()"
   ]
  },
  {
   "cell_type": "code",
   "execution_count": 16,
   "metadata": {},
   "outputs": [
    {
     "data": {
      "text/plain": [
       "(100, 1)"
      ]
     },
     "execution_count": 16,
     "metadata": {},
     "output_type": "execute_result"
    }
   ],
   "source": [
    "y.shape"
   ]
  },
  {
   "cell_type": "code",
   "execution_count": 17,
   "metadata": {},
   "outputs": [],
   "source": [
    "class ScratchLogisticRegression():\n",
    "    \"\"\"\n",
    "    ロジスティック回帰のスクラッチ実装\n",
    "\n",
    "    Parameters\n",
    "    ----------\n",
    "    num_iter : int\n",
    "      イテレーション数\n",
    "    lr : float\n",
    "      学習率\n",
    "    no_bias : bool\n",
    "      バイアス項を入れない場合はTrue\n",
    "    verbose : bool\n",
    "      学習過程を出力する場合はTrue\n",
    "\n",
    "    Attributes\n",
    "    ----------\n",
    "    self.coef_ : 次の形のndarray, shape (n_features,)\n",
    "      パラメータ\n",
    "    self.loss : 次の形のndarray, shape (self.iter,)\n",
    "      学習用データに対する損失の記録\n",
    "    self.val_loss : 次の形のndarray, shape (self.iter,)\n",
    "      検証用データに対する損失の記録\n",
    "\n",
    "    \"\"\"\n",
    "\n",
    "    def __init__(self, num_iter, lr, bias, verbose):\n",
    "        # ハイパーパラメータを属性として記録\n",
    "        self.iter = num_iter\n",
    "        self.lr = lr\n",
    "        self.bias = bias\n",
    "        self.verbose = verbose\n",
    "        # 損失を記録する配列を用意\n",
    "        self.loss = np.zeros(self.iter)\n",
    "        self.val_loss = np.zeros(self.iter)\n",
    "\n",
    "    def fit(self, X, y, X_val=None, y_val=None,lamda = 0.18):\n",
    "        \"\"\"\n",
    "        線形回帰を学習する。検証用データが入力された場合はそれに対する損失と精度もイテレーションごとに計算する。\n",
    "\n",
    "        Parameters\n",
    "        ----------\n",
    "        X : 次の形のndarray, shape (n_samples, n_features)\n",
    "            学習用データの特徴量\n",
    "        y : 次の形のndarray, shape (n_samples, )\n",
    "            学習用データの正解値\n",
    "        X_val : 次の形のndarray, shape (n_samples, n_features)\n",
    "            検証用データの特徴量\n",
    "        y_val : 次の形のndarray, shape (n_samples, )\n",
    "            検証用データの正解値\n",
    "        \"\"\"\n",
    "        self.loss\n",
    "        self.val_loss\n",
    "        self.X = np.array(X)\n",
    "        self.y = y\n",
    "        self.y = self.y.reshape(-1,1)\n",
    "        self.lamda = lamda\n",
    "        self.X = X\n",
    "        self.X_val = X_val\n",
    "        self.y_val = y_val\n",
    "        self.theta = np.random.randn(self.X.shape[1],1)\n",
    "        if self.bias is not None:\n",
    "            self.X = np.insert(self.X, 0, np.ones(self.X.shape[0]),axis=1)\n",
    "            self.theta = np.random.randn(self.X.shape[1],1)\n",
    "        if X_val is not None and y_val is not None and self.bias is not None:\n",
    "            self.X_val = np.insert(self.X_val, 0, np.ones(self.X_val.shape[0]),axis=1)\n",
    "        self.y = y\n",
    "        self._gradient_descent()\n",
    "\n",
    "        if self.verbose:\n",
    "            self.show_loss_plt()\n",
    "            #verboseをTrueにした際は学習過程を出力\n",
    "    def _linear_hypothesis(self,X):\n",
    "        \"\"\"\n",
    "        線形の仮定関数を計算する\n",
    "\n",
    "        Parameters\n",
    "        ----------\n",
    "        X : 次の形のndarray, shape (n_samples, n_features)\n",
    "          学習データ\n",
    "\n",
    "        Returns\n",
    "        -------\n",
    "          次の形のndarray, shape (n_samples, 1)\n",
    "          線形の仮定関数による推定結果\n",
    "\n",
    "        \"\"\"\n",
    "        h = np.dot(X,self.theta)\n",
    "        return h\n",
    "\n",
    "            \n",
    "    def _gradient_descent(self):\n",
    "        \"\"\"\n",
    "        線形の仮定関数を計算する\n",
    "\n",
    "\n",
    "        Returns\n",
    "        -------\n",
    "          次の形のndarray, shape (n_features, 1)\n",
    "          線形の仮定関数による推定結果\n",
    "\n",
    "        \"\"\"\n",
    "        \n",
    "        m =  len(self.X)\n",
    "        for i in range(self.iter):\n",
    "            if self.X_val is not None and self.y_val  is not None:\n",
    "                if i == 0: #初項は重み付けが別\n",
    "                    self.val_loss[i] = self.cost_function(self.X_val,self.y_val)\n",
    "                    self.theta = self.theta - self.lr * np.dot(self.X.T,(self.sigmoid(self._linear_hypothesis(self.X)) - self.y))/m\n",
    "                else:\n",
    "                    self.val_loss[i] = self.cost_function(self.X_val,self.y_val)\n",
    "                    self.loss[i] = self.cost_function(self.X,self.y)\n",
    "                    self.theta = self.theta - self.lr * np.dot(self.X.T,(self.sigmoid(self._linear_hypothesis(self.X)) - self.y))/m - self.lamda * self.theta / m\n",
    "            else: #バイアス無し\n",
    "                self.loss[i]= self.cost_function(self.X,self.y)\n",
    "                self.theta = self.theta - self.lr * np.dot(self.X.T,(self.sigmoid(self._linear_hypothesis(self.X)) - self.y))/m - self.lamda * self.theta / m\n",
    "        return self.theta #重みを返す\n",
    "    \n",
    "    \n",
    "    \n",
    "    def show_loss_plt(self):\n",
    "        sr_itr =[]\n",
    "        for i in range(0,self.iter):\n",
    "            sr_itr.append(i)\n",
    "            \n",
    "        fig = plt.figure()\n",
    "        ax = fig.add_subplot(1, 1, 1)\n",
    "        \n",
    "        ax.plot(sr_itr,self.loss,color=\"g\", label = 'loss')\n",
    "        #lossはグリーン\n",
    "        if (self.X_val is not None) and (self.y_val  is not None):\n",
    "        #val_lossは青\n",
    "            ax.plot(sr_itr,self.val_loss,color=\"b\", label = 'val_loss')\n",
    "        ax.set_xlabel('イテレータの回数')\n",
    "        ax.set_ylabel('誤差関数の値')\n",
    "        plt.show()\n",
    "        self.loss =[]\n",
    "        self.val_loss =[]\n",
    "    \n",
    "    \n",
    "    def sigmoid(self,X):\n",
    "        \"\"\"\n",
    "        活性化関数を計算する\n",
    "\n",
    "        Parameters\n",
    "        ----------\n",
    "        X : 次の形のndarray, shape (n_samples, n_features)\n",
    "          学習データ\n",
    "\n",
    "        Returns\n",
    "        -------\n",
    "          次の形のndarray, shape (n_samples, 1)\n",
    "          非線形の活性化関数による推定結果\n",
    "        \"\"\"\n",
    "        return 1 / (1 + np.exp(-X))\n",
    "    \n",
    "    def cost_function(self,X,y):\n",
    "        \"\"\"\n",
    "        コスト関数に正則化項をつけて計算\n",
    "\n",
    "        Parameters\n",
    "        ----------\n",
    "\n",
    "        Returns\n",
    "        ----------\n",
    "        cost_f : numpy.float\n",
    "\n",
    "        \"\"\"\n",
    "        y_pred = self.sigmoid(self._linear_hypothesis(X))\n",
    "        cost_f = (-y*np.log(y_pred) -(1- y)*np.log(1-y_pred)).mean() +self.lamda*((self.theta**2).mean())/2.0                 \n",
    "        return cost_f\n",
    "    \n",
    "    def predict(self,X_val):\n",
    "        \"\"\"\n",
    "        線形回帰を使い推定する。\n",
    "\n",
    "        Parameters\n",
    "        ----------\n",
    "        X : 次の形のndarray, shape (n_samples, n_features)\n",
    "            サンプル\n",
    "\n",
    "        Returns\n",
    "        -------\n",
    "            次の形のndarray, shape (n_samples, 1)\n",
    "            線形回帰による推定結果\n",
    "        \"\"\"\n",
    "        predict_y = self.sigmoid(self._linear_hypothesis(X_val))\n",
    "        return predict_y\n",
    "    \n",
    "    def theta_save(self):\n",
    "        filename = 'finalized_model.sav'\n",
    "        pickle.dump(self.theta, open(filename, 'wb'))"
   ]
  },
  {
   "cell_type": "code",
   "execution_count": 18,
   "metadata": {},
   "outputs": [],
   "source": [
    "sr = ScratchLogisticRegression(2000,0.003,None,True)"
   ]
  },
  {
   "cell_type": "code",
   "execution_count": 19,
   "metadata": {},
   "outputs": [
    {
     "data": {
      "image/png": "[encoded data removed]",
      "text/plain": [
       "<Figure size 432x288 with 1 Axes>"
      ]
     },
     "metadata": {
      "needs_background": "light"
     },
     "output_type": "display_data"
    }
   ],
   "source": [
    "sr.fit(X_train_std,y_train_std)"
   ]
  },
  {
   "cell_type": "code",
   "execution_count": 20,
   "metadata": {},
   "outputs": [
    {
     "data": {
      "image/png": "[encoded data removed]",
      "text/plain": [
       "<Figure size 432x288 with 1 Axes>"
      ]
     },
     "metadata": {
      "needs_background": "light"
     },
     "output_type": "display_data"
    }
   ],
   "source": [
    "sr = ScratchLogisticRegression(2000,0.003,True,True)\n",
    "sr.fit(X_train_std,y_train_std,X_test_std,y_test_std)"
   ]
  },
  {
   "cell_type": "code",
   "execution_count": 21,
   "metadata": {},
   "outputs": [
    {
     "data": {
      "image/png": "[encoded data removed]",
      "text/plain": [
       "<Figure size 432x288 with 1 Axes>"
      ]
     },
     "metadata": {
      "needs_background": "light"
     },
     "output_type": "display_data"
    }
   ],
   "source": [
    "sr = ScratchLogisticRegression(2000,0.003,None,True)\n",
    "sr.fit(X_train_std,y_train_std,X_test_std,y_test_std)\n",
    "pred_y = sr.predict(X_test_std)"
   ]
  },
  {
   "cell_type": "code",
   "execution_count": 22,
   "metadata": {},
   "outputs": [
    {
     "data": {
      "text/plain": [
       "array([[0.47233231],\n",
       "       [0.75429824],\n",
       "       [0.57601587],\n",
       "       [0.86405585],\n",
       "       [0.41412145],\n",
       "       [0.34753405],\n",
       "       [0.21719629],\n",
       "       [0.82949345],\n",
       "       [0.3751937 ],\n",
       "       [0.25451463],\n",
       "       [0.84563009],\n",
       "       [0.34076869],\n",
       "       [0.36152772],\n",
       "       [0.5577678 ],\n",
       "       [0.59376756],\n",
       "       [0.17292698],\n",
       "       [0.18399922],\n",
       "       [0.84563009],\n",
       "       [0.2406702 ],\n",
       "       [0.62570681]])"
      ]
     },
     "execution_count": 22,
     "metadata": {},
     "output_type": "execute_result"
    }
   ],
   "source": [
    "pred_y"
   ]
  },
  {
   "cell_type": "code",
   "execution_count": 23,
   "metadata": {},
   "outputs": [
    {
     "data": {
      "image/png": "[encoded data removed]",
      "text/plain": [
       "<Figure size 432x288 with 1 Axes>"
      ]
     },
     "metadata": {
      "needs_background": "light"
     },
     "output_type": "display_data"
    }
   ],
   "source": [
    "decision_region(X_train_std,y_train_std.flatten(),sr)"
   ]
  },
  {
   "cell_type": "markdown",
   "metadata": {},
   "source": [
    "# 【問題5】（アドバンス課題）重みの保存"
   ]
  },
  {
   "cell_type": "code",
   "execution_count": 24,
   "metadata": {},
   "outputs": [],
   "source": [
    "sr.theta_save()"
   ]
  },
  {
   "cell_type": "markdown",
   "metadata": {},
   "source": [
    "# 【問題6】分類と回帰"
   ]
  },
  {
   "cell_type": "markdown",
   "metadata": {},
   "source": [
    "分類は決まったカテゴリを分類するものつまり離散値を扱う。回帰は今あるデータからの予測で連続値を予測することもできる。"
   ]
  }
 ],
 "metadata": {
  "kernelspec": {
   "display_name": "Python 3",
   "language": "python",
   "name": "python3"
  },
  "language_info": {
   "codemirror_mode": {
    "name": "ipython",
    "version": 3
   },
   "file_extension": ".py",
   "mimetype": "text/x-python",
   "name": "python",
   "nbconvert_exporter": "python",
   "pygments_lexer": "ipython3",
   "version": "3.6.7"
  }
 },
 "nbformat": 4,
 "nbformat_minor": 2
}
