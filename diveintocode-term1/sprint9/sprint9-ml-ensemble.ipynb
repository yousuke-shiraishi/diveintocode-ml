{
 "cells": [
  {
   "cell_type": "markdown",
   "metadata": {},
   "source": [
    "3種類のアンサンブル学習の効果を小さめのデータセットで確認していきます。\n",
    "\n",
    "ブレンディング\n",
    "バギング\n",
    "スタッキング"
   ]
  },
  {
   "cell_type": "markdown",
   "metadata": {},
   "source": [
    "# 【問題1】ブレンディング"
   ]
  },
  {
   "cell_type": "markdown",
   "metadata": {},
   "source": [
    "ブレンディングを実装し、単一モデルより精度があがる例を最低3つ示してください。  \n",
    "精度があがるとは、検証用データに対する平均二乗誤差（MSE）が小さくなることを示します。"
   ]
  },
  {
   "cell_type": "code",
   "execution_count": 327,
   "metadata": {},
   "outputs": [],
   "source": [
    "import numpy as np\n",
    "import pandas as pd\n",
    "from sklearn.linear_model import LogisticRegression,Lasso,ElasticNet\n",
    "from sklearn.tree import DecisionTreeRegressor\n",
    "from sklearn import preprocessing, ensemble, tree, linear_model #機械学習用のライブラリを利用\n",
    "from sklearn.metrics import mean_squared_error\n",
    "from sklearn.model_selection import train_test_split\n",
    "import matplotlib.pyplot as plt\n",
    "from sklearn.preprocessing import StandardScaler\n",
    "from sklearn.ensemble import BaggingRegressor\n",
    "from sklearn.model_selection import KFold\n",
    "from sklearn.svm import SVR\n",
    "from sklearn.linear_model import LinearRegression\n",
    "import lightgbm as lgb"
   ]
  },
  {
   "cell_type": "code",
   "execution_count": 328,
   "metadata": {},
   "outputs": [],
   "source": [
    "df = pd.read_csv('train.csv')"
   ]
  },
  {
   "cell_type": "code",
   "execution_count": 329,
   "metadata": {},
   "outputs": [],
   "source": [
    "clf1 = lgb.LGBMRegressor()\n",
    "clf2 = DecisionTreeRegressor(max_depth=2)\n",
    "clf3 = ElasticNet()"
   ]
  },
  {
   "cell_type": "code",
   "execution_count": 330,
   "metadata": {},
   "outputs": [],
   "source": [
    "X =df.loc[:,['GrLivArea','YearBuilt']]\n",
    "y = df.loc[:,['SalePrice']]"
   ]
  },
  {
   "cell_type": "code",
   "execution_count": 331,
   "metadata": {},
   "outputs": [
    {
     "data": {
      "text/html": [
       "<div>\n",
       "<style scoped>\n",
       "    .dataframe tbody tr th:only-of-type {\n",
       "        vertical-align: middle;\n",
       "    }\n",
       "\n",
       "    .dataframe tbody tr th {\n",
       "        vertical-align: top;\n",
       "    }\n",
       "\n",
       "    .dataframe thead th {\n",
       "        text-align: right;\n",
       "    }\n",
       "</style>\n",
       "<table border=\"1\" class=\"dataframe\">\n",
       "  <thead>\n",
       "    <tr style=\"text-align: right;\">\n",
       "      <th></th>\n",
       "      <th>GrLivArea</th>\n",
       "      <th>YearBuilt</th>\n",
       "    </tr>\n",
       "  </thead>\n",
       "  <tbody>\n",
       "    <tr>\n",
       "      <th>count</th>\n",
       "      <td>1460.000000</td>\n",
       "      <td>1460.000000</td>\n",
       "    </tr>\n",
       "    <tr>\n",
       "      <th>mean</th>\n",
       "      <td>1515.463699</td>\n",
       "      <td>1971.267808</td>\n",
       "    </tr>\n",
       "    <tr>\n",
       "      <th>std</th>\n",
       "      <td>525.480383</td>\n",
       "      <td>30.202904</td>\n",
       "    </tr>\n",
       "    <tr>\n",
       "      <th>min</th>\n",
       "      <td>334.000000</td>\n",
       "      <td>1872.000000</td>\n",
       "    </tr>\n",
       "    <tr>\n",
       "      <th>25%</th>\n",
       "      <td>1129.500000</td>\n",
       "      <td>1954.000000</td>\n",
       "    </tr>\n",
       "    <tr>\n",
       "      <th>50%</th>\n",
       "      <td>1464.000000</td>\n",
       "      <td>1973.000000</td>\n",
       "    </tr>\n",
       "    <tr>\n",
       "      <th>75%</th>\n",
       "      <td>1776.750000</td>\n",
       "      <td>2000.000000</td>\n",
       "    </tr>\n",
       "    <tr>\n",
       "      <th>max</th>\n",
       "      <td>5642.000000</td>\n",
       "      <td>2010.000000</td>\n",
       "    </tr>\n",
       "  </tbody>\n",
       "</table>\n",
       "</div>"
      ],
      "text/plain": [
       "         GrLivArea    YearBuilt\n",
       "count  1460.000000  1460.000000\n",
       "mean   1515.463699  1971.267808\n",
       "std     525.480383    30.202904\n",
       "min     334.000000  1872.000000\n",
       "25%    1129.500000  1954.000000\n",
       "50%    1464.000000  1973.000000\n",
       "75%    1776.750000  2000.000000\n",
       "max    5642.000000  2010.000000"
      ]
     },
     "execution_count": 331,
     "metadata": {},
     "output_type": "execute_result"
    }
   ],
   "source": [
    "X.describe()"
   ]
  },
  {
   "cell_type": "code",
   "execution_count": 332,
   "metadata": {},
   "outputs": [
    {
     "data": {
      "text/html": [
       "<div>\n",
       "<style scoped>\n",
       "    .dataframe tbody tr th:only-of-type {\n",
       "        vertical-align: middle;\n",
       "    }\n",
       "\n",
       "    .dataframe tbody tr th {\n",
       "        vertical-align: top;\n",
       "    }\n",
       "\n",
       "    .dataframe thead th {\n",
       "        text-align: right;\n",
       "    }\n",
       "</style>\n",
       "<table border=\"1\" class=\"dataframe\">\n",
       "  <thead>\n",
       "    <tr style=\"text-align: right;\">\n",
       "      <th></th>\n",
       "      <th>SalePrice</th>\n",
       "    </tr>\n",
       "  </thead>\n",
       "  <tbody>\n",
       "    <tr>\n",
       "      <th>count</th>\n",
       "      <td>1460.000000</td>\n",
       "    </tr>\n",
       "    <tr>\n",
       "      <th>mean</th>\n",
       "      <td>180921.195890</td>\n",
       "    </tr>\n",
       "    <tr>\n",
       "      <th>std</th>\n",
       "      <td>79442.502883</td>\n",
       "    </tr>\n",
       "    <tr>\n",
       "      <th>min</th>\n",
       "      <td>34900.000000</td>\n",
       "    </tr>\n",
       "    <tr>\n",
       "      <th>25%</th>\n",
       "      <td>129975.000000</td>\n",
       "    </tr>\n",
       "    <tr>\n",
       "      <th>50%</th>\n",
       "      <td>163000.000000</td>\n",
       "    </tr>\n",
       "    <tr>\n",
       "      <th>75%</th>\n",
       "      <td>214000.000000</td>\n",
       "    </tr>\n",
       "    <tr>\n",
       "      <th>max</th>\n",
       "      <td>755000.000000</td>\n",
       "    </tr>\n",
       "  </tbody>\n",
       "</table>\n",
       "</div>"
      ],
      "text/plain": [
       "           SalePrice\n",
       "count    1460.000000\n",
       "mean   180921.195890\n",
       "std     79442.502883\n",
       "min     34900.000000\n",
       "25%    129975.000000\n",
       "50%    163000.000000\n",
       "75%    214000.000000\n",
       "max    755000.000000"
      ]
     },
     "execution_count": 332,
     "metadata": {},
     "output_type": "execute_result"
    }
   ],
   "source": [
    "y.describe()"
   ]
  },
  {
   "cell_type": "code",
   "execution_count": 333,
   "metadata": {},
   "outputs": [
    {
     "name": "stderr",
     "output_type": "stream",
     "text": [
      "/anaconda3/envs/DIC/lib/python3.6/site-packages/sklearn/utils/validation.py:595: DataConversionWarning: Data with input dtype int64 was converted to float64 by StandardScaler.\n",
      "  warnings.warn(msg, DataConversionWarning)\n",
      "/anaconda3/envs/DIC/lib/python3.6/site-packages/sklearn/utils/validation.py:595: DataConversionWarning: Data with input dtype int64 was converted to float64 by StandardScaler.\n",
      "  warnings.warn(msg, DataConversionWarning)\n",
      "/anaconda3/envs/DIC/lib/python3.6/site-packages/sklearn/utils/validation.py:595: DataConversionWarning: Data with input dtype int64 was converted to float64 by StandardScaler.\n",
      "  warnings.warn(msg, DataConversionWarning)\n",
      "/anaconda3/envs/DIC/lib/python3.6/site-packages/sklearn/utils/validation.py:595: DataConversionWarning: Data with input dtype int64 was converted to float64 by StandardScaler.\n",
      "  warnings.warn(msg, DataConversionWarning)\n"
     ]
    }
   ],
   "source": [
    "num_test = 0.20\n",
    "sc = StandardScaler()\n",
    "X=np.array(X)\n",
    "y=np.array(y)\n",
    "X_train, X_test, y_train, y_test = train_test_split(X, y, test_size=num_test, random_state=23)\n",
    "sc.fit(X_train)\n",
    "X_train=sc.transform(X_train)\n",
    "sc.fit(X_test)\n",
    "X_test=sc.transform(X_test)"
   ]
  },
  {
   "cell_type": "code",
   "execution_count": 334,
   "metadata": {},
   "outputs": [
    {
     "name": "stderr",
     "output_type": "stream",
     "text": [
      "/anaconda3/envs/DIC/lib/python3.6/site-packages/sklearn/utils/validation.py:761: DataConversionWarning: A column-vector y was passed when a 1d array was expected. Please change the shape of y to (n_samples, ), for example using ravel().\n",
      "  y = column_or_1d(y, warn=True)\n"
     ]
    },
    {
     "data": {
      "text/plain": [
       "21.3135193002795"
      ]
     },
     "execution_count": 334,
     "metadata": {},
     "output_type": "execute_result"
    }
   ],
   "source": [
    "clf1.fit(X_train,y_train) #線形回帰\n",
    "y_pred1 = clf1.predict(X_test)\n",
    "np.log(mean_squared_error(y_test ,y_pred1))"
   ]
  },
  {
   "cell_type": "code",
   "execution_count": 335,
   "metadata": {},
   "outputs": [
    {
     "data": {
      "text/plain": [
       "21.734726609958688"
      ]
     },
     "execution_count": 335,
     "metadata": {},
     "output_type": "execute_result"
    }
   ],
   "source": [
    "clf2.fit(X_train,y_train) #決定木\n",
    "y_pred2 = clf2.predict(X_test)\n",
    "np.log(mean_squared_error(y_test, y_pred2))"
   ]
  },
  {
   "cell_type": "code",
   "execution_count": 336,
   "metadata": {},
   "outputs": [
    {
     "data": {
      "text/plain": [
       "21.292246763650407"
      ]
     },
     "execution_count": 336,
     "metadata": {},
     "output_type": "execute_result"
    }
   ],
   "source": [
    "clf3.fit(X_train,y_train) #ElasticNet\n",
    "y_pred3 = clf3.predict(X_test)\n",
    "np.log(mean_squared_error(y_test, y_pred3))"
   ]
  },
  {
   "cell_type": "code",
   "execution_count": 337,
   "metadata": {},
   "outputs": [
    {
     "data": {
      "text/plain": [
       "21.198264315267572"
      ]
     },
     "execution_count": 337,
     "metadata": {},
     "output_type": "execute_result"
    }
   ],
   "source": [
    "y_pred_all = (y_pred1 + y_pred2 + y_pred3)/3 #単純に三つの回帰を足している\n",
    "np.log(mean_squared_error(y_test, y_pred_all))"
   ]
  },
  {
   "cell_type": "markdown",
   "metadata": {},
   "source": [
    "凝ったブレンディング。数値を微調整して良い回帰係数を出している。"
   ]
  },
  {
   "cell_type": "code",
   "execution_count": 338,
   "metadata": {},
   "outputs": [
    {
     "name": "stdout",
     "output_type": "stream",
     "text": [
      "21.059275607804445\n",
      "[1.5000000000000004, 0.1, 1.3000000000000003]\n"
     ]
    }
   ],
   "source": [
    "y3= 100\n",
    "best_param={}\n",
    "for x1 in np.arange(0.1,3.0,0.2):\n",
    "    for x2 in np.arange(0.1,3.0,0.2):\n",
    "        for x3 in np.arange(0.1,3.0,0.2):\n",
    "            y_pred_all = (y_pred1*x1+ y_pred2 * x2+ y_pred3 * x3)/3\n",
    "            y1 = (np.log(mean_squared_error(y_test, y_pred_all)))\n",
    "            best_param[y1] = [x1,x2,x3]\n",
    "            y3 = min(y3,y1)\n",
    "\n",
    "print(y3)\n",
    "print(best_param[y3]) #もっとも値の良い重みを出している"
   ]
  },
  {
   "cell_type": "code",
   "execution_count": 339,
   "metadata": {},
   "outputs": [],
   "source": [
    "clf1 = lgb.LGBMRegressor(reg_alpha=0.2)\n",
    "clf2 = DecisionTreeRegressor(max_depth=3)\n",
    "clf3 = ElasticNet(alpha=1.0, l1_ratio=0.5)"
   ]
  },
  {
   "cell_type": "code",
   "execution_count": 340,
   "metadata": {},
   "outputs": [
    {
     "name": "stderr",
     "output_type": "stream",
     "text": [
      "/anaconda3/envs/DIC/lib/python3.6/site-packages/sklearn/utils/validation.py:761: DataConversionWarning: A column-vector y was passed when a 1d array was expected. Please change the shape of y to (n_samples, ), for example using ravel().\n",
      "  y = column_or_1d(y, warn=True)\n"
     ]
    },
    {
     "data": {
      "text/plain": [
       "21.31351918788033"
      ]
     },
     "execution_count": 340,
     "metadata": {},
     "output_type": "execute_result"
    }
   ],
   "source": [
    "clf1.fit(X_train,y_train) #LinearRegression\n",
    "y_pred1 = clf1.predict(X_test)\n",
    "np.log(mean_squared_error(y_test ,y_pred1))"
   ]
  },
  {
   "cell_type": "code",
   "execution_count": 341,
   "metadata": {},
   "outputs": [
    {
     "data": {
      "text/plain": [
       "21.534825890573824"
      ]
     },
     "execution_count": 341,
     "metadata": {},
     "output_type": "execute_result"
    }
   ],
   "source": [
    "clf2.fit(X_train,y_train) #DecisionTreeRegressor\n",
    "y_pred2 = clf2.predict(X_test)\n",
    "np.log(mean_squared_error(y_test, y_pred2))"
   ]
  },
  {
   "cell_type": "code",
   "execution_count": 342,
   "metadata": {},
   "outputs": [
    {
     "data": {
      "text/plain": [
       "21.292246763650407"
      ]
     },
     "execution_count": 342,
     "metadata": {},
     "output_type": "execute_result"
    }
   ],
   "source": [
    "clf3.fit(X_train,y_train) #ElasticNet\n",
    "y_pred3 = clf3.predict(X_test)\n",
    "np.log(mean_squared_error(y_test, y_pred3))"
   ]
  },
  {
   "cell_type": "markdown",
   "metadata": {},
   "source": [
    "凝ったブレンディング回帰係数の値を微調整"
   ]
  },
  {
   "cell_type": "code",
   "execution_count": 343,
   "metadata": {},
   "outputs": [
    {
     "name": "stdout",
     "output_type": "stream",
     "text": [
      "21.059389636690575\n",
      "[1.5000000000000004, 0.1, 1.3000000000000003]\n"
     ]
    }
   ],
   "source": [
    "y3= 100\n",
    "best_param={}\n",
    "for x1 in np.arange(0.1,3.0,0.2):\n",
    "    for x2 in np.arange(0.1,3.0,0.2):\n",
    "        for x3 in np.arange(0.1,3.0,0.2):\n",
    "            y_pred_all = (y_pred1*x1+ y_pred2 * x2+ y_pred3 * x3)/3\n",
    "            y1 = (np.log(mean_squared_error(y_test, y_pred_all)))\n",
    "            best_param[y1] = [x1,x2,x3]\n",
    "            y3 = min(y3,y1)\n",
    "\n",
    "print(y3)\n",
    "print(best_param[y3]) #もっとも値の良い重みを出している"
   ]
  },
  {
   "cell_type": "code",
   "execution_count": 344,
   "metadata": {},
   "outputs": [],
   "source": [
    "clf1 = lgb.LGBMRegressor(class_weight='balanced')\n",
    "clf2 = DecisionTreeRegressor(max_depth=3)\n",
    "clf3 = ElasticNet(alpha=1.0, l1_ratio=0.5)"
   ]
  },
  {
   "cell_type": "code",
   "execution_count": 345,
   "metadata": {},
   "outputs": [
    {
     "name": "stderr",
     "output_type": "stream",
     "text": [
      "/anaconda3/envs/DIC/lib/python3.6/site-packages/sklearn/utils/validation.py:761: DataConversionWarning: A column-vector y was passed when a 1d array was expected. Please change the shape of y to (n_samples, ), for example using ravel().\n",
      "  y = column_or_1d(y, warn=True)\n"
     ]
    },
    {
     "data": {
      "text/plain": [
       "21.433809361462743"
      ]
     },
     "execution_count": 345,
     "metadata": {},
     "output_type": "execute_result"
    }
   ],
   "source": [
    "clf1.fit(X_train,y_train) #LinearRegression\n",
    "y_pred1 = clf1.predict(X_test)\n",
    "np.log(mean_squared_error(y_test ,y_pred1))"
   ]
  },
  {
   "cell_type": "code",
   "execution_count": 346,
   "metadata": {},
   "outputs": [
    {
     "data": {
      "text/plain": [
       "21.534825890573824"
      ]
     },
     "execution_count": 346,
     "metadata": {},
     "output_type": "execute_result"
    }
   ],
   "source": [
    "clf2.fit(X_train,y_train) #DecisionTreeRegressor\n",
    "y_pred2 = clf2.predict(X_test)\n",
    "np.log(mean_squared_error(y_test, y_pred2))"
   ]
  },
  {
   "cell_type": "code",
   "execution_count": 347,
   "metadata": {},
   "outputs": [
    {
     "data": {
      "text/plain": [
       "21.292246763650407"
      ]
     },
     "execution_count": 347,
     "metadata": {},
     "output_type": "execute_result"
    }
   ],
   "source": [
    "clf3.fit(X_train,y_train) #ElasticNet\n",
    "y_pred3 = clf3.predict(X_test)\n",
    "np.log(mean_squared_error(y_test, y_pred3))"
   ]
  },
  {
   "cell_type": "code",
   "execution_count": 348,
   "metadata": {},
   "outputs": [
    {
     "name": "stdout",
     "output_type": "stream",
     "text": [
      "21.078362463262167\n",
      "[1.3000000000000003, 0.1, 1.5000000000000004]\n"
     ]
    }
   ],
   "source": [
    "y3= 100\n",
    "best_param={}\n",
    "for x1 in np.arange(0.1,3.0,0.2):\n",
    "    for x2 in np.arange(0.1,3.0,0.2):\n",
    "        for x3 in np.arange(0.1,3.0,0.2):\n",
    "            y_pred_all = (y_pred1*x1+ y_pred2 * x2+ y_pred3 * x3)/3\n",
    "            y1 = (np.log(mean_squared_error(y_test, y_pred_all)))\n",
    "            best_param[y1] = [x1,x2,x3]\n",
    "            y3 = min(y3,y1)\n",
    "\n",
    "print(y3) #もっとも良い値\n",
    "print(best_param[y3]) #ベストな重みをチョイス"
   ]
  },
  {
   "cell_type": "markdown",
   "metadata": {},
   "source": [
    "# 【問題2】バギング"
   ]
  },
  {
   "cell_type": "code",
   "execution_count": 349,
   "metadata": {},
   "outputs": [],
   "source": [
    "X_train, X_test, y_train, y_test = train_test_split(X, y)"
   ]
  },
  {
   "cell_type": "code",
   "execution_count": 350,
   "metadata": {},
   "outputs": [],
   "source": [
    "models = {\n",
    "    'not bagging': DecisionTreeRegressor(),\n",
    "    'bagging': BaggingRegressor(DecisionTreeRegressor(), n_estimators=100) \n",
    "}"
   ]
  },
  {
   "cell_type": "code",
   "execution_count": 351,
   "metadata": {},
   "outputs": [
    {
     "name": "stdout",
     "output_type": "stream",
     "text": [
      "not bagging の最小２乗誤差 21.660825\n",
      "bagging の最小２乗誤差 21.222647\n",
      "not bagging の最小２乗誤差 21.663322\n",
      "bagging の最小２乗誤差 21.252014\n",
      "not bagging の最小２乗誤差 21.611018\n",
      "bagging の最小２乗誤差 21.234368\n",
      "not bagging の最小２乗誤差 21.657788\n",
      "bagging の最小２乗誤差 21.253630\n",
      "not bagging の最小２乗誤差 21.649945\n",
      "bagging の最小２乗誤差 21.221228\n",
      "not bagging の最小２乗誤差 21.668314\n",
      "bagging の最小２乗誤差 21.234013\n",
      "not bagging の最小２乗誤差 21.655490\n",
      "bagging の最小２乗誤差 21.213301\n",
      "not bagging の最小２乗誤差 21.646005\n",
      "bagging の最小２乗誤差 21.231983\n",
      "not bagging の最小２乗誤差 21.647643\n",
      "bagging の最小２乗誤差 21.211676\n",
      "not bagging の最小２乗誤差 21.670329\n",
      "bagging の最小２乗誤差 21.222225\n",
      "not bagging の最小２乗誤差 21.623924\n",
      "bagging の最小２乗誤差 21.212960\n",
      "not bagging の最小２乗誤差 21.645259\n",
      "bagging の最小２乗誤差 21.223080\n",
      "not bagging の最小２乗誤差 21.654856\n",
      "bagging の最小２乗誤差 21.245223\n",
      "not bagging の最小２乗誤差 21.650372\n",
      "bagging の最小２乗誤差 21.224994\n",
      "not bagging の最小２乗誤差 21.685797\n",
      "bagging の最小２乗誤差 21.233445\n",
      "not bagging の最小２乗誤差 21.678180\n",
      "bagging の最小２乗誤差 21.222357\n",
      "not bagging の最小２乗誤差 21.642488\n",
      "bagging の最小２乗誤差 21.220320\n",
      "not bagging の最小２乗誤差 21.688321\n",
      "bagging の最小２乗誤差 21.255942\n",
      "not bagging の最小２乗誤差 21.685980\n",
      "bagging の最小２乗誤差 21.212978\n",
      "not bagging の最小２乗誤差 21.686026\n",
      "bagging の最小２乗誤差 21.213073\n"
     ]
    }
   ],
   "source": [
    "for _ in range(20):\n",
    "    for model_name, model in models.items(): #DecisionTreeRegressorとBaggingRegressor(DecisionTreeRegressor()\n",
    "        model.fit(X_train, y_train.ravel())\n",
    "        y_pred = model.predict(X_test)\n",
    "        s = model_name\n",
    "        i = np.log(mean_squared_error(y_test, y_pred))\n",
    "        print('%s の最小２乗誤差 %f' % (s, i))"
   ]
  },
  {
   "cell_type": "markdown",
   "metadata": {},
   "source": [
    "# 【問題3】スタッキング"
   ]
  },
  {
   "cell_type": "code",
   "execution_count": 352,
   "metadata": {},
   "outputs": [],
   "source": [
    "df = pd.read_csv('train.csv')"
   ]
  },
  {
   "cell_type": "code",
   "execution_count": 353,
   "metadata": {},
   "outputs": [
    {
     "name": "stdout",
     "output_type": "stream",
     "text": [
      "(1460, 2)\n"
     ]
    }
   ],
   "source": [
    "X =df.loc[:,['GrLivArea','YearBuilt']]\n",
    "y = df.loc[:,['SalePrice']]\n",
    "X = np.array(X)\n",
    "y = np.array(y)\n",
    "print(X.shape)"
   ]
  },
  {
   "cell_type": "code",
   "execution_count": 354,
   "metadata": {},
   "outputs": [
    {
     "name": "stderr",
     "output_type": "stream",
     "text": [
      "/anaconda3/envs/DIC/lib/python3.6/site-packages/sklearn/utils/validation.py:595: DataConversionWarning: Data with input dtype int64 was converted to float64 by StandardScaler.\n",
      "  warnings.warn(msg, DataConversionWarning)\n",
      "/anaconda3/envs/DIC/lib/python3.6/site-packages/sklearn/utils/validation.py:595: DataConversionWarning: Data with input dtype int64 was converted to float64 by StandardScaler.\n",
      "  warnings.warn(msg, DataConversionWarning)\n",
      "/anaconda3/envs/DIC/lib/python3.6/site-packages/sklearn/utils/validation.py:595: DataConversionWarning: Data with input dtype int64 was converted to float64 by StandardScaler.\n",
      "  warnings.warn(msg, DataConversionWarning)\n",
      "/anaconda3/envs/DIC/lib/python3.6/site-packages/sklearn/utils/validation.py:595: DataConversionWarning: Data with input dtype int64 was converted to float64 by StandardScaler.\n",
      "  warnings.warn(msg, DataConversionWarning)\n"
     ]
    }
   ],
   "source": [
    "num_test = 0.20\n",
    "sc = StandardScaler()\n",
    "X_train, X_test, y_train, y_test = train_test_split(X, y, test_size=num_test, random_state=23)\n",
    "sc.fit(X_train)\n",
    "X_train=sc.transform(X_train)\n",
    "sc.fit(X_test)\n",
    "X_test=sc.transform(X_test)"
   ]
  },
  {
   "cell_type": "code",
   "execution_count": 355,
   "metadata": {},
   "outputs": [
    {
     "name": "stdout",
     "output_type": "stream",
     "text": [
      "new_X (1168, 2)\n"
     ]
    }
   ],
   "source": [
    "kf = KFold(n_splits=3)\n",
    "l = [0, 1, 2]\n",
    "lg = LinearRegression()\n",
    "dr = DecisionTreeRegressor()\n",
    "\n",
    "pred_y_lg=[]\n",
    "pred_y_dr=[]\n",
    "pred_y_lg_true=[]\n",
    "pred_y_dr_true=[]\n",
    "for train, test in kf.split(X_train):\n",
    "\n",
    "    X_train_train =np.array(X_train[train,:])\n",
    "    y_train_train =np.array(y_train[train,:])\n",
    "    X_train_test =np.array(X_train[test,:])\n",
    "    y_train_test =np.array(y_train[test,:])\n",
    "\n",
    "    lg.fit(X_train_train,y_train_train)\n",
    "    dr.fit(X_train_train,y_train_train)\n",
    "    prelg= lg.predict(X_train_test)\n",
    "    pred_y_lg.append(prelg)\n",
    "    predr = dr.predict(X_train_test)\n",
    "    pred_y_dr.append(predr)\n",
    "    true_prelg = lg.predict(X_test)\n",
    "    pred_y_lg_true.append(true_prelg)\n",
    "    true_predr = dr.predict(X_test)\n",
    "    pred_y_dr_true.append(true_predr)\n",
    "\n",
    "pred_y_lg_m = np.concatenate([pred_y_lg[0],pred_y_lg[1],pred_y_lg[2]], axis=0)\n",
    "pred_y_dr_m = np.concatenate([pred_y_dr[0],pred_y_dr[1],pred_y_dr[2]], axis=0)[:,np.newaxis]\n",
    "pred_ture_lg = np.mean(pred_y_lg_true,axis=0)\n",
    "pred_ture_dr = np.mean(pred_y_dr_true,axis=0)[:,np.newaxis]\n",
    "new_X = np.concatenate([pred_y_lg_m,pred_y_dr_m],axis=1)\n",
    "new_y = np.concatenate([pred_ture_lg,pred_ture_dr],axis=1)\n",
    "print(\"new_X\",new_X.shape)"
   ]
  },
  {
   "cell_type": "code",
   "execution_count": 356,
   "metadata": {},
   "outputs": [
    {
     "name": "stdout",
     "output_type": "stream",
     "text": [
      "new_X2 (1168, 2)\n"
     ]
    }
   ],
   "source": [
    "kf = KFold(n_splits=3)\n",
    "l = [0, 1, 2]\n",
    "sv = SVR(gamma=\"scale\")\n",
    "lg2 = LinearRegression()\n",
    "\n",
    "pred_y_sv=[]\n",
    "pred_y_lg=[]\n",
    "pred_y_sv_true=[]\n",
    "pred_y_lg2_true=[]\n",
    "for train, test in kf.split(new_X):\n",
    "\n",
    "    X_train_train =np.array(new_X[train,:])\n",
    "    y_train_train =np.array(y_train[train,:])\n",
    "    X_train_test =np.array(new_X[test,:])\n",
    "    y_train_test =np.array(y_train[test,:])\n",
    "    sv.fit(X_train_train,y_train_train.ravel())\n",
    "    lg2.fit(X_train_train,y_train_train.ravel())\n",
    "    presv= sv.predict(X_train_test)\n",
    "    pred_y_sv.append(presv)\n",
    "    predlg = lg2.predict(X_train_test)\n",
    "    pred_y_lg.append(predlg)\n",
    "    \n",
    "    true_presv = sv.predict(new_y)\n",
    "    pred_y_sv_true.append(true_presv)\n",
    "    true_prelg2 = lg.predict(new_y)\n",
    "    pred_y_lg2_true.append(true_prelg2)\n",
    "    \n",
    "pred_y_sv_m2 = np.concatenate([pred_y_sv[0],pred_y_sv[1],pred_y_sv[2]], axis=0)\n",
    "pred_y_lg_m2 = np.concatenate([pred_y_lg[0],pred_y_lg[1],pred_y_lg[2]], axis=0)\n",
    "\n",
    "pred_ture_sv2 = np.mean(pred_y_sv_true,axis=0)\n",
    "pred_ture_lg2 = np.mean(pred_y_lg2_true,axis=0)\n",
    "\n",
    "new_X2 = np.concatenate([pred_y_sv_m2[:,np.newaxis],pred_y_lg_m2[:,np.newaxis]],axis=1)\n",
    "new_y2 = np.concatenate([pred_ture_sv2[:,np.newaxis],pred_ture_lg2],axis=1)\n",
    "\n",
    "print(\"new_X2\",new_X2.shape)"
   ]
  },
  {
   "cell_type": "code",
   "execution_count": 357,
   "metadata": {},
   "outputs": [],
   "source": [
    "# lgr = lgb.LGBMRegressor()\n",
    "lgr = SVR(gamma=\"scale\")\n",
    "pred_y_lgr=[]\n",
    "pred_y_lgr_true=[]\n",
    "\n",
    "for train, test in kf.split(new_X2):\n",
    "    X_train_train =np.array(new_X2[train,:])\n",
    "    y_train_train =np.array(y_train[train,:])\n",
    "    X_train_test =np.array(new_X2[test,:])\n",
    "    y_train_test =np.array(y_train[test,:])\n",
    "    lgr.fit(X_train_train,y_train_train.ravel())\n",
    "    prelgr= lgr.predict(X_train_test)\n",
    "    pred_y_lgr.append(prelgr)\n",
    "    \n",
    "    prelgr_true= lgr.predict(new_y2)\n",
    "    pred_y_lgr_true.append(prelgr_true)\n",
    "last_y = np.concatenate([pred_y_lgr[0],pred_y_lgr[1],pred_y_lgr[2]],axis=0)[:,np.newaxis]\n",
    "last_pred_y2 = np.mean(pred_y_lgr_true,axis=0)"
   ]
  },
  {
   "cell_type": "code",
   "execution_count": 358,
   "metadata": {},
   "outputs": [
    {
     "name": "stdout",
     "output_type": "stream",
     "text": [
      "21.296870301477977\n",
      "21.890384942153435\n",
      "22.376947575240855\n",
      "24.411374985303237\n",
      "22.373147113701272\n"
     ]
    }
   ],
   "source": [
    "lg_pred = lg.predict(X_test)\n",
    "dr_pred = dr.predict(X_test)\n",
    "sv_pred = sv.predict(X_test)\n",
    "lg2_pred = lg2.predict(X_test)\n",
    "\n",
    "print(np.log(mean_squared_error(y_test, lg_pred)))\n",
    "print(np.log(mean_squared_error(y_test, dr_pred)))\n",
    "print(np.log(mean_squared_error(y_test, sv_pred)))\n",
    "print(np.log(mean_squared_error(y_test, lg2_pred)))\n",
    "print(np.log(mean_squared_error(y_test, last_pred_y2))) #スタッキングで予測したものは５番中3位だった。"
   ]
  },
  {
   "cell_type": "code",
   "execution_count": 359,
   "metadata": {},
   "outputs": [
    {
     "name": "stdout",
     "output_type": "stream",
     "text": [
      "(1168, 1)\n"
     ]
    }
   ],
   "source": [
    "print(last_y.shape)"
   ]
  },
  {
   "cell_type": "code",
   "execution_count": null,
   "metadata": {},
   "outputs": [],
   "source": []
  }
 ],
 "metadata": {
  "kernelspec": {
   "display_name": "Python 3",
   "language": "python",
   "name": "python3"
  },
  "language_info": {
   "codemirror_mode": {
    "name": "ipython",
    "version": 3
   },
   "file_extension": ".py",
   "mimetype": "text/x-python",
   "name": "python",
   "nbconvert_exporter": "python",
   "pygments_lexer": "ipython3",
   "version": "3.6.7"
  }
 },
 "nbformat": 4,
 "nbformat_minor": 2
}
