{
 "cells": [
  {
   "cell_type": "code",
   "execution_count": 3,
   "metadata": {},
   "outputs": [],
   "source": [
    "import matplotlib.pyplot as plt\n",
    "import math\n",
    "import numpy as np\n",
    "import seaborn as sns\n",
    "import pandas as pd\n",
    "np.random.seed(6)\n",
    "import math\n",
    "from sklearn.metrics import accuracy_score\n",
    "from sklearn.preprocessing import StandardScaler\n",
    "from sklearn.model_selection import train_test_split\n",
    "from sklearn import metrics\n",
    "from sklearn.metrics import mean_squared_error\n",
    "import time\n",
    "from matplotlib.colors import ListedColormap\n",
    "import matplotlib.patches as mpatches\n",
    "from sklearn.metrics import accuracy_score"
   ]
  },
  {
   "cell_type": "markdown",
   "metadata": {},
   "source": [
    "# 【問題1】SVM分類器のクラスを作成する"
   ]
  },
  {
   "cell_type": "code",
   "execution_count": 4,
   "metadata": {},
   "outputs": [],
   "source": [
    "np.random.seed(seed=0)\n",
    "n_samples = 500\n",
    "f0 = [-1, 2]\n",
    "f1 = [2, -1]\n",
    "cov = [[1.0,0.8], [0.8, 1.0]]\n",
    "\n",
    "f0 = np.random.multivariate_normal(f0, cov, int(n_samples/2))\n",
    "f1 = np.random.multivariate_normal(f1, cov, int(n_samples/2))\n",
    "\n",
    "X = np.concatenate((f0, f1))\n",
    "y = np.concatenate((np.ones((int(n_samples/2))), np.ones((int(n_samples/2))) *(-1))).astype(np.int)\n",
    "\n",
    "random_index = np.random.permutation(np.arange(n_samples))\n",
    "X = X[random_index]\n",
    "y = y[random_index]"
   ]
  },
  {
   "cell_type": "code",
   "execution_count": 5,
   "metadata": {},
   "outputs": [],
   "source": [
    "num_test = 0.20\n",
    "X_train, X_test, y_train, y_test = train_test_split(X, y, test_size=num_test, random_state=23)"
   ]
  },
  {
   "cell_type": "code",
   "execution_count": 11,
   "metadata": {},
   "outputs": [],
   "source": [
    "class ScratchSVMClassifier():\n",
    "    \"\"\"\n",
    "    SVM回帰のスクラッチ実装\n",
    "\n",
    "    Parameters\n",
    "    ----------\n",
    "    num_iter : int\n",
    "      イテレーション数\n",
    "    lr : float\n",
    "      学習率\n",
    "    no_bias : bool\n",
    "      バイアス項を入れない場合はTrue\n",
    "    verbose : bool\n",
    "      学習過程を出力する場合はTrue\n",
    "\n",
    "    Attributes\n",
    "    ----------\n",
    "    self.coef_ : 次の形のndarray, shape (n_features,)\n",
    "      パラメータ\n",
    "    self.loss : 次の形のndarray, shape (self.iter,)\n",
    "      学習用データに対する損失の記録\n",
    "    self.val_loss : 次の形のndarray, shape (self.iter,)\n",
    "      検証用データに対する損失の記録\n",
    "\n",
    "    \"\"\"\n",
    "\n",
    "    def __init__(self, num_iter):\n",
    "        # ハイパーパラメータを属性として記録\n",
    "        self.iter = num_iter\n",
    "\n",
    "    def fit(self, X, y, X_val=None, y_val=None):\n",
    "        \"\"\"\n",
    "        SVM回帰を学習する。検証用データが入力された場合はそれに対する損失と精度もイテレーションごとに計算する。\n",
    "\n",
    "        Parameters\n",
    "        ----------\n",
    "        X : 次の形のndarray, shape (n_samples, n_features)\n",
    "            学習用データの特徴量\n",
    "        y : 次の形のndarray, shape (n_samples, )\n",
    "            学習用データの正解値\n",
    "        X_val : 次の形のndarray, shape (n_samples, n_features)\n",
    "            検証用データの特徴量\n",
    "        y_val : 次の形のndarray, shape (n_samples, )\n",
    "            検証用データの正解値\n",
    "        \"\"\"\n",
    "        self.X = X\n",
    "        self.y = y[:, np.newaxis]\n",
    "        self.X_val = X_val\n",
    "        self.y_val = y_val\n",
    "        self.lamda = np.random.randn(self.X.shape[0],1)\n",
    "        self._gradient_descent()\n",
    "        theta = 1e-5\n",
    "        sv_index =  np.where(self.lamda> theta)[0] #サポートベクトルのチョイス\n",
    "        self.X_sv = self.X[sv_index].copy() # XのSVMの特徴量を抽出\n",
    "        self.y_sv_label = y[sv_index].copy() #YラベルのSVMのラベルを抽出\n",
    "        self.lamda_sv = self.lamda[sv_index].copy() #サポートベクトルを抽出\n",
    "            \n",
    "    \n",
    "    \n",
    "    def _linear_hypothesis(self,X1,X2):\n",
    "        \"\"\"\n",
    "        線形の仮定関数を計算する\n",
    "\n",
    "        Parameters\n",
    "        ----------\n",
    "        X : 次の形のndarray, shape (n_samples, n_features)\n",
    "          学習データ\n",
    "\n",
    "        Returns\n",
    "        -------\n",
    "          次の形のndarray, shape (n_samples, n_samples)\n",
    "          線形の仮定関数による推定結果\n",
    "\n",
    "        \"\"\"\n",
    "        \n",
    "        h = np.dot(X1,X2.T)\n",
    "        return h\n",
    "\n",
    "\n",
    "\n",
    "    def _gradient_descent(self):\n",
    "        \"\"\"\n",
    "        最適化した勾配を返す。\n",
    "       \n",
    "        Returns\n",
    "        -------\n",
    "            勾配を最適化した結果\n",
    "        \"\"\"\n",
    "        sum_y =0\n",
    "        alpha = 0.01\n",
    "        t0 = time.time() #時間の計測\n",
    "        for _ in range(self.iter):\n",
    "            for i in range(len(self.y)):\n",
    "                for j in range(len(self.y)):\n",
    "                    sum_y +=self.lamda[j] * (self.y[i]*self.y[j]*self._linear_hypothesis(self.X[i,:],self.X[j,:]))\n",
    "                self.lamda[i] = self.lamda[i] + alpha * (1 - sum_y)\n",
    "                #サポートベクターの決定\n",
    "                if self.lamda[i] < 0:\n",
    "                    self.lamda[i] = 0\n",
    "                sum_y = 0\n",
    "        t1 = time.time()\n",
    "        print('time : {}s'.format(t1-t0))\n",
    "        return self.lamda\n",
    "           \n",
    "    \n",
    "    #推定\n",
    "    def predict(self,X_val):\n",
    "        \"\"\"\n",
    "        SVM回帰を使い推定する。\n",
    "\n",
    "        Parameters\n",
    "        ----------\n",
    "        X : 次の形のndarray, shape (n_samples, n_features)\n",
    "            サンプルl\n",
    "\n",
    "        Returnsz\n",
    "        -------\n",
    "            次の形のndarray, shape (n_samples, 1)\n",
    "            線形回帰による推定結果\n",
    "        \"\"\"\n",
    "        predict_y = np.zeros((len(self.X_sv),))\n",
    "\n",
    "        predict_y =np.sum(self.lamda_sv * self.y_sv_label[:, np.newaxis] * self._linear_hypothesis(X_val,self.X_sv).T ,axis=0)\n",
    "        y = [-1 if i < 0 else 1 for i in predict_y] #予測結果の振り分け\n",
    "        y = np.array(y)\n",
    "        return y \n",
    "    \n",
    "    def decision_region(self, X_train, y_train, step=0.01, title='decision region', xlabel='xlabel', ylabel='ylabel', target_names=['target1', 'target2']):\n",
    "        \"\"\"\n",
    "        2値分類を2次元の特徴量で学習したモデルの決定領域を描く。\n",
    "        背景の色が学習したモデルによる推定値から描画される。\n",
    "        散布図の点は学習用データである。\n",
    "\n",
    "        Parameters\n",
    "        ----------------\n",
    "        X_train : ndarray, shape(n_samples, 2)\n",
    "            学習用データの特徴量\n",
    "        y_train : ndarray, shape(n_samples,)\n",
    "            学習用データの正解値\n",
    "        step : float, (default : 0.1)\n",
    "            推定値を計算する間隔を設定する\n",
    "        title : str\n",
    "            グラフのタイトルの文章を与える\n",
    "        xlabel, ylabel : str\n",
    "            軸ラベルの文章を与える\n",
    "        target_names= : list of str\n",
    "            凡例の一覧を与える\n",
    "        \"\"\"\n",
    "        # setting\n",
    "        scatter_color = ['red', 'blue']\n",
    "        contourf_color = ['pink', 'skyblue']\n",
    "        n_class = 2\n",
    "\n",
    "        # pred\n",
    "        mesh_f0, mesh_f1  = np.meshgrid(np.arange(np.min(X_train[:,0])-0.5, np.max(X_train[:,0])+0.5, step), np.arange(np.min(X_train[:,1])-0.5, np.max(X_train[:,1])+0.5, step))\n",
    "        mesh = np.c_[np.ravel(mesh_f0),np.ravel(mesh_f1)]\n",
    "        pred = self.predict(mesh).reshape(mesh_f0.shape)\n",
    "        \n",
    "        # plot\n",
    "        plt.title(title)\n",
    "        plt.xlabel(xlabel)\n",
    "        plt.ylabel(ylabel)\n",
    "        plt.contourf(mesh_f0, mesh_f1, pred, n_class-1, cmap=ListedColormap(contourf_color))\n",
    "        plt.contour(mesh_f0, mesh_f1, pred, n_class-1, colors='y', linewidths=3, alpha=0.5)\n",
    "        for i, target in enumerate(set(y_train)):\n",
    "            plt.scatter(X_train[y_train==target][:, 0], X_train[y_train==target][:, 1], s=80, color=scatter_color[i], label=target_names[i], marker='o')\n",
    "        patches = [mpatches.Patch(color=scatter_color[i], label=target_names[i]) for i in range(n_class)]\n",
    "        \n",
    "        \n",
    "        plt.legend(handles=patches)\n",
    "        plt.legend()\n",
    "        \n",
    "        #サポートベクターをプロットする\n",
    "        plt.scatter(self.X_sv[:, 0], self.X_sv[:, 1], color='y')\n",
    "\n",
    "        plt.show()\n"
   ]
  },
  {
   "cell_type": "code",
   "execution_count": 12,
   "metadata": {},
   "outputs": [],
   "source": [
    "sv = ScratchSVMClassifier(100)"
   ]
  },
  {
   "cell_type": "code",
   "execution_count": 13,
   "metadata": {},
   "outputs": [
    {
     "name": "stdout",
     "output_type": "stream",
     "text": [
      "time : 116.51866030693054s\n"
     ]
    }
   ],
   "source": [
    "sv.fit(X_train,y_train)"
   ]
  },
  {
   "cell_type": "code",
   "execution_count": 14,
   "metadata": {},
   "outputs": [],
   "source": [
    "y_label = sv.predict(X_test)"
   ]
  },
  {
   "cell_type": "markdown",
   "metadata": {},
   "source": [
    "# 【問題3】指標値の算出"
   ]
  },
  {
   "cell_type": "code",
   "execution_count": 15,
   "metadata": {},
   "outputs": [
    {
     "data": {
      "text/plain": [
       "1.0"
      ]
     },
     "execution_count": 15,
     "metadata": {},
     "output_type": "execute_result"
    }
   ],
   "source": [
    "accuracy_score(y_test,y_label)"
   ]
  },
  {
   "cell_type": "markdown",
   "metadata": {},
   "source": [
    "# 【問題4】決定領域の可視化"
   ]
  },
  {
   "cell_type": "code",
   "execution_count": 16,
   "metadata": {},
   "outputs": [
    {
     "data": {
      "image/png": "[encoded data removed]",
      "text/plain": [
       "<Figure size 432x288 with 1 Axes>"
      ]
     },
     "metadata": {
      "needs_background": "light"
     },
     "output_type": "display_data"
    }
   ],
   "source": [
    "sv.decision_region(X_test,y_test)"
   ]
  },
  {
   "cell_type": "markdown",
   "metadata": {},
   "source": [
    "# 【問題5】時間の計測"
   ]
  },
  {
   "cell_type": "markdown",
   "metadata": {},
   "source": [
    "time : 116.51866030693054s"
   ]
  },
  {
   "cell_type": "markdown",
   "metadata": {},
   "source": [
    "# 【問題6】ロジスティック回帰とSVM"
   ]
  },
  {
   "cell_type": "markdown",
   "metadata": {},
   "source": [
    "[代表的な機械学習手法一覧](https://qiita.com/tomomoto/items/b3fd1ec7f9b68ab6dfe2)"
   ]
  },
  {
   "cell_type": "code",
   "execution_count": null,
   "metadata": {},
   "outputs": [],
   "source": [
    "ロジスティック回帰\n",
    "概要： 回帰によって分類する手法。線形回帰の出力をロジット関数に入力することで、2分類問題に対応した回帰モデル。\n",
    "予測対象: 分類\n",
    "可読性： ○\n",
    "並列処理： ×\n",
    "過学習防止策： ステップワイズ(AIC基準)による変数削減, L1/２正則化など \n",
    "\n",
    "サポートベクターマシーン(SVM)\n",
    "概要： 回帰によって分類する手法。マージン最大化を取り入れることで、少ないデータでも汎化性能が高い2分類回帰モデルを実現。ただし、学習時間は長くなる。\n",
    "予測対象: 分類\n",
    "可読性： ○\n",
    "並列処理： ×\n",
    "過学習防止策： モデルに組み込まれている（マージン最大化）など"
   ]
  },
  {
   "cell_type": "markdown",
   "metadata": {},
   "source": [
    "[海外の参考文献](https://towardsdatascience.com/support-vector-machine-vs-logistic-regression-94cc2975433f)"
   ]
  },
  {
   "cell_type": "markdown",
   "metadata": {},
   "source": [
    "ロジスティック回帰とは\n",
    "ロジスティック回帰では、線形関数の出力を取得し、シグモイド関数（ロジスティック関数）を使用して[0,1]の範囲内の値を縮小する。 シグモイド関数はS字型の曲線で、任意の実数値を取り、それを0から1の範囲内の値にマッピングできますが、その範囲内では絶対に使用できません。 通常、押しつぶされた値がしきい値よりも大きい場合はラベル1を割り当て、そうでない場合はラベル0を割り当てます。これは「ロジスティック回帰」という名前を正当化します。 \n",
    "ロジスティック回帰と線形回帰の違いは、ロジスティック回帰では離散的な結果が得られるのに対し、線形回帰では連続的な結果が得られること\n",
    "\n",
    "主な違い\n",
    "\n",
    "SVMは最も近いサポートベクトル間のマージンを最大化しようとするが、LRは事後クラス確率。 このように、SVMは2つのカテゴリに対して可能な限り運賃が低い解決策を見つけますが、LRはこの特性を持たない。"
   ]
  },
  {
   "cell_type": "code",
   "execution_count": null,
   "metadata": {},
   "outputs": [],
   "source": []
  }
 ],
 "metadata": {
  "kernelspec": {
   "display_name": "Python 3",
   "language": "python",
   "name": "python3"
  },
  "language_info": {
   "codemirror_mode": {
    "name": "ipython",
    "version": 3
   },
   "file_extension": ".py",
   "mimetype": "text/x-python",
   "name": "python",
   "nbconvert_exporter": "python",
   "pygments_lexer": "ipython3",
   "version": "3.6.7"
  }
 },
 "nbformat": 4,
 "nbformat_minor": 2
}
