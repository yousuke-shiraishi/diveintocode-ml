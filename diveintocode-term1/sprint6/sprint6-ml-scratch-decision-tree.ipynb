{
 "cells": [
  {
   "cell_type": "code",
   "execution_count": 26,
   "metadata": {},
   "outputs": [],
   "source": [
    "import numpy as np\n",
    "import matplotlib.pyplot as plt\n",
    "from sklearn.model_selection import train_test_split\n",
    "from sklearn.metrics import accuracy_score\n",
    "from sklearn.metrics import precision_score\n",
    "from matplotlib.colors import ListedColormap\n",
    "import matplotlib.patches as mpatches"
   ]
  },
  {
   "cell_type": "code",
   "execution_count": 27,
   "metadata": {
    "scrolled": true
   },
   "outputs": [],
   "source": [
    "X = np.array([[-0.44699 , -2.8073  ],[-1.4621  , -2.4586  ],\n",
    "       [ 0.10645 ,  1.9242  ],[-3.5944  , -4.0112  ],\n",
    "       [-0.9888  ,  4.5718  ],[-3.1625  , -3.9606  ],\n",
    "       [ 0.56421 ,  0.72888 ],[-0.60216 ,  8.4636  ],\n",
    "       [-0.61251 , -0.75345 ],[-0.73535 , -2.2718  ],\n",
    "       [-0.80647 , -2.2135  ],[ 0.86291 ,  2.3946  ],\n",
    "       [-3.1108  ,  0.15394 ],[-2.9362  ,  2.5462  ],\n",
    "       [-0.57242 , -2.9915  ],[ 1.4771  ,  3.4896  ],\n",
    "       [ 0.58619 ,  0.37158 ],[ 0.6017  ,  4.3439  ],\n",
    "       [-2.1086  ,  8.3428  ],[-4.1013  , -4.353   ],\n",
    "       [-1.9948  , -1.3927  ],[ 0.35084 , -0.031994],\n",
    "       [ 0.96765 ,  7.8929  ],[-1.281   , 15.6824  ],\n",
    "       [ 0.96765 , 10.083   ],[ 1.3763  ,  1.3347  ],\n",
    "       [-2.234   , -2.5323  ],[-2.9452  , -1.8219  ],\n",
    "       [ 0.14654 , -0.28733 ],[ 0.5461  ,  5.8245  ],\n",
    "       [-0.65259 ,  9.3444  ],[ 0.59912 ,  5.3524  ],\n",
    "       [ 0.50214 , -0.31818 ],[-3.0603  , -3.6461  ],\n",
    "       [-6.6797  ,  0.67661 ],[-2.353   , -0.72261 ],\n",
    "       [ 1.1319  ,  2.4023  ],[-0.12243 ,  9.0162  ],\n",
    "       [-2.5677  , 13.1779  ],[ 0.057313,  5.4681  ]])\n",
    "X = np.array(X)\n",
    "y = np.array([0, 0, 0, 0, 0, 0, 0, 0, 0, 0, 0, 0, 0, 0, 0, 0, 0, 0, 0, 0, 1, 1,\n",
    "       1, 1, 1, 1, 1, 1, 1, 1, 1, 1, 1, 1, 1, 1, 1, 1, 1, 1])"
   ]
  },
  {
   "cell_type": "code",
   "execution_count": 28,
   "metadata": {},
   "outputs": [],
   "source": [
    "num_test = 0.20\n",
    "X_train, X_test, y_train, y_test = train_test_split(X, y, test_size=num_test, random_state=21)"
   ]
  },
  {
   "cell_type": "markdown",
   "metadata": {},
   "source": [
    "# 【問題1】ジニ不純度を求める関数"
   ]
  },
  {
   "cell_type": "markdown",
   "metadata": {},
   "source": [
    "${I(t) = 1-\\sum_{i=1}^{K}P^2(C_i|t) = 1-\\sum_{i=1}^{K}(\\frac{N_{t,i}}{N_{t,all}})^{2}}$"
   ]
  },
  {
   "cell_type": "code",
   "execution_count": 29,
   "metadata": {},
   "outputs": [],
   "source": [
    "def jini_value(self, y0_len, y1_len, y): #ジニ係数  \n",
    "    return 1 - ((y0_len / y)**2 + (y1_len / y)**2)"
   ]
  },
  {
   "cell_type": "markdown",
   "metadata": {},
   "source": [
    "# 【問題2】情報利得を求める関数"
   ]
  },
  {
   "cell_type": "markdown",
   "metadata": {},
   "source": [
    "${IG(p) = I(p)-\\frac{N_{left,all}}{N_{p,all}}I(left)-\\frac{N_{right,all}}{N_{p,all}}I(right)}$"
   ]
  },
  {
   "cell_type": "code",
   "execution_count": 30,
   "metadata": {},
   "outputs": [],
   "source": [
    "def ig(self, pairent_jini,left_jini,right_jini,left_len,right_len,y): #情報利得\n",
    "        return pairent_jini - (left_jini * left_len / len(y) + right_jini * right_len / len(y))"
   ]
  },
  {
   "cell_type": "markdown",
   "metadata": {},
   "source": [
    "# 【問題3】深さ1の決定木分類器クラスの作成"
   ]
  },
  {
   "cell_type": "code",
   "execution_count": 36,
   "metadata": {},
   "outputs": [],
   "source": [
    "class ScratchDecesionTreeClassifier():\n",
    "    \"\"\"\n",
    "    決定木のスクラッチ実装\n",
    "\n",
    "    Parameters\n",
    "    ----------\n",
    "    num_iter : int\n",
    "      イテレーション数　今回は分割する回数　今回は1回\n",
    "    \n",
    "    max_depth : int\n",
    "    　　分割した木の深さ　今回は１\n",
    "\n",
    "    verbose : bool\n",
    "      学習過程を出力する場合はTrue\n",
    "\n",
    "    Attributes\n",
    "    ----------\n",
    "    self.loss : 次の形のndarray, shape (self.iter,)\n",
    "      学習用データに対する損失の記録\n",
    "    self.val_loss : 次の形のndarray, shape (self.iter,)\n",
    "      検証用データに対する損失の記録\n",
    "\n",
    "    \"\"\"\n",
    "\n",
    "    def __init__(self, num_iter, verbose):\n",
    "        # ハイパーパラメータを属性として記録\n",
    "        self.iter = num_iter\n",
    "        self.verbose = verbose\n",
    "        # 損失を記録する配列を用意\n",
    "        \n",
    "\n",
    "    def fit(self, X, y):\n",
    "        \"\"\"\n",
    "        決定木のフィッティングをする\n",
    "\n",
    "        Parameters\n",
    "        ----------\n",
    "        X : 次の形のndarray, shape (n_samples, n_features)\n",
    "            学習用データの特徴量\n",
    "        y : 次の形のndarray, shape (n_samples, )\n",
    "            学習用データの正解値\n",
    "        X_val : 次の形のndarray, shape (n_samples, n_features)\n",
    "            検証用データの特徴量\n",
    "        y_val : 次の形のndarray, shape (n_samples, )\n",
    "            検証用データの正解値\n",
    "        \"\"\"\n",
    "        self.X = X\n",
    "        #self.X_val = X_val\n",
    "        #self.y_val = y_val\n",
    "        self.classification_s = None\n",
    "        self.classification_b = None\n",
    "        self.y = y\n",
    "        self.split_f = None\n",
    "        self.y_smaller_0 = []\n",
    "        self.y_smaller_1 = []\n",
    "        self.y_bigger_0 = []\n",
    "        self.y_bigger_1 = []\n",
    "        self.temp_info = ()\n",
    "        self.temp_max = 0\n",
    "        self.root_jini = 0\n",
    "        self.info_all = ()\n",
    "        temp_max = 0\n",
    "        for j in range(X.shape[1]):\n",
    "            for i in range(X.shape[0]):\n",
    "                info_all,best_sample_feature = self.split_y(i, j)\n",
    "                if self.temp_max < info_all[0]:\n",
    "                    self.temp_max = info_all[0]\n",
    "                    self.info_all_object = info_all\n",
    "                if bool(best_sample_feature):\n",
    "                    print(best_sample_feature)\n",
    "                    break\n",
    "            else:\n",
    "                continue\n",
    "            break\n",
    "\n",
    "            \n",
    "    def ig(self, pairent_jini,left_jini,right_jini,left_len,right_len,y): #情報利得\n",
    "        return pairent_jini - (left_jini * left_len / len(y) + right_jini * right_len / len(y))\n",
    "\n",
    "    def classification(self, smaller, bigger): #決定木の多数決でsma0ller, biggerの0,1分類\n",
    "        self.y_smaller_0 = []\n",
    "        self.y_smaller_1 = []\n",
    "        self.y_bigger_0 = []\n",
    "        self.y_bigger_1 = []\n",
    "\n",
    "        for i in smaller[0]:\n",
    "            if i is not None:\n",
    "                if self.y[i]== 1:\n",
    "                    self.y_smaller_1.append(i) #選択値より小さい値のインデックスでyが１のもの\n",
    "                elif self.y[i] == 0:\n",
    "                    self.y_smaller_0.append(i) #選択値より小さい値のインデックスでyが0のもの\n",
    "\n",
    "\n",
    "        for i in bigger[0]:\n",
    "            if i is not None:\n",
    "                if self.y[i] == 1:\n",
    "                    self.y_bigger_1.append(i) #選択値より大きい値のインデックスでyが１のもの\n",
    "                elif self.y[i] == 0:\n",
    "                    self.y_bigger_0.append(i) #選択値より大きい値のインデックスでyが0のもの\n",
    "        \n",
    "        if len(self.y_smaller_0) > len(self.y_smaller_1):#smaller木の多数決\n",
    "            self.classification_s = 0\n",
    "        else:\n",
    "            self.classification_s = 1\n",
    "        \n",
    "        if len(self.y_bigger_0) > len(self.y_bigger_1):#bigger木の多数決\n",
    "            self.classification_b = 0\n",
    "        else:\n",
    "            self.classification_b = 1\n",
    "            \n",
    "            \n",
    "    def split_y(self,select_split_node,feature_n):\n",
    "        y1_len = len(np.where(self.y==1)[0]) #Yが１の物の個数を出す\n",
    "        y0_len = len(np.where(self.y==0)[0]) #Yが0の物の個数を出す\n",
    "        y_len = len(self.y)\n",
    "        \n",
    "        self.root_jini = self.jini_value(y0_len, y1_len, y_len) #一番上の木のジニ係数\n",
    "        self.split_f = self.X[select_split_node,feature_n]\n",
    "\n",
    "        smaller = np.where(self.X[:100,feature_n]< self.split_f)#選択値より小さい値のインデックス\n",
    "\n",
    "        bigger = np.where(self.X[:100,feature_n] >= self.split_f)#選択値より大きい値のインデックス\n",
    "        smaller_len = len(smaller[0]) #選択値より小さい値の数\n",
    "\n",
    "        bigger_len = len(bigger[0]) #選択値より大きい値の数\n",
    "\n",
    "        self.classification(smaller, bigger)\n",
    "\n",
    "        best_sample_feature ={}\n",
    "        if smaller_len == 0 or bigger_len ==0:\n",
    "            info_gain =0\n",
    "            self.info_all = (info_gain, self.split_f, self.classification_b, self.classification_s)\n",
    "            return self.info_all,best_sample_feature #サンプルに偏りがあり最初からからだった場合info_allに0,best_sample_featureに空を入れて返す。\n",
    "\n",
    "        smaller_jini = self. jini_value(len(self.y_smaller_0), len(self.y_smaller_1), smaller_len) #左のジニ係数\n",
    "        bigger_jini = self. jini_value(len(self.y_bigger_0), len(self.y_bigger_1), bigger_len) #右のジニ係数\n",
    "\n",
    "        best_sample_feature ={} #全部分け切れてジニ係数が０の時最もスコアの良いXのサンプル番号、と列番目を格納する\n",
    "        if smaller_jini == 0 and bigger_jini == 0: #ジニ係数がゼロの時つまり分け切った時best_sample_featureにターゲットのサンプル行目と列目を表示する\n",
    "            best_sample_feature[\"sample\"] = select_split_node\n",
    "            best_sample_feature[\"feature\"] = feature_n\n",
    "            root_ig = self.ig(self.root_jini,smaller_jini,bigger_jini, smaller_len, bigger_len,self.y)\n",
    "            self. info_all = (root_ig, self.split_f, self.classification_b, self.classification_s)\n",
    "            return self.info_all,best_sample_feature #ジニ係数が０になったときだけbest_sample_featureは値が入る\n",
    "        \n",
    "        \n",
    "        root_ig = self.ig(self.root_jini,smaller_jini,bigger_jini, smaller_len, bigger_len,self.y)\n",
    "        self.info_all = (root_ig, self.split_f, self.classification_b, self.classification_s)\n",
    "        return self.info_all,best_sample_feature #split_yの判別のループが終わった時点でinfo_allには最大利得が入り、best_sample_featureは空\n",
    "    \n",
    "    def jini_value(self, y0_len, y1_len, y): #ジニ係数\n",
    "        return 1 - ((y0_len / y)**2 + (y1_len / y)**2) \n",
    "       \n",
    "\n",
    "    def predict(self, X_val):\n",
    "        \"\"\"\n",
    "        決定木を使い推定する。\n",
    "\n",
    "        Parameters\n",
    "        ----------\n",
    "        X_val : 次の形のndarray, shape (n_samples, n_features)\n",
    "            予測するために使うX\n",
    "\n",
    "        Returns\n",
    "        -------\n",
    "            次の形のndarray, shape (n_samples, 1)\n",
    "            決定木の予測値\n",
    "        \"\"\" \n",
    "\n",
    "        predict_y =[]\n",
    "        [predict_y.append(self.info_all_object[2]) if i > self.info_all_object[1] else  predict_y.append(self.info_all_object[3]) for i in X_val[:,1]]\n",
    "\n",
    "        return predict_y\n",
    "    \n",
    "    def decision_region(self, X_train, y_train, step=0.01, title='decision region', xlabel='xlabel', ylabel='ylabel', target_names=['target1', 'target2']):\n",
    "        \"\"\"\n",
    "        2値分類を2次元の特徴量で学習したモデルの決定領域を描く。\n",
    "        背景の色が学習したモデルによる推定値から描画される。\n",
    "        散布図の点は学習用データである。\n",
    "\n",
    "        Parameters\n",
    "        ----------------\n",
    "        X_train : ndarray, shape(n_samples, 2)\n",
    "            学習用データの特徴量\n",
    "        y_train : ndarray, shape(n_samples,)\n",
    "            学習用データの正解値\n",
    "        step : float, (default : 0.1)\n",
    "            推定値を計算する間隔を設定する\n",
    "        title : str\n",
    "            グラフのタイトルの文章を与える\n",
    "        xlabel, ylabel : str\n",
    "            軸ラベルの文章を与える\n",
    "        target_names= : list of str\n",
    "            凡例の一覧を与える\n",
    "        \"\"\"\n",
    "        # setting\n",
    "        scatter_color = ['red', 'blue']\n",
    "        contourf_color = ['pink', 'skyblue']\n",
    "        n_class = 2\n",
    "\n",
    "        # pred\n",
    "        mesh_f0, mesh_f1  = np.meshgrid(np.arange(np.min(X_train[:,0])-0.5, np.max(X_train[:,0])+0.5, step), np.arange(np.min(X_train[:,1])-0.5, np.max(X_train[:,1])+0.5, step))\n",
    "        mesh = np.c_[np.ravel(mesh_f0),np.ravel(mesh_f1)]\n",
    "        zzz = np.array(self.predict(mesh))\n",
    "        pred = zzz.reshape(mesh_f0.shape)\n",
    "        \n",
    "        # plot\n",
    "        plt.title(title)\n",
    "        plt.xlabel(xlabel)\n",
    "        plt.ylabel(ylabel)\n",
    "        plt.contourf(mesh_f0, mesh_f1, pred, n_class-1, cmap=ListedColormap(contourf_color))\n",
    "        plt.contour(mesh_f0, mesh_f1, pred, n_class-1, colors='y', linewidths=3, alpha=0.5)\n",
    "        for i, target in enumerate(set(y_train)):\n",
    "            plt.scatter(X_train[y_train==target][:, 0], X_train[y_train==target][:, 1], s=80, color=scatter_color[i], label=target_names[i], marker='o')\n",
    "        patches = [mpatches.Patch(color=scatter_color[i], label=target_names[i]) for i in range(n_class)]\n",
    "        \n",
    "        \n",
    "        plt.legend(handles=patches)\n",
    "        plt.legend()\n",
    "\n",
    "        plt.show()\n",
    "\n",
    "    "
   ]
  },
  {
   "cell_type": "code",
   "execution_count": 37,
   "metadata": {},
   "outputs": [],
   "source": [
    "sdc =ScratchDecesionTreeClassifier(10, True)\n",
    "sdc.fit(X_train,y_train)"
   ]
  },
  {
   "cell_type": "code",
   "execution_count": 38,
   "metadata": {},
   "outputs": [
    {
     "data": {
      "text/plain": [
       "0.11002604166666669"
      ]
     },
     "execution_count": 38,
     "metadata": {},
     "output_type": "execute_result"
    }
   ],
   "source": [
    "sdc.info_all_object[0] #ループが終わった時点での最大利得"
   ]
  },
  {
   "cell_type": "markdown",
   "metadata": {},
   "source": [
    "# 問題6】指標値の算出"
   ]
  },
  {
   "cell_type": "code",
   "execution_count": 39,
   "metadata": {},
   "outputs": [
    {
     "data": {
      "text/plain": [
       "0.6666666666666666"
      ]
     },
     "execution_count": 39,
     "metadata": {},
     "output_type": "execute_result"
    }
   ],
   "source": [
    "precision_score(sdc.predict(X_test),y_test)"
   ]
  },
  {
   "cell_type": "markdown",
   "metadata": {},
   "source": [
    "# 【問題7】決定領域の可視化"
   ]
  },
  {
   "cell_type": "code",
   "execution_count": 41,
   "metadata": {},
   "outputs": [
    {
     "data": {
      "image/png": "[encoded data removed]",
      "text/plain": [
       "<Figure size 432x288 with 1 Axes>"
      ]
     },
     "metadata": {
      "needs_background": "light"
     },
     "output_type": "display_data"
    }
   ],
   "source": [
    "sdc.decision_region(X_test ,y_test)"
   ]
  },
  {
   "cell_type": "code",
   "execution_count": null,
   "metadata": {},
   "outputs": [],
   "source": []
  }
 ],
 "metadata": {
  "kernelspec": {
   "display_name": "Python 3",
   "language": "python",
   "name": "python3"
  },
  "language_info": {
   "codemirror_mode": {
    "name": "ipython",
    "version": 3
   },
   "file_extension": ".py",
   "mimetype": "text/x-python",
   "name": "python",
   "nbconvert_exporter": "python",
   "pygments_lexer": "ipython3",
   "version": "3.6.7"
  }
 },
 "nbformat": 4,
 "nbformat_minor": 2
}
