{
 "cells": [
  {
   "cell_type": "code",
   "execution_count": 89,
   "metadata": {},
   "outputs": [],
   "source": [
    "def compute_sorori_shinzaemon(day=100,menber=1):\n",
    "    \"\"\"\n",
    "    曽呂利新左衛門の米の逸話を検証する関数。日にちごとの米の粒の数を計算する。\n",
    "\n",
    "    Parameteres\n",
    "    --------------\n",
    "    day: int\n",
    "        米を貰う日数 (default : 100)\n",
    "\n",
    "    Returns\n",
    "    --------------\n",
    "    consume:int\n",
    "    http://www.maff.go.jp/j/seisan/kikaku/pdf/data01.pdf#search='%E6%97%A5%E6%9C%AC%E4%BA%BA%E4%B8%80%E4%BA%BA+%E4%B8%80%E6%97%A5+%E6%B6%88%E8%B2%BB+%E7%B1%B3%E3%81%AE%E6%95%B0'\n",
    "    日本人が日に消費する米の数(default:)\n",
    "    666６粒*1.1合=7332\n",
    "    --------------\n",
    "    list_n_grains : list\n",
    "        ある日に貰う米の数のリスト（リストの長さはdayに等しくなる）\n",
    "    list_total_grains : list\n",
    "        ある日までに累計で貰う米の数のリスト（リストの長さはdayに等しくなる）\n",
    "    \"\"\"\n",
    "    consume = 7332\n",
    "    raice_num = 1\n",
    "    list_n_grains =[1]\n",
    "    list_total_grains =[1] \n",
    "    days =[1]\n",
    "    for i in range(day - 1):\n",
    "        days.append( i+2) \n",
    "        raice_num = raice_num * 2\n",
    "        #日つけが経つごとに米の数が倍になっていく\n",
    "        list_n_grains.append(raice_num)\n",
    "        list_total_grains.append(list_total_grains[-1] + raice_num)\n",
    "    can_consume_days = list_total_grains[-1] / (menber * consume)\n",
    "\n",
    "    return list_n_grains, list_total_grains,can_consume_days,menber,days\n"
   ]
  },
  {
   "cell_type": "markdown",
   "metadata": {},
   "source": [
    "# 100日後の米粒の数"
   ]
  },
  {
   "cell_type": "code",
   "execution_count": 90,
   "metadata": {},
   "outputs": [
    {
     "data": {
      "image/png": "[encoded data removed]",
      "text/plain": [
       "<Figure size 432x288 with 1 Axes>"
      ]
     },
     "metadata": {
      "needs_background": "light"
     },
     "output_type": "display_data"
    }
   ],
   "source": [
    "import matplotlib.pyplot as plt\n",
    "list_n_grains, list_total_grains,can_consume_days,menber,days = compute_sorori_shinzaemon()\n",
    "fig = plt.figure()\n",
    "ax = fig.add_subplot(1, 1, 1)\n",
    "ax.plot(days, list_n_grains,marker=\"o\",label=\"当日のコメ数\")\n",
    "ax.plot(days, list_total_grains,marker=\"s\",label=\"累計コメ数\")\n",
    "plt.legend()\n",
    "plt.show()"
   ]
  },
  {
   "cell_type": "markdown",
   "metadata": {},
   "source": [
    "# 100日後以外の米粒の数"
   ]
  },
  {
   "cell_type": "code",
   "execution_count": 91,
   "metadata": {},
   "outputs": [
    {
     "data": {
      "image/png": "[encoded data removed]",
      "text/plain": [
       "<Figure size 432x288 with 1 Axes>"
      ]
     },
     "metadata": {
      "needs_background": "light"
     },
     "output_type": "display_data"
    }
   ],
   "source": [
    "list_n_grains, list_total_grains,can_consume_days,menber,days = compute_sorori_shinzaemon(day=50,menber=2)\n",
    "fig = plt.figure()\n",
    "ax = fig.add_subplot(1, 1, 1)\n",
    "ax.plot(days, list_n_grains,marker=\"o\",label=\"当日のコメ数\")\n",
    "ax.plot(days, list_total_grains,marker=\"s\",label=\"累計コメ数\")\n",
    "plt.legend()\n",
    "plt.show()"
   ]
  },
  {
   "cell_type": "code",
   "execution_count": 92,
   "metadata": {},
   "outputs": [
    {
     "name": "stdout",
     "output_type": "stream",
     "text": [
      "50\n"
     ]
    }
   ],
   "source": [
    "print(len(list_total_grains))"
   ]
  },
  {
   "cell_type": "code",
   "execution_count": 93,
   "metadata": {},
   "outputs": [
    {
     "name": "stdout",
     "output_type": "stream",
     "text": [
      "[1, 2, 3, 4, 5, 6, 7, 8, 9, 10, 11, 12, 13, 14, 15, 16, 17, 18, 19, 20, 21, 22, 23, 24, 25, 26, 27, 28, 29, 30, 31, 32, 33, 34, 35, 36, 37, 38, 39, 40, 41, 42, 43, 44, 45, 46, 47, 48, 49, 50]\n"
     ]
    }
   ],
   "source": [
    "print(days)"
   ]
  },
  {
   "cell_type": "markdown",
   "metadata": {},
   "source": [
    "# 【課題】何人が何日生活できる米か"
   ]
  },
  {
   "cell_type": "markdown",
   "metadata": {},
   "source": [
    " http://www.maff.go.jp/j/seisan/kikaku/pdf/data01.pdf#search='%E6%97%A5%E6%9C%AC%E4%BA%BA%E4%B8%80%E4%BA%BA+%E4%B8%80%E6%97%A5+%E6%B6%88%E8%B2%BB+%E7%B1%B3%E3%81%AE%E6%95%B0'\n",
    "    日本人が日に消費する米の数(default:)\n",
    "    666６粒*1.1合=7332"
   ]
  },
  {
   "cell_type": "code",
   "execution_count": 94,
   "metadata": {
    "scrolled": true
   },
   "outputs": [
    {
     "name": "stdout",
     "output_type": "stream",
     "text": [
      "[1, 2, 3, 4, 5, 6, 7, 8, 9, 10, 11, 12, 13, 14, 15, 16, 17, 18, 19, 20, 21, 22, 23, 24, 25, 26, 27, 28, 29, 30, 31, 32, 33, 34, 35, 36, 37, 38, 39, 40, 41, 42, 43, 44, 45, 46, 47, 48, 49, 50]日間支給されるコメを2人で消費する日数は76779862714日です\n"
     ]
    }
   ],
   "source": [
    "print(str(days[-1])+ \"日間支給されるコメを\" + str(menber) + \"人で消費する日数は\"+str(int(round(can_consume_days,0))) +\"日です\")"
   ]
  },
  {
   "cell_type": "code",
   "execution_count": null,
   "metadata": {},
   "outputs": [],
   "source": []
  }
 ],
 "metadata": {
  "kernelspec": {
   "display_name": "Python 3",
   "language": "python",
   "name": "python3"
  },
  "language_info": {
   "codemirror_mode": {
    "name": "ipython",
    "version": 3
   },
   "file_extension": ".py",
   "mimetype": "text/x-python",
   "name": "python",
   "nbconvert_exporter": "python",
   "pygments_lexer": "ipython3",
   "version": "3.6.7"
  }
 },
 "nbformat": 4,
 "nbformat_minor": 2
}
