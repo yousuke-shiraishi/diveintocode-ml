{
 "cells": [
  {
   "cell_type": "markdown",
   "metadata": {},
   "source": [
    "月までの距離３８００００Km　\n",
    "富士山の高さ３,７７６m　\n",
    "太陽以外の恒星で地球から一番近い恒星はプロキシマ・ケンタウリで4.2光年で１光年は9兆5000億km"
   ]
  },
  {
   "cell_type": "code",
   "execution_count": 92,
   "metadata": {},
   "outputs": [],
   "source": [
    "import math"
   ]
  },
  {
   "cell_type": "code",
   "execution_count": 93,
   "metadata": {},
   "outputs": [],
   "source": [
    "#紙の厚さ\n",
    "t0=0.00008"
   ]
  },
  {
   "cell_type": "code",
   "execution_count": 94,
   "metadata": {},
   "outputs": [],
   "source": [
    "def how_many_hold(t0,paper_length):\n",
    "    div_hm = t0\n",
    "    count_div_hm = 0\n",
    "    while paper_length > div_hm:\n",
    "        div_hm *= 2\n",
    "        count_div_hm += 1\n",
    "    return count_div_hm   "
   ]
  },
  {
   "cell_type": "markdown",
   "metadata": {},
   "source": [
    "# 【課題】富士山を超える最小の折る回数"
   ]
  },
  {
   "cell_type": "code",
   "execution_count": 95,
   "metadata": {},
   "outputs": [
    {
     "name": "stdout",
     "output_type": "stream",
     "text": [
      "26\n"
     ]
    }
   ],
   "source": [
    "print(how_many_hold(t0,3776))"
   ]
  },
  {
   "cell_type": "code",
   "execution_count": 96,
   "metadata": {},
   "outputs": [
    {
     "name": "stdout",
     "output_type": "stream",
     "text": [
      "26回折る\n"
     ]
    }
   ],
   "source": [
    "#富士山まで何回トイレットペーパーを折るか？\n",
    "print(str(math.ceil(how_many_hold(t０,3776))) + \"回折る\")"
   ]
  },
  {
   "cell_type": "code",
   "execution_count": 97,
   "metadata": {},
   "outputs": [
    {
     "name": "stdout",
     "output_type": "stream",
     "text": [
      "43回折る\n"
     ]
    }
   ],
   "source": [
    "#月まで何回トイレットペーパーを折るか？\n",
    "print(str(math.ceil(how_many_hold(t０,384400000)))+\"回折る\")"
   ]
  },
  {
   "cell_type": "code",
   "execution_count": 98,
   "metadata": {},
   "outputs": [],
   "source": [
    "#太陽以外の恒星で地球から一番近い恒星はプロキシマ・ケンタウリで4.2光年で１光年は9兆5000億kmまで何回トイレットペーパーを折るか？"
   ]
  },
  {
   "cell_type": "code",
   "execution_count": 99,
   "metadata": {},
   "outputs": [
    {
     "name": "stdout",
     "output_type": "stream",
     "text": [
      "69回折る\n"
     ]
    }
   ],
   "source": [
    "print(str(math.ceil(how_many_hold(t０,9500000000000000*4.2)))+\"回折る\")"
   ]
  },
  {
   "cell_type": "markdown",
   "metadata": {},
   "source": [
    "# 必要なトイレットペーパーの長さ"
   ]
  },
  {
   "cell_type": "code",
   "execution_count": 100,
   "metadata": {},
   "outputs": [],
   "source": [
    "#目的地までのトイレットペーパーの長さ単位はメートル\n",
    "def length_to_ob(t0 ,paper_length):\n",
    "    return math.pi * t0 * (2 ** how_many_hold(t0,paper_length) + 4) * (2 ** how_many_hold(t0,paper_length) - 1)/6"
   ]
  },
  {
   "cell_type": "code",
   "execution_count": 101,
   "metadata": {},
   "outputs": [
    {
     "name": "stdout",
     "output_type": "stream",
     "text": [
      "188646348488メートル\n"
     ]
    }
   ],
   "source": [
    "#富士山まで必要なトイレットペーパーの長さ\n",
    "print(str(math.ceil(length_to_ob(t０,3776))) + \"メートル\")"
   ]
  },
  {
   "cell_type": "code",
   "execution_count": 102,
   "metadata": {},
   "outputs": [
    {
     "name": "stdout",
     "output_type": "stream",
     "text": [
      "3240919444170781229056メートル\n"
     ]
    }
   ],
   "source": [
    "#月まで必要なトイレットペーパーの長さ\n",
    "print(str(math.ceil(length_to_ob(t０,384400000)))+\"メートル\")"
   ]
  },
  {
   "cell_type": "code",
   "execution_count": 103,
   "metadata": {},
   "outputs": [],
   "source": [
    "#太陽以外の恒星で地球から一番近い恒星まで必要なトイレットペーパーの長さ"
   ]
  },
  {
   "cell_type": "code",
   "execution_count": 104,
   "metadata": {},
   "outputs": [
    {
     "name": "stdout",
     "output_type": "stream",
     "text": [
      "14595803601100347983589756318297096192メートル\n"
     ]
    }
   ],
   "source": [
    "print(str(math.ceil(length_to_ob(t0,9500000000000000*4.2)))+\"メートル\")"
   ]
  }
 ],
 "metadata": {
  "kernelspec": {
   "display_name": "Python 3",
   "language": "python",
   "name": "python3"
  },
  "language_info": {
   "codemirror_mode": {
    "name": "ipython",
    "version": 3
   },
   "file_extension": ".py",
   "mimetype": "text/x-python",
   "name": "python",
   "nbconvert_exporter": "python",
   "pygments_lexer": "ipython3",
   "version": "3.6.7"
  }
 },
 "nbformat": 4,
 "nbformat_minor": 2
}
