{
 "cells": [
  {
   "cell_type": "code",
   "execution_count": 29,
   "metadata": {},
   "outputs": [],
   "source": [
    "#紙の厚さ\n",
    "thickness = 0.00008"
   ]
  },
  {
   "cell_type": "markdown",
   "metadata": {},
   "source": [
    "# 富士山を超える最小の折る回数"
   ]
  },
  {
   "cell_type": "code",
   "execution_count": 30,
   "metadata": {},
   "outputs": [
    {
     "name": "stdout",
     "output_type": "stream",
     "text": [
      "富士山を超える最小の折る回数は26回です。\n"
     ]
    }
   ],
   "source": [
    "# 富士山の高さは3776m\n",
    "FUJISAN = 3776\n",
    "fold = 0\n",
    "folded_thickness = thickness\n",
    "while FUJISAN >= folded_thickness:\n",
    "    folded_thickness *= 2\n",
    "    fold += 1\n",
    "    \n",
    "print(f'富士山を超える最小の折る回数は{fold}回です。')"
   ]
  },
  {
   "cell_type": "markdown",
   "metadata": {},
   "source": [
    "# 【課題】任意の厚さに対応した関数を作成"
   ]
  },
  {
   "cell_type": "code",
   "execution_count": 31,
   "metadata": {},
   "outputs": [],
   "source": [
    "# 距離を入力して、折る必要回数を計算する関数。\n",
    "# 紙の厚さのデフォルトは0.00008m\n",
    "def fold_count_koeru(distance, thickness = 0.00008):\n",
    "    fold = 0\n",
    "    folded_thickness = thickness\n",
    "    while distance >= folded_thickness:\n",
    "        folded_thickness *= 2\n",
    "        fold += 1\n",
    "    \n",
    "    return fold"
   ]
  },
  {
   "cell_type": "markdown",
   "metadata": {},
   "source": [
    "最も近い太陽以外の恒星はプロキシマ・ケンタウリ（ケンタウルス座V645星）であり4.243光年である。\n",
    "\n",
    "1光年　＝　9.461e+15"
   ]
  },
  {
   "cell_type": "code",
   "execution_count": 32,
   "metadata": {},
   "outputs": [
    {
     "data": {
      "text/plain": [
       "69"
      ]
     },
     "execution_count": 32,
     "metadata": {},
     "output_type": "execute_result"
    }
   ],
   "source": [
    "KENTAURUSUZA = 4.243*9.461e+15\n",
    "fold_count_koeru(KENTAURUSUZA)"
   ]
  },
  {
   "cell_type": "code",
   "execution_count": 55,
   "metadata": {},
   "outputs": [
    {
     "name": "stdout",
     "output_type": "stream",
     "text": [
      "最も近い太陽以外の恒星に到達するには69回紙を折る必要があります。\n"
     ]
    }
   ],
   "source": [
    "print('最も近い太陽以外の恒星に到達するには{:}回紙を折る必要があります。'.format(fold_count_koeru(KENTAURUSUZA)))"
   ]
  },
  {
   "cell_type": "markdown",
   "metadata": {},
   "source": [
    "# 【課題】必要な紙の長さ"
   ]
  },
  {
   "cell_type": "code",
   "execution_count": 50,
   "metadata": {},
   "outputs": [],
   "source": [
    "import math\n",
    "# 距離と紙の厚さを入力したら、必要な紙の長さを教えてくれる関数\n",
    "def needed_paper_length(distance,thickness = 0.00008):\n",
    "    fold = fold_count_koeru(distance)\n",
    "    length = (math.pi*thickness/6)*(2**fold+4)*(2**fold-1)\n",
    "    return length"
   ]
  },
  {
   "cell_type": "code",
   "execution_count": 54,
   "metadata": {},
   "outputs": [
    {
     "name": "stdout",
     "output_type": "stream",
     "text": [
      "月に届くための必要な紙の長さは3.240919444170781e+21mです\n",
      "富士山に届くための必要な紙の長さは188,646,348,487.24017mです\n",
      "最も近い太陽以外の恒星に届くための必要な紙の長さは1.4595803601100348e+37mです\n"
     ]
    }
   ],
   "source": [
    "#月の距離\n",
    "TUKI = 384400000\n",
    "needed_paper_length(TUKI)\n",
    "print('月に届くための必要な紙の長さは{:,}mです'.format(needed_paper_length(TUKI)))\n",
    "print('富士山に届くための必要な紙の長さは{:,}mです'.format(needed_paper_length(FUJISAN)))\n",
    "print('最も近い太陽以外の恒星に届くための必要な紙の長さは{:,}mです'.format(needed_paper_length(KENTAURUSUZA)))"
   ]
  }
 ],
 "metadata": {
  "hide_input": false,
  "kernelspec": {
   "display_name": "Python 3",
   "language": "python",
   "name": "python3"
  },
  "language_info": {
   "codemirror_mode": {
    "name": "ipython",
    "version": 3
   },
   "file_extension": ".py",
   "mimetype": "text/x-python",
   "name": "python",
   "nbconvert_exporter": "python",
   "pygments_lexer": "ipython3",
   "version": "3.7.1"
  },
  "toc": {
   "base_numbering": 1,
   "nav_menu": {},
   "number_sections": true,
   "sideBar": true,
   "skip_h1_title": false,
   "title_cell": "Table of Contents",
   "title_sidebar": "Contents",
   "toc_cell": false,
   "toc_position": {},
   "toc_section_display": true,
   "toc_window_display": false
  }
 },
 "nbformat": 4,
 "nbformat_minor": 2
}
