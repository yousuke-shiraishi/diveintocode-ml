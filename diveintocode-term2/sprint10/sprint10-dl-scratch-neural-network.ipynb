{
 "cells": [
  {
   "cell_type": "code",
   "execution_count": 1,
   "metadata": {},
   "outputs": [
    {
     "name": "stderr",
     "output_type": "stream",
     "text": [
      "Using TensorFlow backend.\n"
     ]
    }
   ],
   "source": [
    "from keras.datasets import mnist\n",
    "import numpy as np\n",
    "from collections import OrderedDict\n",
    "import matplotlib.pyplot as plt\n",
    "from sklearn.model_selection import train_test_split\n",
    "import sys, os\n",
    "%matplotlib inline\n",
    "(x_train, y_train), (x_test, y_test) = mnist.load_data()"
   ]
  },
  {
   "cell_type": "code",
   "execution_count": 2,
   "metadata": {},
   "outputs": [
    {
     "name": "stdout",
     "output_type": "stream",
     "text": [
      "1.0\n",
      "0.0\n"
     ]
    }
   ],
   "source": [
    "X_train = x_train.astype(np.float)\n",
    "X_test = x_test.astype(np.float)\n",
    "X_train /= 255\n",
    "X_test /= 255\n",
    "print(X_train.max()) # 1.0\n",
    "print(X_train.min()) # 0.0"
   ]
  },
  {
   "cell_type": "code",
   "execution_count": 3,
   "metadata": {},
   "outputs": [],
   "source": [
    "X_train = X_train.reshape(-1, 784)\n",
    "X_test = X_test.reshape(-1, 784)"
   ]
  },
  {
   "cell_type": "code",
   "execution_count": 4,
   "metadata": {},
   "outputs": [
    {
     "data": {
      "image/png": "[encoded data removed]",
      "text/plain": [
       "<Figure size 432x288 with 1 Axes>"
      ]
     },
     "metadata": {
      "needs_background": "light"
     },
     "output_type": "display_data"
    }
   ],
   "source": [
    "index = 0\n",
    "image = X_train[index].reshape(28,28)\n",
    "# X_train[index]: (784,)\n",
    "# image: (28, 28)\n",
    "plt.imshow(image, 'gray')\n",
    "plt.title('label : {}'.format(y_train[index]))\n",
    "plt.show()"
   ]
  },
  {
   "cell_type": "code",
   "execution_count": 5,
   "metadata": {},
   "outputs": [
    {
     "name": "stdout",
     "output_type": "stream",
     "text": [
      "(60000,)\n",
      "(60000, 10)\n",
      "float64\n"
     ]
    }
   ],
   "source": [
    "from sklearn.preprocessing import OneHotEncoder\n",
    "enc = OneHotEncoder(handle_unknown='ignore', sparse=False)\n",
    "y_train_one_hot = enc.fit_transform(y_train[:, np.newaxis])\n",
    "y_test_one_hot = enc.transform(y_test[:, np.newaxis])\n",
    "print(y_train.shape) # (60000,)\n",
    "print(y_train_one_hot.shape) # (60000, 10)\n",
    "print(y_train_one_hot.dtype) # float64\n",
    "y_train = y_train_one_hot\n",
    "y_test = y_test_one_hot"
   ]
  },
  {
   "cell_type": "code",
   "execution_count": 6,
   "metadata": {},
   "outputs": [
    {
     "name": "stdout",
     "output_type": "stream",
     "text": [
      "(48000, 784)\n",
      "(12000, 784)\n",
      "(48000, 10)\n",
      "(12000, 10)\n"
     ]
    }
   ],
   "source": [
    "X_train, X_val, y_train, y_val = train_test_split(X_train, y_train, test_size=0.2)\n",
    "print(X_train.shape) # (48000, 784)\n",
    "print(X_val.shape) # (12000, 784)\n",
    "print(y_train.shape) # (48000, 784)\n",
    "print(y_val.shape) # (12000, 784)"
   ]
  },
  {
   "cell_type": "code",
   "execution_count": 7,
   "metadata": {},
   "outputs": [],
   "source": [
    "def sigmoid(X):\n",
    "    return 1/ (1 + np.exp(-X))"
   ]
  },
  {
   "cell_type": "code",
   "execution_count": 8,
   "metadata": {},
   "outputs": [],
   "source": [
    "def cross_entropy_error(z,y):\n",
    "    return -np.sum(y * np.log(z))"
   ]
  },
  {
   "cell_type": "code",
   "execution_count": 9,
   "metadata": {},
   "outputs": [],
   "source": [
    "def softmax(A):\n",
    "        \"\"\"\n",
    "        softmap関数\n",
    "        \"\"\"\n",
    "        if A.ndim == 2:\n",
    "            A = A.T\n",
    "            A = A - np.max(A, axis=0)\n",
    "            y = np.exp(A) / np.sum(np.exp(A), axis=0)\n",
    "            return y.T\n",
    "\n",
    "        A = A - np.max(A)\n",
    "        return np.exp(A) / np.sum(np.exp(A))"
   ]
  },
  {
   "cell_type": "code",
   "execution_count": 10,
   "metadata": {},
   "outputs": [],
   "source": [
    "def numerical_gradient(f, x):\n",
    "    h = 1e-4 # 0.0001\n",
    "    grad = np.zeros_like(x)\n",
    "    \n",
    "    it = np.nditer(x, flags=['multi_index'], op_flags=['readwrite'])\n",
    "    while not it.finished:\n",
    "        idx = it.multi_index\n",
    "        tmp_val = x[idx]\n",
    "        x[idx] = float(tmp_val) + h\n",
    "        fxh1 = f(x) # f(x+h)\n",
    "        \n",
    "        x[idx] = tmp_val - h \n",
    "        fxh2 = f(x) # f(x-h)\n",
    "        grad[idx] = (fxh1 - fxh2) / (2*h)\n",
    "        \n",
    "        x[idx] = tmp_val # 値を元に戻す\n",
    "        it.iternext()   \n",
    "        \n",
    "    return grad"
   ]
  },
  {
   "cell_type": "code",
   "execution_count": 11,
   "metadata": {},
   "outputs": [],
   "source": [
    "class Affine:\n",
    "    def __init__(self,w,b):# インスタンス変数の初期化\n",
    "        self.W = w # 重みは固定\n",
    "        self.b = b #　バイアスも固定\n",
    "        self.x = None\n",
    "        self.dW = None\n",
    "        self.db = None\n",
    "        \n",
    "    def forward(self, x):\n",
    "        self.x = x #入力を引数で渡す。\n",
    "        out = np.dot(x, self.W) + self.b # バイアス+重みx入力の行列を渡す\n",
    "        return out\n",
    "\n",
    "    def backward(self, dout):\n",
    "        dx = np.dot(dout, self.W.T)#重みの形状の転置を行なって、それをdoutでdotする。\n",
    "        self.dW = np.dot(self.x.T, dout)# 入力の形状の転置を行なって、それをdoutでdotする。\n",
    "        self.db = np.sum(dout, axis=0)#バイアスはaxis=0で微分する。\n",
    "        \n",
    "        return dx"
   ]
  },
  {
   "cell_type": "code",
   "execution_count": 12,
   "metadata": {},
   "outputs": [],
   "source": [
    "class Sigmoid:\n",
    "    def __init__(self):\n",
    "        self.out = None\n",
    "\n",
    "    def forward(self, x):\n",
    "        out = sigmoid(x)\n",
    "        self.out = out\n",
    "        return out\n",
    "\n",
    "    def backward(self, dout):\n",
    "        dx = dout * (1.0 - self.out) * self.out\n",
    "\n",
    "        return dx"
   ]
  },
  {
   "cell_type": "code",
   "execution_count": 13,
   "metadata": {},
   "outputs": [],
   "source": [
    "class SoftmaxWithLoss:\n",
    "    def __init__(self):#インスタンス変数の初期化\n",
    "        self.loss = None # 損失\n",
    "        self.y = None # softmaxの出力\n",
    "        self.t = None # 教師データ\n",
    "        \n",
    "    def forward(self, x, t):\n",
    "        self.t = t # 教師データの代入\n",
    "        self.y = softmax(x) # softmax関数の出力\n",
    "        #print(self.y)\n",
    "        self.loss = cross_entropy_error(self.y, self.t) # 交差エントロピー誤差の出力　引数には、softmax関数の出力\n",
    "        \n",
    "        return self.loss #交差エントロピー誤差のインスタンス変数を返す。\n",
    "    \n",
    "    def backward(self, dout=1):\n",
    "        batch_size = self.t.shape[0] #教師データの数を取得する\n",
    "        dx = (self.y - self.t) / batch_size #教師データの数で割り算する。\n",
    "        \n",
    "        return dx"
   ]
  },
  {
   "cell_type": "code",
   "execution_count": 14,
   "metadata": {},
   "outputs": [],
   "source": [
    "class ScratchSimpleNeuralNetrowkClassifier():\n",
    "    \"\"\"\n",
    "    シンプルな三層ニューラルネットワーク分類器\n",
    "\n",
    "    Parameters\n",
    "    ----------\n",
    "\n",
    "    Attributes\n",
    "    ----------\n",
    "    \"\"\"\n",
    "\n",
    "    def __init__(self, verbose = True):\n",
    "        self.verbose = verbose\n",
    "\n",
    "        sigma  = 0.01 # ガウス分布の標準偏差\n",
    "        batch_size = 10 # バッチサイズ\n",
    "        n_features = 784 # 特徴量の数\n",
    "        n_nodes1 = 400 # 1層目のノード数\n",
    "        n_nodes2 = 200 # 2層目のノード数\n",
    "        n_output = 10 # 出力のクラス数（3層目のノード数）\n",
    "        \n",
    "        \n",
    "        self.params = {}\n",
    "        self.params['W1'] = sigma  * np.random.randn(n_features, n_nodes1) # W1入力層->第１層の重み\n",
    "        self.params['b1'] = sigma  * np.random.randn(n_nodes1)# 入力層->第１層のバイアス\n",
    "        self.params['W2'] = sigma * np.random.randn(n_nodes1, n_nodes2)# W2第１層->隠れ層の重み\n",
    "        self.params['b2'] = sigma  * np.random.randn(n_nodes2)# 第１層->第2層のバイアス\n",
    "        self.params['W3'] = sigma * np.random.randn(n_nodes2, n_output)# W3第1層->出力層の重み\n",
    "        self.params['b3'] = sigma  * np.random.randn(n_output)# 第2層->出力層のバイアス\n",
    "        \n",
    "        \n",
    "         # レイヤの生成\n",
    "        self.layers = OrderedDict()#OrderedDict = 項目が追加された順序を記憶する辞書のサブクラス\n",
    "        self.layers['Affine1'] = Affine(self.params['W1'], self.params['b1'])# Affine1 入力層->第１層　重みバイアスで出力\n",
    "        self.layers['Sigmoid1'] = Sigmoid() # Relu関数で、0以上のものだけを出力する。a->zのところ\n",
    "        self.layers['Affine2'] = Affine(self.params['W2'], self.params['b2'])# Affine2 重みバイアスで出力\n",
    "        self.layers['Sigmoid2'] = Sigmoid() # Relu関数で、0以上のものだけを出力する。a->zのところ\n",
    "        self.layers['Affine3'] = Affine(self.params['W3'], self.params['b3'])# Affine2 重みバイアスで出力\n",
    "        self.lastLayer = SoftmaxWithLoss()\n",
    "    \n",
    "            \n",
    "    def gradient(self, x, t):\n",
    "        # forward\n",
    "        self.loss(x, t) #損失関数のメソッド　は、return self.lastLayer.forward(y, t)つまり、loss関数を計算して代入するだけなはず。\n",
    "        \n",
    "        \n",
    "        # backward\n",
    "        dout = 1 #損失関数->出力層への勾配 ∂L/∂Lで1\n",
    "        dout = self.lastLayer.backward(dout) # 出力層の逆伝播を求める。\n",
    "\n",
    "        layers = list(self.layers.values())#layersをリストにする。\n",
    "        layers.reverse()# 逆の順番にする。\n",
    "        for layer in layers:\n",
    "            dout = layer.backward(dout) #各レイヤーの逆伝搬の値を算出する。\n",
    "\n",
    "        grads ={}\n",
    "        grads['W1'] = self.layers['Affine1'].dW # 各レイヤ関数に、self.dW , self.dbが組み込まれているので、backwardを実行すると各変数に代入される。\n",
    "        grads['b1'] = self.layers['Affine1'].db\n",
    "        grads['W2'] = self.layers['Affine2'].dW\n",
    "        grads['b2'] = self.layers['Affine2'].db\n",
    "        grads['W3'] = self.layers['Affine3'].dW\n",
    "        grads['b3'] = self.layers['Affine3'].db\n",
    "        \n",
    "        \n",
    "        return grads\n",
    "\n",
    "\n",
    "    # 損失関数の値を求める\n",
    "    # x:入力データ、t:教師データ\n",
    "    def loss(self, x, t):# 損失関数\n",
    "        y = self.predict(x)#predictが出力した値をyに代入\n",
    "        return self.lastLayer.forward(y, t)\n",
    "    \n",
    "\n",
    "    def predict(self, X):\n",
    "        \"\"\"\n",
    "        ニューラルネットワーク分類器を使い推定する。\n",
    "\n",
    "        Parameters\n",
    "        ----------\n",
    "        X : 次の形のndarray, shape (n_samples, n_features)\n",
    "            サンプル\n",
    "\n",
    "        Returns\n",
    "        -------\n",
    "            次の形のndarray, shape (n_samples, 1)\n",
    "            推定結果\n",
    "        \"\"\"\n",
    "        for layer in self.layers.values():# OrderedDictクラスインスタンスのvalues()メソッドでリストを表示\n",
    "            X = layer.forward(X)#Affin1.forward(x), Sigmoid1.forward(x), Affine2.forward(x) , Sigmoid2.forward(x), Affine3.forward(x)でAffin3までを行う。\n",
    "        \n",
    "        return X # 最終的にfor構文が終わった時には、Affine3.forward(x)の結果になっているはず"
   ]
  },
  {
   "cell_type": "code",
   "execution_count": 15,
   "metadata": {},
   "outputs": [],
   "source": [
    "\n",
    "class GetMiniBatch:\n",
    "    \"\"\"\n",
    "    ミニバッチを取得するイテレータ\n",
    "\n",
    "    Parameters\n",
    "    ----------\n",
    "    X : 次の形のndarray, shape (n_samples, n_features)\n",
    "      学習データ\n",
    "    y : 次の形のndarray, shape (n_samples, 1)\n",
    "      正解値\n",
    "    batch_size : int\n",
    "      バッチサイズ\n",
    "    seed : int\n",
    "      NumPyの乱数のシード\n",
    "    \"\"\"\n",
    "    def __init__(self, X, y, batch_size = 10, seed=0):\n",
    "        self.batch_size = batch_size\n",
    "        np.random.seed(seed)\n",
    "        shuffle_index = np.random.permutation(np.arange(X.shape[0]))\n",
    "        self.X = X[shuffle_index]\n",
    "        self.y = y[shuffle_index]\n",
    "        self._stop = np.ceil(X.shape[0]/self.batch_size).astype(np.int)\n",
    "\n",
    "    def __len__(self):\n",
    "        return self._stop\n",
    "\n",
    "    def __getitem__(self,item):\n",
    "        p0 = item*self.batch_size\n",
    "        p1 = item*self.batch_size + self.batch_size\n",
    "        return self.X[p0:p1], self.y[p0:p1]        \n",
    "\n",
    "    def __iter__(self):\n",
    "        self._counter = 0\n",
    "        return self\n",
    "\n",
    "    def __next__(self):\n",
    "        if self._counter >= self._stop:\n",
    "            raise StopIteration()\n",
    "        p0 = self._counter*self.batch_size\n",
    "        p1 = self._counter*self.batch_size + self.batch_size\n",
    "        self._counter += 1\n",
    "        return self.X[p0:p1], self.y[p0:p1]"
   ]
  },
  {
   "cell_type": "markdown",
   "metadata": {},
   "source": [
    "# 【問題2】学習曲線のプロット"
   ]
  },
  {
   "cell_type": "code",
   "execution_count": 16,
   "metadata": {},
   "outputs": [
    {
     "name": "stdout",
     "output_type": "stream",
     "text": [
      "0 番目のエポックの最後のloss値  228.79906486902627\n",
      "1 番目のエポックの最後のloss値  228.34029251903075\n",
      "2 番目のエポックの最後のloss値  156.35133713961574\n",
      "3 番目のエポックの最後のloss値  93.43633888567868\n",
      "4 番目のエポックの最後のloss値  60.83576364726888\n",
      "5 番目のエポックの最後のloss値  45.87460412159363\n",
      "6 番目のエポックの最後のloss値  36.1419580057624\n",
      "7 番目のエポックの最後のloss値  26.587107765872023\n",
      "8 番目のエポックの最後のloss値  19.423198023206613\n",
      "9 番目のエポックの最後のloss値  16.050047702252986\n",
      "10 番目のエポックの最後のloss値  14.047041925671666\n",
      "11 番目のエポックの最後のloss値  12.459404661682608\n",
      "12 番目のエポックの最後のloss値  11.082569061941443\n",
      "13 番目のエポックの最後のloss値  9.883198342040906\n",
      "14 番目のエポックの最後のloss値  8.851741323599192\n",
      "15 番目のエポックの最後のloss値  7.974968975757751\n",
      "16 番目のエポックの最後のloss値  7.233810999326165\n",
      "17 番目のエポックの最後のloss値  6.608724011822682\n",
      "18 番目のエポックの最後のloss値  6.080139960350647\n",
      "19 番目のエポックの最後のloss値  5.627844518209267\n",
      "20 番目のエポックの最後のloss値  5.233150535765347\n",
      "21 番目のエポックの最後のloss値  4.88095970132718\n",
      "22 番目のエポックの最後のloss値  4.560304064677651\n",
      "23 番目のエポックの最後のloss値  4.263825243153623\n",
      "24 番目のエポックの最後のloss値  3.9869489534783566\n",
      "25 番目のエポックの最後のloss値  3.7271046940587134\n",
      "26 番目のエポックの最後のloss値  3.4830826827985977\n",
      "27 番目のエポックの最後のloss値  3.2545402743013305\n",
      "28 番目のエポックの最後のloss値  3.0415999074663658\n",
      "29 番目のエポックの最後のloss値  2.8444909389287782\n",
      "30 番目のエポックの最後のloss値  2.663262359741439\n",
      "31 番目のエポックの最後のloss値  2.4976196824162504\n",
      "32 番目のエポックの最後のloss値  2.3468927819088465\n",
      "33 番目のエポックの最後のloss値  2.2100966466300553\n",
      "34 番目のエポックの最後のloss値  2.0860396346983645\n",
      "35 番目のエポックの最後のloss値  1.9734428166303897\n",
      "36 番目のエポックの最後のloss値  1.8710427627072985\n",
      "37 番目のエポックの最後のloss値  1.7776614959727\n",
      "38 番目のエポックの最後のloss値  1.6922420514680117\n",
      "39 番目のエポックの最後のloss値  1.6138583790725267\n",
      "0 番目のエポックの最後のloss_val値  228.10063180035547\n",
      "1 番目のエポックの最後のloss_val値  228.49699068616178\n",
      "2 番目のエポックの最後のloss_val値  228.83190967568856\n",
      "3 番目のエポックの最後のloss_val値  229.0918824961725\n",
      "4 番目のエポックの最後のloss_val値  229.262667103954\n",
      "5 番目のエポックの最後のloss_val値  229.32295319265438\n",
      "6 番目のエポックの最後のloss_val値  229.2039757647018\n",
      "7 番目のエポックの最後のloss_val値  228.6268232478882\n",
      "8 番目のエポックの最後のloss_val値  225.72770815032248\n",
      "9 番目のエポックの最後のloss_val値  205.7382098173704\n",
      "10 番目のエポックの最後のloss_val値  171.43049217053243\n",
      "11 番目のエポックの最後のloss_val値  145.06413006534484\n",
      "12 番目のエポックの最後のloss_val値  120.12610266297789\n",
      "13 番目のエポックの最後のloss_val値  94.83573518079407\n",
      "14 番目のエポックの最後のloss_val値  76.1946108403043\n",
      "15 番目のエポックの最後のloss_val値  67.53490975228834\n",
      "16 番目のエポックの最後のloss_val値  61.70034892098323\n",
      "17 番目のエポックの最後のloss_val値  56.65026105384803\n",
      "18 番目のエポックの最後のloss_val値  51.96340770951343\n",
      "19 番目のエポックの最後のloss_val値  47.77232530770488\n",
      "20 番目のエポックの最後のloss_val値  44.26498217302653\n",
      "21 番目のエポックの最後のloss_val値  41.44126043695811\n",
      "22 番目のエポックの最後のloss_val値  39.15969583447816\n",
      "23 番目のエポックの最後のloss_val値  37.25667615237912\n",
      "24 番目のエポックの最後のloss_val値  35.59975010936743\n",
      "25 番目のエポックの最後のloss_val値  34.09130689946714\n",
      "26 番目のエポックの最後のloss_val値  32.6598381425353\n",
      "27 番目のエポックの最後のloss_val値  31.256954396202\n",
      "28 番目のエポックの最後のloss_val値  29.864218335496926\n",
      "29 番目のエポックの最後のloss_val値  28.501658409585673\n",
      "30 番目のエポックの最後のloss_val値  27.2208740133922\n",
      "31 番目のエポックの最後のloss_val値  26.07562378569395\n",
      "32 番目のエポックの最後のloss_val値  25.0920834384807\n",
      "33 番目のエポックの最後のloss_val値  24.264010731397775\n",
      "34 番目のエポックの最後のloss_val値  23.566439680327193\n",
      "35 番目のエポックの最後のloss_val値  22.969648673990186\n",
      "36 番目のエポックの最後のloss_val値  22.44673931927515\n",
      "37 番目のエポックの最後のloss_val値  21.976267875601398\n",
      "38 番目のエポックの最後のloss_val値  21.542396136941605\n",
      "39 番目のエポックの最後のloss_val値  21.134052249820954\n"
     ]
    },
    {
     "data": {
      "image/png": "[encoded data removed]",
      "text/plain": [
       "<Figure size 432x288 with 1 Axes>"
      ]
     },
     "metadata": {
      "needs_background": "light"
     },
     "output_type": "display_data"
    }
   ],
   "source": [
    "get_mini_batch = GetMiniBatch(X_train, y_train, batch_size=100)\n",
    "get_mini_batch_val = GetMiniBatch(X_val, y_val, batch_size=100)\n",
    "ssn = ScratchSimpleNeuralNetrowkClassifier()\n",
    "# print(len(get_mini_batch)) # 4800\n",
    "# print(get_mini_batch[5]) # 5番目のミニバッチが取得できる\n",
    "epocs=40\n",
    "train_loss_list = []\n",
    "for i in range(epocs):\n",
    "    for mini_X_train, mini_y_train in get_mini_batch:\n",
    "        lr = 0.2\n",
    "        grad = ssn.gradient(mini_X_train,mini_y_train)\n",
    "        for key in ('W1','b1','W2','b2','W3','b3'):\n",
    "            ssn.params[key] -= lr * grad[key]\n",
    "            #print(ssn.params[key])\n",
    "        loss = ssn.loss(mini_X_train,mini_y_train)\n",
    "    if ssn.verbose == True:\n",
    "        print(i,\"番目のエポックの最後のloss値 \",loss)\n",
    "        train_loss_list.append(loss)\n",
    "    \n",
    "if X_val is not None and y_val is not None:\n",
    "    ssn = ScratchSimpleNeuralNetrowkClassifier()\n",
    "    get_mini_batch_val = GetMiniBatch(X_val, y_val, batch_size=100)    \n",
    "    train_loss_list_val = []\n",
    "    for i in range(epocs):\n",
    "        for mini_X_train, mini_y_train in get_mini_batch_val:\n",
    "            lr = 0.2\n",
    "            grad = ssn.gradient(mini_X_train,mini_y_train)\n",
    "            for key in ('W1','b1','W2','b2','W3','b3'):\n",
    "                ssn.params[key] -= lr * grad[key]\n",
    "                #print(ssn.params[key])\n",
    "            loss_val = ssn.loss(mini_X_train,mini_y_train)\n",
    "        if ssn.verbose == True:\n",
    "            print(i,\"番目のエポックの最後のloss_val値 \",loss_val)\n",
    "            train_loss_list_val.append(loss_val)\n",
    "   \n",
    "plt.plot(train_loss_list)\n",
    "plt.plot(train_loss_list_val)\n",
    "plt.show()\n",
    "    \n",
    "\n",
    "    "
   ]
  },
  {
   "cell_type": "markdown",
   "metadata": {},
   "source": [
    "# 推定 【問題3】指標値の算出"
   ]
  },
  {
   "cell_type": "code",
   "execution_count": 24,
   "metadata": {},
   "outputs": [],
   "source": [
    "pre_y_pred = ssn.predict(X_val)\n",
    "y_pred = softmax(pre_y_pred)\n",
    "y_pred = (y_pred > 0.5) "
   ]
  },
  {
   "cell_type": "code",
   "execution_count": 25,
   "metadata": {},
   "outputs": [
    {
     "name": "stdout",
     "output_type": "stream",
     "text": [
      "              precision    recall  f1-score   support\n",
      "\n",
      "           0       0.97      0.95      0.96      1233\n",
      "           1       0.95      0.96      0.95      1325\n",
      "           2       0.94      0.88      0.91      1139\n",
      "           3       0.93      0.85      0.88      1256\n",
      "           4       0.95      0.89      0.92      1190\n",
      "           5       0.84      0.88      0.86      1039\n",
      "           6       0.95      0.93      0.94      1205\n",
      "           7       0.95      0.93      0.94      1252\n",
      "           8       0.91      0.84      0.87      1145\n",
      "           9       0.92      0.85      0.88      1216\n",
      "\n",
      "   micro avg       0.93      0.90      0.91     12000\n",
      "   macro avg       0.93      0.90      0.91     12000\n",
      "weighted avg       0.93      0.90      0.91     12000\n",
      " samples avg       0.90      0.90      0.90     12000\n",
      "\n"
     ]
    }
   ],
   "source": [
    "from sklearn.metrics import classification_report\n",
    "print(classification_report(y_val, y_pred))"
   ]
  },
  {
   "cell_type": "code",
   "execution_count": 23,
   "metadata": {},
   "outputs": [
    {
     "data": {
      "image/png": "[encoded data removed]",
      "text/plain": [
       "<Figure size 432x432 with 36 Axes>"
      ]
     },
     "metadata": {},
     "output_type": "display_data"
    }
   ],
   "source": [
    "num = 36 # いくつ表示するか\n",
    "\n",
    "true_false = y_pred==y_val\n",
    "false_list = np.where(true_false==False)[0].astype(np.int)\n",
    "\n",
    "if false_list.shape[0] < num:\n",
    "    num = false_list.shape[0]\n",
    "fig = plt.figure(figsize=(6, 6))\n",
    "fig.subplots_adjust(left=0, right=0.8,  bottom=0, top=0.8, hspace=1, wspace=0.5)\n",
    "for i in range(num):\n",
    "    ax = fig.add_subplot(6, 6, i + 1, xticks=[], yticks=[])\n",
    "    ax.set_title(\"{} / {}\".format(y_pred[false_list[i]],y_val[false_list[i]]))\n",
    "    ax.imshow(X_val.reshape(-1,28,28)[false_list[i]], cmap='gray')"
   ]
  },
  {
   "cell_type": "code",
   "execution_count": null,
   "metadata": {},
   "outputs": [],
   "source": []
  }
 ],
 "metadata": {
  "kernelspec": {
   "display_name": "Python 3",
   "language": "python",
   "name": "python3"
  },
  "language_info": {
   "codemirror_mode": {
    "name": "ipython",
    "version": 3
   },
   "file_extension": ".py",
   "mimetype": "text/x-python",
   "name": "python",
   "nbconvert_exporter": "python",
   "pygments_lexer": "ipython3",
   "version": "3.6.7"
  }
 },
 "nbformat": 4,
 "nbformat_minor": 2
}
