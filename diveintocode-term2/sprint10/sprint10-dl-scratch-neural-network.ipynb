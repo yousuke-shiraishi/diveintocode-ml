{
 "cells": [
  {
   "cell_type": "code",
   "execution_count": 17,
   "metadata": {},
   "outputs": [],
   "source": [
    "from keras.datasets import mnist\n",
    "import numpy as np\n",
    "from collections import OrderedDict\n",
    "import matplotlib.pyplot as plt\n",
    "from sklearn.model_selection import train_test_split\n",
    "import sys, os\n",
    "%matplotlib inline\n",
    "(x_train, y_train), (x_test, y_test) = mnist.load_data()"
   ]
  },
  {
   "cell_type": "code",
   "execution_count": 18,
   "metadata": {},
   "outputs": [
    {
     "name": "stdout",
     "output_type": "stream",
     "text": [
      "1.0\n",
      "0.0\n"
     ]
    }
   ],
   "source": [
    "X_train = x_train.astype(np.float)\n",
    "X_test = x_test.astype(np.float)\n",
    "X_train /= 255\n",
    "X_test /= 255\n",
    "print(X_train.max()) # 1.0\n",
    "print(X_train.min()) # 0.0"
   ]
  },
  {
   "cell_type": "code",
   "execution_count": 19,
   "metadata": {},
   "outputs": [],
   "source": [
    "X_train = X_train.reshape(-1, 784)\n",
    "X_test = X_test.reshape(-1, 784)"
   ]
  },
  {
   "cell_type": "code",
   "execution_count": 20,
   "metadata": {},
   "outputs": [
    {
     "data": {
      "image/png": "[encoded data removed]",
      "text/plain": [
       "<Figure size 432x288 with 1 Axes>"
      ]
     },
     "metadata": {
      "needs_background": "light"
     },
     "output_type": "display_data"
    }
   ],
   "source": [
    "index = 0\n",
    "image = X_train[index].reshape(28,28)\n",
    "# X_train[index]: (784,)\n",
    "# image: (28, 28)\n",
    "plt.imshow(image, 'gray')\n",
    "plt.title('label : {}'.format(y_train[index]))\n",
    "plt.show()"
   ]
  },
  {
   "cell_type": "code",
   "execution_count": 21,
   "metadata": {},
   "outputs": [
    {
     "name": "stdout",
     "output_type": "stream",
     "text": [
      "(60000,)\n",
      "(60000, 10)\n",
      "float64\n"
     ]
    }
   ],
   "source": [
    "from sklearn.preprocessing import OneHotEncoder\n",
    "enc = OneHotEncoder(handle_unknown='ignore', sparse=False)\n",
    "y_train_one_hot = enc.fit_transform(y_train[:, np.newaxis])\n",
    "y_test_one_hot = enc.transform(y_test[:, np.newaxis])\n",
    "print(y_train.shape) # (60000,)\n",
    "print(y_train_one_hot.shape) # (60000, 10)\n",
    "print(y_train_one_hot.dtype) # float64\n",
    "y_train = y_train_one_hot\n",
    "y_test = y_test_one_hot"
   ]
  },
  {
   "cell_type": "code",
   "execution_count": 22,
   "metadata": {},
   "outputs": [
    {
     "name": "stdout",
     "output_type": "stream",
     "text": [
      "(48000, 784)\n",
      "(12000, 784)\n",
      "(48000, 10)\n",
      "(12000, 10)\n"
     ]
    }
   ],
   "source": [
    "X_train, X_val, y_train, y_val = train_test_split(X_train, y_train, test_size=0.2)\n",
    "print(X_train.shape) # (48000, 784)\n",
    "print(X_val.shape) # (12000, 784)\n",
    "print(y_train.shape) # (48000, 784)\n",
    "print(y_val.shape) # (12000, 784)"
   ]
  },
  {
   "cell_type": "code",
   "execution_count": 23,
   "metadata": {},
   "outputs": [],
   "source": [
    "def sigmoid(X):\n",
    "    return 1/ (1 + np.exp(-X))"
   ]
  },
  {
   "cell_type": "code",
   "execution_count": 24,
   "metadata": {},
   "outputs": [],
   "source": [
    "def cross_entropy_error(z,y):\n",
    "    return -np.sum(y * np.log(z))"
   ]
  },
  {
   "cell_type": "code",
   "execution_count": 25,
   "metadata": {},
   "outputs": [],
   "source": [
    "def softmax(A):\n",
    "        \"\"\"\n",
    "        softmap関数\n",
    "        \"\"\"\n",
    "        if A.ndim == 2:\n",
    "            A = A.T\n",
    "            A = A - np.max(A, axis=0)\n",
    "            y = np.exp(A) / np.sum(np.exp(A), axis=0)\n",
    "            return y.T\n",
    "\n",
    "        A = A - np.max(A)\n",
    "        return np.exp(A) / np.sum(np.exp(A))"
   ]
  },
  {
   "cell_type": "code",
   "execution_count": 26,
   "metadata": {},
   "outputs": [],
   "source": [
    "def numerical_gradient(f, x):\n",
    "    h = 1e-4 # 0.0001\n",
    "    grad = np.zeros_like(x)\n",
    "    \n",
    "    it = np.nditer(x, flags=['multi_index'], op_flags=['readwrite'])\n",
    "    while not it.finished:\n",
    "        idx = it.multi_index\n",
    "        tmp_val = x[idx]\n",
    "        x[idx] = float(tmp_val) + h\n",
    "        fxh1 = f(x) # f(x+h)\n",
    "        \n",
    "        x[idx] = tmp_val - h \n",
    "        fxh2 = f(x) # f(x-h)\n",
    "        grad[idx] = (fxh1 - fxh2) / (2*h)\n",
    "        \n",
    "        x[idx] = tmp_val # 値を元に戻す\n",
    "        it.iternext()   \n",
    "        \n",
    "    return grad"
   ]
  },
  {
   "cell_type": "code",
   "execution_count": 27,
   "metadata": {},
   "outputs": [],
   "source": [
    "class Affine:\n",
    "    def __init__(self,w,b):# インスタンス変数の初期化\n",
    "        self.W = w # 重みは固定\n",
    "        self.b = b #　バイアスも固定\n",
    "        self.x = None\n",
    "        self.dW = None\n",
    "        self.db = None\n",
    "        \n",
    "    def forward(self, x):\n",
    "        self.x = x #入力を引数で渡す。\n",
    "        out = np.dot(x, self.W) + self.b # バイアス+重みx入力の行列を渡す\n",
    "        return out\n",
    "\n",
    "    def backward(self, dout):\n",
    "        dx = np.dot(dout, self.W.T)#重みの形状の転置を行なって、それをdoutでdotする。\n",
    "        self.dW = np.dot(self.x.T, dout)# 入力の形状の転置を行なって、それをdoutでdotする。\n",
    "        self.db = np.sum(dout, axis=0)#バイアスはaxis=0で微分する。\n",
    "        \n",
    "        return dx"
   ]
  },
  {
   "cell_type": "code",
   "execution_count": 28,
   "metadata": {},
   "outputs": [],
   "source": [
    "class Sigmoid:\n",
    "    def __init__(self):\n",
    "        self.out = None\n",
    "\n",
    "    def forward(self, x):\n",
    "        out = sigmoid(x)\n",
    "        self.out = out\n",
    "        return out\n",
    "\n",
    "    def backward(self, dout):\n",
    "        dx = dout * (1.0 - self.out) * self.out\n",
    "\n",
    "        return dx"
   ]
  },
  {
   "cell_type": "code",
   "execution_count": 29,
   "metadata": {},
   "outputs": [],
   "source": [
    "class SoftmaxWithLoss:\n",
    "    def __init__(self):#インスタンス変数の初期化\n",
    "        self.loss = None # 損失\n",
    "        self.y = None # softmaxの出力\n",
    "        self.t = None # 教師データ\n",
    "        \n",
    "    def forward(self, x, t):\n",
    "        self.t = t # 教師データの代入\n",
    "        self.y = softmax(x) # softmax関数の出力\n",
    "        #print(self.y)\n",
    "        self.loss = cross_entropy_error(self.y, self.t) # 交差エントロピー誤差の出力　引数には、softmax関数の出力\n",
    "        \n",
    "        return self.loss #交差エントロピー誤差のインスタンス変数を返す。\n",
    "    \n",
    "    def backward(self, dout=1):\n",
    "        batch_size = self.t.shape[0] #教師データの数を取得する\n",
    "        dx = (self.y - self.t) / batch_size #教師データの数で割り算する。\n",
    "        \n",
    "        return dx"
   ]
  },
  {
   "cell_type": "code",
   "execution_count": 30,
   "metadata": {},
   "outputs": [],
   "source": [
    "class ScratchSimpleNeuralNetrowkClassifier():\n",
    "    \"\"\"\n",
    "    シンプルな三層ニューラルネットワーク分類器\n",
    "\n",
    "    Parameters\n",
    "    ----------\n",
    "\n",
    "    Attributes\n",
    "    ----------\n",
    "    \"\"\"\n",
    "\n",
    "    def __init__(self, verbose = True):\n",
    "        self.verbose = verbose\n",
    "\n",
    "        sigma  = 0.01 # ガウス分布の標準偏差\n",
    "        batch_size = 10 # バッチサイズ\n",
    "        n_features = 784 # 特徴量の数\n",
    "        n_nodes1 = 400 # 1層目のノード数\n",
    "        n_nodes2 = 200 # 2層目のノード数\n",
    "        n_output = 10 # 出力のクラス数（3層目のノード数）\n",
    "        \n",
    "        \n",
    "        self.params = {}\n",
    "        self.params['W1'] = sigma  * np.random.randn(n_features, n_nodes1) # W1入力層->第１層の重み\n",
    "        self.params['b1'] = sigma  * np.random.randn(n_nodes1)# 入力層->第１層のバイアス\n",
    "        self.params['W2'] = sigma * np.random.randn(n_nodes1, n_nodes2)# W2第１層->隠れ層の重み\n",
    "        self.params['b2'] = sigma  * np.random.randn(n_nodes2)# 第１層->第2層のバイアス\n",
    "        self.params['W3'] = sigma * np.random.randn(n_nodes2, n_output)# W3第1層->出力層の重み\n",
    "        self.params['b3'] = sigma  * np.random.randn(n_output)# 第2層->出力層のバイアス\n",
    "        \n",
    "        \n",
    "         # レイヤの生成\n",
    "        self.layers = OrderedDict()#OrderedDict = 項目が追加された順序を記憶する辞書のサブクラス\n",
    "        self.layers['Affine1'] = Affine(self.params['W1'], self.params['b1'])# Affine1 入力層->第１層　重みバイアスで出力\n",
    "        self.layers['Sigmoid1'] = Sigmoid() # Relu関数で、0以上のものだけを出力する。a->zのところ\n",
    "        self.layers['Affine2'] = Affine(self.params['W2'], self.params['b2'])# Affine2 重みバイアスで出力\n",
    "        self.layers['Sigmoid2'] = Sigmoid() # Relu関数で、0以上のものだけを出力する。a->zのところ\n",
    "        self.layers['Affine3'] = Affine(self.params['W3'], self.params['b3'])# Affine2 重みバイアスで出力\n",
    "        self.lastLayer = SoftmaxWithLoss()\n",
    "    \n",
    "            \n",
    "    def gradient(self, x, t):\n",
    "        # forward\n",
    "        self.loss(x, t) #損失関数のメソッド　は、return self.lastLayer.forward(y, t)つまり、loss関数を計算して代入するだけなはず。\n",
    "        \n",
    "        \n",
    "        # backward\n",
    "        dout = 1 #損失関数->出力層への勾配 ∂L/∂Lで1\n",
    "        dout = self.lastLayer.backward(dout) # 出力層の逆伝播を求める。\n",
    "\n",
    "        layers = list(self.layers.values())#layersをリストにする。\n",
    "        layers.reverse()# 逆の順番にする。\n",
    "        for layer in layers:\n",
    "            dout = layer.backward(dout) #各レイヤーの逆伝搬の値を算出する。\n",
    "\n",
    "        grads ={}\n",
    "        grads['W1'] = self.layers['Affine1'].dW # 各レイヤ関数に、self.dW , self.dbが組み込まれているので、backwardを実行すると各変数に代入される。\n",
    "        grads['b1'] = self.layers['Affine1'].db\n",
    "        grads['W2'] = self.layers['Affine2'].dW\n",
    "        grads['b2'] = self.layers['Affine2'].db\n",
    "        grads['W3'] = self.layers['Affine3'].dW\n",
    "        grads['b3'] = self.layers['Affine3'].db\n",
    "        \n",
    "        \n",
    "        return grads\n",
    "\n",
    "\n",
    "    # 損失関数の値を求める\n",
    "    # x:入力データ、t:教師データ\n",
    "    def loss(self, x, t):# 損失関数\n",
    "        y = self.predict(x)#predictが出力した値をyに代入\n",
    "        return self.lastLayer.forward(y, t)\n",
    "    \n",
    "\n",
    "    def predict(self, X):\n",
    "        \"\"\"\n",
    "        ニューラルネットワーク分類器を使い推定する。\n",
    "\n",
    "        Parameters\n",
    "        ----------\n",
    "        X : 次の形のndarray, shape (n_samples, n_features)\n",
    "            サンプル\n",
    "\n",
    "        Returns\n",
    "        -------\n",
    "            次の形のndarray, shape (n_samples, 1)\n",
    "            推定結果\n",
    "        \"\"\"\n",
    "        for layer in self.layers.values():# OrderedDictクラスインスタンスのvalues()メソッドでリストを表示\n",
    "            X = layer.forward(X)#Affin1.forward(x), Sigmoid1.forward(x), Affine2.forward(x) , Sigmoid2.forward(x), Affine3.forward(x)でAffin3までを行う。\n",
    "        \n",
    "        return X # 最終的にfor構文が終わった時には、Affine3.forward(x)の結果になっているはず"
   ]
  },
  {
   "cell_type": "code",
   "execution_count": 31,
   "metadata": {},
   "outputs": [],
   "source": [
    "\n",
    "class GetMiniBatch:\n",
    "    \"\"\"\n",
    "    ミニバッチを取得するイテレータ\n",
    "\n",
    "    Parameters\n",
    "    ----------\n",
    "    X : 次の形のndarray, shape (n_samples, n_features)\n",
    "      学習データ\n",
    "    y : 次の形のndarray, shape (n_samples, 1)\n",
    "      正解値\n",
    "    batch_size : int\n",
    "      バッチサイズ\n",
    "    seed : int\n",
    "      NumPyの乱数のシード\n",
    "    \"\"\"\n",
    "    def __init__(self, X, y, batch_size = 10, seed=0):\n",
    "        self.batch_size = batch_size\n",
    "        np.random.seed(seed)\n",
    "        shuffle_index = np.random.permutation(np.arange(X.shape[0]))\n",
    "        self.X = X[shuffle_index]\n",
    "        self.y = y[shuffle_index]\n",
    "        self._stop = np.ceil(X.shape[0]/self.batch_size).astype(np.int)\n",
    "\n",
    "    def __len__(self):\n",
    "        return self._stop\n",
    "\n",
    "    def __getitem__(self,item):\n",
    "        p0 = item*self.batch_size\n",
    "        p1 = item*self.batch_size + self.batch_size\n",
    "        return self.X[p0:p1], self.y[p0:p1]        \n",
    "\n",
    "    def __iter__(self):\n",
    "        self._counter = 0\n",
    "        return self\n",
    "\n",
    "    def __next__(self):\n",
    "        if self._counter >= self._stop:\n",
    "            raise StopIteration()\n",
    "        p0 = self._counter*self.batch_size\n",
    "        p1 = self._counter*self.batch_size + self.batch_size\n",
    "        self._counter += 1\n",
    "        return self.X[p0:p1], self.y[p0:p1]"
   ]
  },
  {
   "cell_type": "markdown",
   "metadata": {},
   "source": [
    "# 【問題2】学習曲線のプロット"
   ]
  },
  {
   "cell_type": "code",
   "execution_count": 32,
   "metadata": {},
   "outputs": [
    {
     "name": "stdout",
     "output_type": "stream",
     "text": [
      "0 番目のエポックのloss値  227.11582732198065\n",
      "1 番目のエポックのloss値  227.51647512617234\n",
      "2 番目のエポックのloss値  156.9881785743096\n",
      "3 番目のエポックのloss値  89.72715062681574\n",
      "4 番目のエポックのloss値  58.60081596992882\n",
      "5 番目のエポックのloss値  45.2629066735541\n",
      "6 番目のエポックのloss値  37.59211151478655\n",
      "7 番目のエポックのloss値  32.04732369847001\n",
      "8 番目のエポックのloss値  28.29498955137216\n",
      "9 番目のエポックのloss値  25.44326072739034\n",
      "10 番目のエポックのloss値  23.09608113299388\n",
      "11 番目のエポックのloss値  21.12716315394374\n",
      "12 番目のエポックのloss値  19.408008760964584\n",
      "13 番目のエポックのloss値  17.85877538731837\n",
      "14 番目のエポックのloss値  16.44732304166375\n",
      "15 番目のエポックのloss値  15.164936003815132\n",
      "16 番目のエポックのloss値  14.010232622418043\n",
      "17 番目のエポックのloss値  12.978175139401035\n",
      "18 番目のエポックのloss値  12.055933927519886\n",
      "19 番目のエポックのloss値  11.225609865993814\n",
      "20 番目のエポックのloss値  10.469641889670438\n",
      "21 番目のエポックのloss値  9.774404602657203\n",
      "22 番目のエポックのloss値  9.130566165746693\n",
      "23 番目のエポックのloss値  8.532414319765406\n",
      "24 番目のエポックのloss値  7.977309052432459\n",
      "25 番目のエポックのloss値  7.4645414240516015\n",
      "26 番目のエポックのloss値  6.993757030468197\n",
      "27 番目のエポックのloss値  6.563995061586699\n",
      "28 番目のエポックのloss値  6.173571787954627\n",
      "29 番目のエポックのloss値  5.820283447706389\n",
      "30 番目のエポックのloss値  5.50157315079576\n",
      "31 番目のエポックのloss値  5.214638743385362\n",
      "32 番目のエポックのloss値  4.956533302231833\n",
      "33 番目のエポックのloss値  4.724261363149223\n",
      "34 番目のエポックのloss値  4.5148490190098\n",
      "35 番目のエポックのloss値  4.325395925709918\n",
      "36 番目のエポックのloss値  4.153146335162064\n",
      "37 番目のエポックのloss値  3.995585280573043\n",
      "38 番目のエポックのloss値  3.8505217180392517\n",
      "39 番目のエポックのloss値  3.716125670366652\n",
      "0 番目のエポックのloss_val値  228.82554936194379\n",
      "1 番目のエポックのloss_val値  229.69175317753837\n",
      "2 番目のエポックのloss_val値  230.1167205915196\n",
      "3 番目のエポックのloss_val値  230.3166024887791\n",
      "4 番目のエポックのloss_val値  230.36927018734775\n",
      "5 番目のエポックのloss_val値  230.28577624733063\n",
      "6 番目のエポックのloss_val値  229.99116926871017\n",
      "7 番目のエポックのloss_val値  229.09195011789328\n",
      "8 番目のエポックのloss_val値  224.17740318356692\n",
      "9 番目のエポックのloss_val値  198.87159919907518\n",
      "10 番目のエポックのloss_val値  175.99667323441463\n",
      "11 番目のエポックのloss_val値  152.4138697442472\n",
      "12 番目のエポックのloss_val値  130.8427002268039\n",
      "13 番目のエポックのloss_val値  113.78461664294394\n",
      "14 番目のエポックのloss_val値  93.63432613605784\n",
      "15 番目のエポックのloss_val値  82.90405367719009\n",
      "16 番目のエポックのloss_val値  77.10470327929141\n",
      "17 番目のエポックのloss_val値  72.20794720167271\n",
      "18 番目のエポックのloss_val値  67.32420491909896\n",
      "19 番目のエポックのloss_val値  62.55427773407225\n",
      "20 番目のエポックのloss_val値  58.32522038121843\n",
      "21 番目のエポックのloss_val値  54.89903471959507\n",
      "22 番目のエポックのloss_val値  52.24320252867767\n",
      "23 番目のエポックのloss_val値  50.174527977897654\n",
      "24 番目のエポックのloss_val値  48.49306496458661\n",
      "25 番目のエポックのloss_val値  47.03706272409906\n",
      "26 番目のエポックのloss_val値  45.692587432929216\n",
      "27 番目のエポックのloss_val値  44.387909948129064\n",
      "28 番目のエポックのloss_val値  43.08716193123597\n",
      "29 番目のエポックのloss_val値  41.7850299296585\n",
      "30 番目のエポックのloss_val値  40.49735253773425\n",
      "31 番目のエポックのloss_val値  39.24966656018049\n",
      "32 番目のエポックのloss_val値  38.066675487728034\n",
      "33 番目のエポックのloss_val値  36.96269938075935\n",
      "34 番目のエポックのloss_val値  35.938612077722446\n",
      "35 番目のエポックのloss_val値  34.985595422748034\n",
      "36 番目のエポックのloss_val値  34.09067631675143\n",
      "37 番目のエポックのloss_val値  33.240780290076344\n",
      "38 番目のエポックのloss_val値  32.42477064917868\n",
      "39 番目のエポックのloss_val値  31.63406374172707\n"
     ]
    },
    {
     "data": {
      "image/png": "[encoded data removed]",
      "text/plain": [
       "<Figure size 432x288 with 1 Axes>"
      ]
     },
     "metadata": {
      "needs_background": "light"
     },
     "output_type": "display_data"
    }
   ],
   "source": [
    "get_mini_batch = GetMiniBatch(X_train, y_train, batch_size=100)\n",
    "get_mini_batch_val = GetMiniBatch(X_val, y_val, batch_size=100)\n",
    "ssn = ScratchSimpleNeuralNetrowkClassifier()\n",
    "# print(len(get_mini_batch)) # 4800\n",
    "# print(get_mini_batch[5]) # 5番目のミニバッチが取得できる\n",
    "epocs=40\n",
    "train_loss_list = []\n",
    "for i in range(epocs):\n",
    "    for mini_X_train, mini_y_train in get_mini_batch:\n",
    "        lr = 0.2\n",
    "        grad = ssn.gradient(mini_X_train,mini_y_train)\n",
    "        for key in ('W1','b1','W2','b2','W3','b3'):\n",
    "            ssn.params[key] -= lr * grad[key]\n",
    "            #print(ssn.params[key])\n",
    "    loss = ssn.loss(mini_X_train,mini_y_train)\n",
    "    if ssn.verbose == True:\n",
    "        print(i,\"番目のエポックのloss値 \",loss)\n",
    "    train_loss_list.append(loss)\n",
    "    \n",
    "if X_val is not None and y_val is not None:\n",
    "    ssn = ScratchSimpleNeuralNetrowkClassifier()\n",
    "    get_mini_batch_val = GetMiniBatch(X_val, y_val, batch_size=100)    \n",
    "    train_loss_list_val = []\n",
    "    for i in range(epocs):\n",
    "        for mini_X_train, mini_y_train in get_mini_batch_val:\n",
    "            lr = 0.2\n",
    "            grad = ssn.gradient(mini_X_train,mini_y_train)\n",
    "            for key in ('W1','b1','W2','b2','W3','b3'):\n",
    "                ssn.params[key] -= lr * grad[key]\n",
    "                #print(ssn.params[key])\n",
    "        loss_val = ssn.loss(mini_X_train,mini_y_train)\n",
    "        if ssn.verbose == True:\n",
    "            print(i,\"番目のエポックのloss_val値 \",loss_val)\n",
    "        train_loss_list_val.append(loss_val)\n",
    "   \n",
    "plt.plot(train_loss_list)\n",
    "plt.plot(train_loss_list_val)\n",
    "plt.show()\n",
    "    \n",
    "\n",
    "    "
   ]
  },
  {
   "cell_type": "markdown",
   "metadata": {},
   "source": [
    "# 推定 【問題3】指標値の算出"
   ]
  },
  {
   "cell_type": "code",
   "execution_count": 33,
   "metadata": {},
   "outputs": [],
   "source": [
    "pre_y_pred = ssn.predict(X_val)\n",
    "y_pred = softmax(pre_y_pred)"
   ]
  },
  {
   "cell_type": "code",
   "execution_count": 36,
   "metadata": {},
   "outputs": [
    {
     "name": "stdout",
     "output_type": "stream",
     "text": [
      "              precision    recall  f1-score   support\n",
      "\n",
      "           0       0.98      0.95      0.96      1205\n",
      "           1       0.97      0.95      0.96      1347\n",
      "           2       0.91      0.92      0.91      1168\n",
      "           3       0.97      0.83      0.89      1252\n",
      "           4       0.93      0.92      0.92      1160\n",
      "           5       0.90      0.81      0.85      1075\n",
      "           6       0.94      0.94      0.94      1128\n",
      "           7       0.97      0.91      0.94      1303\n",
      "           8       0.89      0.88      0.89      1163\n",
      "           9       0.89      0.88      0.89      1199\n",
      "\n",
      "   micro avg       0.93      0.90      0.92     12000\n",
      "   macro avg       0.93      0.90      0.92     12000\n",
      "weighted avg       0.94      0.90      0.92     12000\n",
      " samples avg       0.90      0.90      0.90     12000\n",
      "\n"
     ]
    }
   ],
   "source": [
    "from sklearn.metrics import classification_report\n",
    "print(classification_report(y_val, y_pred))"
   ]
  },
  {
   "cell_type": "code",
   "execution_count": 37,
   "metadata": {},
   "outputs": [
    {
     "data": {
      "image/png": "[encoded data removed]",
      "text/plain": [
       "<Figure size 432x432 with 36 Axes>"
      ]
     },
     "metadata": {},
     "output_type": "display_data"
    }
   ],
   "source": [
    "num = 36 # いくつ表示するか\n",
    "\n",
    "true_false = y_pred==y_val\n",
    "false_list = np.where(true_false==False)[0].astype(np.int)\n",
    "\n",
    "if false_list.shape[0] < num:\n",
    "    num = false_list.shape[0]\n",
    "fig = plt.figure(figsize=(6, 6))\n",
    "fig.subplots_adjust(left=0, right=0.8,  bottom=0, top=0.8, hspace=1, wspace=0.5)\n",
    "for i in range(num):\n",
    "    ax = fig.add_subplot(6, 6, i + 1, xticks=[], yticks=[])\n",
    "    ax.set_title(\"{} / {}\".format(y_pred[false_list[i]],y_val[false_list[i]]))\n",
    "    ax.imshow(X_val.reshape(-1,28,28)[false_list[i]], cmap='gray')"
   ]
  },
  {
   "cell_type": "code",
   "execution_count": null,
   "metadata": {},
   "outputs": [],
   "source": []
  }
 ],
 "metadata": {
  "kernelspec": {
   "display_name": "Python 3",
   "language": "python",
   "name": "python3"
  },
  "language_info": {
   "codemirror_mode": {
    "name": "ipython",
    "version": 3
   },
   "file_extension": ".py",
   "mimetype": "text/x-python",
   "name": "python",
   "nbconvert_exporter": "python",
   "pygments_lexer": "ipython3",
   "version": "3.6.7"
  }
 },
 "nbformat": 4,
 "nbformat_minor": 2
}
