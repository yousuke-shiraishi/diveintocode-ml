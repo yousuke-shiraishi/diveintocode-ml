{
 "cells": [
  {
   "cell_type": "markdown",
   "metadata": {},
   "source": [
    "# 【問題1】自作データセットでの分類の学習"
   ]
  },
  {
   "cell_type": "code",
   "execution_count": 1,
   "metadata": {
    "ExecuteTime": {
     "end_time": "2019-06-11T22:57:40.460846Z",
     "start_time": "2019-06-11T22:57:40.343784Z"
    }
   },
   "outputs": [],
   "source": [
    "import numpy  as np\n",
    "import os\n",
    "import glob \n",
    "import re\n",
    "import random\n",
    "from PIL import Image"
   ]
  },
  {
   "cell_type": "markdown",
   "metadata": {
    "ExecuteTime": {
     "end_time": "2019-06-11T14:53:42.684517Z",
     "start_time": "2019-06-11T14:53:42.680632Z"
    }
   },
   "source": [
    "## osを使用する場合"
   ]
  },
  {
   "cell_type": "code",
   "execution_count": 2,
   "metadata": {
    "ExecuteTime": {
     "end_time": "2019-06-11T22:57:42.025283Z",
     "start_time": "2019-06-11T22:57:42.020555Z"
    }
   },
   "outputs": [],
   "source": [
    "path = './output/' \n",
    "# img_list = os.listdir(path)"
   ]
  },
  {
   "cell_type": "code",
   "execution_count": 3,
   "metadata": {
    "ExecuteTime": {
     "end_time": "2019-06-11T22:57:42.025283Z",
     "start_time": "2019-06-11T22:57:42.020555Z"
    }
   },
   "outputs": [],
   "source": [
    "path1 = './dog_cat1/' \n",
    "# img_list = os.listdir(path)"
   ]
  },
  {
   "cell_type": "code",
   "execution_count": 4,
   "metadata": {
    "ExecuteTime": {
     "end_time": "2019-06-11T22:57:42.739137Z",
     "start_time": "2019-06-11T22:57:42.722998Z"
    }
   },
   "outputs": [],
   "source": [
    "# img_list"
   ]
  },
  {
   "cell_type": "markdown",
   "metadata": {},
   "source": [
    "## globを使用する場合"
   ]
  },
  {
   "cell_type": "code",
   "execution_count": 5,
   "metadata": {
    "ExecuteTime": {
     "end_time": "2019-06-11T22:57:43.758549Z",
     "start_time": "2019-06-11T22:57:43.754726Z"
    }
   },
   "outputs": [],
   "source": [
    "img_list = glob.glob(path + '/*' + \".jpeg\")"
   ]
  },
  {
   "cell_type": "code",
   "execution_count": 6,
   "metadata": {
    "ExecuteTime": {
     "end_time": "2019-06-11T22:57:43.758549Z",
     "start_time": "2019-06-11T22:57:43.754726Z"
    }
   },
   "outputs": [],
   "source": [
    "img_list1 = glob.glob(path1 + '/*' + \".jpeg\")"
   ]
  },
  {
   "cell_type": "markdown",
   "metadata": {},
   "source": [
    "# イメージのロード、配列化、リサイズ、データセット"
   ]
  },
  {
   "cell_type": "code",
   "execution_count": 7,
   "metadata": {
    "ExecuteTime": {
     "end_time": "2019-06-11T22:59:04.343382Z",
     "start_time": "2019-06-11T22:59:04.148801Z"
    }
   },
   "outputs": [],
   "source": [
    "# dog_img_array = np.empty((0,224,224,3))\n",
    "# cat_img_array = np.empty((0,224,224,3))\n",
    "random.shuffle(img_list)\n",
    "X_train=[]\n",
    "y_train=[]\n",
    "X_test=[]\n",
    "y_test=[]\n",
    "for img in img_list:\n",
    "    \n",
    "    # ファイル名に'dog'が含まれるイメージ\n",
    "    if re.search('./output/dog', img):\n",
    "        dog_img = Image.open(img)\n",
    "        dog_img = dog_img.convert(\"RGB\")\n",
    "        dog_img = dog_img.resize((75,75))\n",
    "        dog_img = np.asarray(dog_img)\n",
    "        dog_img = dog_img/256\n",
    "        dog_img = dog_img.reshape(75,75,3)\n",
    "\n",
    "        X_train.append(dog_img)\n",
    "        y_train.append(0)\n",
    "    # ファイル名に'cat'が含まれるイメージ\n",
    "    if re.search('./output/cat', img):\n",
    "        cat_img = Image.open(img)\n",
    "        cat_img = cat_img.convert(\"RGB\")\n",
    "        cat_img = cat_img.resize((75,75))\n",
    "        cat_img = np.asarray(cat_img)\n",
    "        cat_img = cat_img/256\n",
    "        cat_img = cat_img.reshape(75,75,3)\n",
    "\n",
    "        X_train.append(cat_img)\n",
    "        y_train.append(1)"
   ]
  },
  {
   "cell_type": "code",
   "execution_count": 8,
   "metadata": {
    "ExecuteTime": {
     "end_time": "2019-06-11T22:59:04.343382Z",
     "start_time": "2019-06-11T22:59:04.148801Z"
    }
   },
   "outputs": [],
   "source": [
    "# dog_img_array = np.empty((0,224,224,3))\n",
    "# cat_img_array = np.empty((0,224,224,3))\n",
    "random.shuffle(img_list1)\n",
    "\n",
    "for img in img_list1:\n",
    "    \n",
    "    # ファイル名に'dog'が含まれるイメージ\n",
    "    if re.search('./dog_cat1/dog', img):\n",
    "        dog_img = Image.open(img)\n",
    "        dog_img = dog_img.convert(\"RGB\")\n",
    "        dog_img = dog_img.resize((75,75))\n",
    "        dog_img = np.asarray(dog_img)\n",
    "        dog_img = dog_img/256\n",
    "        dog_img = dog_img.reshape(75,75,3)\n",
    "\n",
    "        X_test.append(dog_img)\n",
    "        y_test.append(0)\n",
    "    # ファイル名に'cat'が含まれるイメージ\n",
    "    if re.search('./dog_cat1/cat', img):\n",
    "        cat_img = Image.open(img)\n",
    "        cat_img = cat_img.convert(\"RGB\")\n",
    "        cat_img = cat_img.resize((75,75))\n",
    "        cat_img = np.asarray(cat_img)\n",
    "        cat_img = cat_img/256\n",
    "        cat_img = cat_img.reshape(75,75,3)\n",
    "\n",
    "        X_test.append(cat_img)\n",
    "        y_test.append(1)"
   ]
  },
  {
   "cell_type": "code",
   "execution_count": 9,
   "metadata": {
    "ExecuteTime": {
     "end_time": "2019-06-11T22:59:10.071652Z",
     "start_time": "2019-06-11T22:59:10.066657Z"
    }
   },
   "outputs": [
    {
     "data": {
      "text/plain": [
       "'/ca'"
      ]
     },
     "execution_count": 9,
     "metadata": {},
     "output_type": "execute_result"
    }
   ],
   "source": [
    "img[10:13]"
   ]
  },
  {
   "cell_type": "code",
   "execution_count": 10,
   "metadata": {},
   "outputs": [],
   "source": [
    "from tensorflow.python.keras import layers\n",
    "from tensorflow.python.keras import models\n",
    "from tensorflow.python.keras import optimizers"
   ]
  },
  {
   "cell_type": "code",
   "execution_count": 11,
   "metadata": {},
   "outputs": [],
   "source": [
    "classes = 1\n",
    "data_size = 75 * 75 * 3"
   ]
  },
  {
   "cell_type": "code",
   "execution_count": 12,
   "metadata": {},
   "outputs": [],
   "source": [
    "def train(x,y):\n",
    "    model = models.Sequential()\n",
    "    model.add(layers.Conv2D(16, (3, 3), activation='relu', input_shape=(75, 75, 3)))\n",
    "    model.add(layers.Conv2D(16, (3, 3), activation='relu'))\n",
    "    model.add(layers.MaxPooling2D((2, 2)))\n",
    "    model.add(layers.Conv2D(32, (3, 3), activation='relu'))\n",
    "    model.add(layers.MaxPooling2D((2, 2)))\n",
    "    model.add(layers.Flatten())\n",
    "    model.add(layers.Dense(512, activation='relu'))\n",
    "    model.add(layers.Dense(256, activation='relu'))\n",
    "    model.add(layers.Dense(1, activation='sigmoid'))        # 犬猫と同じ2クラス分類で\n",
    "\n",
    "    # モデルのコンパイル\n",
    "    model.compile(loss='binary_crossentropy',\n",
    "              optimizer=optimizers.RMSprop(lr=1e-4),\n",
    "              metrics=['acc'])\n",
    "    \n",
    "    model.fit(x,y,epochs=30)\n",
    "    return model\n",
    "    "
   ]
  },
  {
   "cell_type": "code",
   "execution_count": 13,
   "metadata": {},
   "outputs": [],
   "source": [
    "def model_eval(model,X_test,y_test):\n",
    "    score = model.evaluate(X_test,y_test)\n",
    "    print('loss=',score[0])\n",
    "    print('accuracy=',score[1])"
   ]
  },
  {
   "cell_type": "code",
   "execution_count": 14,
   "metadata": {},
   "outputs": [
    {
     "name": "stdout",
     "output_type": "stream",
     "text": [
      "WARNING:tensorflow:From /Users/y-shiraishi/.local/lib/python3.6/site-packages/tensorflow/python/ops/resource_variable_ops.py:435: colocate_with (from tensorflow.python.framework.ops) is deprecated and will be removed in a future version.\n",
      "Instructions for updating:\n",
      "Colocations handled automatically by placer.\n",
      "WARNING:tensorflow:From /Users/y-shiraishi/.local/lib/python3.6/site-packages/tensorflow/python/ops/math_ops.py:3066: to_int32 (from tensorflow.python.ops.math_ops) is deprecated and will be removed in a future version.\n",
      "Instructions for updating:\n",
      "Use tf.cast instead.\n",
      "Epoch 1/30\n",
      "108/108 [==============================] - 1s 13ms/sample - loss: 0.6796 - acc: 0.5556\n",
      "Epoch 2/30\n",
      "108/108 [==============================] - 1s 11ms/sample - loss: 0.7083 - acc: 0.4722\n",
      "Epoch 3/30\n",
      "108/108 [==============================] - 1s 11ms/sample - loss: 0.6464 - acc: 0.5648\n",
      "Epoch 4/30\n",
      "108/108 [==============================] - 1s 10ms/sample - loss: 0.6268 - acc: 0.6481\n",
      "Epoch 5/30\n",
      "108/108 [==============================] - 1s 12ms/sample - loss: 0.6015 - acc: 0.6944\n",
      "Epoch 6/30\n",
      "108/108 [==============================] - 1s 12ms/sample - loss: 0.5760 - acc: 0.7593\n",
      "Epoch 7/30\n",
      "108/108 [==============================] - 1s 9ms/sample - loss: 0.5443 - acc: 0.7870\n",
      "Epoch 8/30\n",
      "108/108 [==============================] - 1s 9ms/sample - loss: 0.4896 - acc: 0.8796\n",
      "Epoch 9/30\n",
      "108/108 [==============================] - 1s 11ms/sample - loss: 0.5072 - acc: 0.7870\n",
      "Epoch 10/30\n",
      "108/108 [==============================] - 1s 10ms/sample - loss: 0.4153 - acc: 0.8981\n",
      "Epoch 11/30\n",
      "108/108 [==============================] - 1s 12ms/sample - loss: 0.4607 - acc: 0.8056\n",
      "Epoch 12/30\n",
      "108/108 [==============================] - 1s 13ms/sample - loss: 0.3950 - acc: 0.8333\n",
      "Epoch 13/30\n",
      "108/108 [==============================] - 1s 10ms/sample - loss: 0.3985 - acc: 0.8519\n",
      "Epoch 14/30\n",
      "108/108 [==============================] - 1s 11ms/sample - loss: 0.3787 - acc: 0.8426\n",
      "Epoch 15/30\n",
      "108/108 [==============================] - 1s 10ms/sample - loss: 0.2970 - acc: 0.9352\n",
      "Epoch 16/30\n",
      "108/108 [==============================] - 1s 11ms/sample - loss: 0.3388 - acc: 0.8981\n",
      "Epoch 17/30\n",
      "108/108 [==============================] - 1s 10ms/sample - loss: 0.3282 - acc: 0.8889\n",
      "Epoch 18/30\n",
      "108/108 [==============================] - 1s 13ms/sample - loss: 0.2672 - acc: 0.9444\n",
      "Epoch 19/30\n",
      "108/108 [==============================] - 1s 10ms/sample - loss: 0.2195 - acc: 0.9722\n",
      "Epoch 20/30\n",
      "108/108 [==============================] - 1s 12ms/sample - loss: 0.3350 - acc: 0.8333\n",
      "Epoch 21/30\n",
      "108/108 [==============================] - 1s 11ms/sample - loss: 0.2164 - acc: 0.9537\n",
      "Epoch 22/30\n",
      "108/108 [==============================] - 1s 12ms/sample - loss: 0.2054 - acc: 0.9352\n",
      "Epoch 23/30\n",
      "108/108 [==============================] - 1s 12ms/sample - loss: 0.2047 - acc: 0.9259\n",
      "Epoch 24/30\n",
      "108/108 [==============================] - 1s 10ms/sample - loss: 0.1566 - acc: 0.9907\n",
      "Epoch 25/30\n",
      "108/108 [==============================] - 1s 11ms/sample - loss: 0.3266 - acc: 0.8333\n",
      "Epoch 26/30\n",
      "108/108 [==============================] - 1s 11ms/sample - loss: 0.1464 - acc: 0.9907\n",
      "Epoch 27/30\n",
      "108/108 [==============================] - 1s 13ms/sample - loss: 0.1271 - acc: 0.9907\n",
      "Epoch 28/30\n",
      "108/108 [==============================] - 1s 12ms/sample - loss: 0.1558 - acc: 0.9630\n",
      "Epoch 29/30\n",
      "108/108 [==============================] - 1s 11ms/sample - loss: 0.2747 - acc: 0.8889\n",
      "Epoch 30/30\n",
      "108/108 [==============================] - 1s 10ms/sample - loss: 0.1430 - acc: 0.9815\n",
      "20/20 [==============================] - 0s 12ms/sample - loss: 0.6866 - acc: 0.6500\n",
      "loss= 0.6865586638450623\n",
      "accuracy= 0.65\n"
     ]
    }
   ],
   "source": [
    "X_train = np.array(X_train,dtype=np.float32)\n",
    "X_test = np.array(X_test,dtype=np.float32)\n",
    "\n",
    "\n",
    "model = train(X_train,y_train)\n",
    "model_eval(model,X_test,y_test)"
   ]
  },
  {
   "cell_type": "markdown",
   "metadata": {},
   "source": [
    "分類器に入れたファイルの一例を掲載"
   ]
  },
  {
   "cell_type": "markdown",
   "metadata": {},
   "source": [
    "<img src=\"./output/dog_0_7770.jpeg\">"
   ]
  },
  {
   "cell_type": "code",
   "execution_count": null,
   "metadata": {},
   "outputs": [],
   "source": []
  }
 ],
 "metadata": {
  "kernelspec": {
   "display_name": "Python 3",
   "language": "python",
   "name": "python3"
  },
  "language_info": {
   "codemirror_mode": {
    "name": "ipython",
    "version": 3
   },
   "file_extension": ".py",
   "mimetype": "text/x-python",
   "name": "python",
   "nbconvert_exporter": "python",
   "pygments_lexer": "ipython3",
   "version": "3.6.7"
  },
  "latex_envs": {
   "LaTeX_envs_menu_present": true,
   "autoclose": false,
   "autocomplete": true,
   "bibliofile": "biblio.bib",
   "cite_by": "apalike",
   "current_citInitial": 1,
   "eqLabelWithNumbers": true,
   "eqNumInitial": 1,
   "hotkeys": {
    "equation": "Ctrl-E",
    "itemize": "Ctrl-I"
   },
   "labels_anchors": false,
   "latex_user_defs": false,
   "report_style_numbering": false,
   "user_envs_cfg": false
  },
  "toc": {
   "base_numbering": 1,
   "nav_menu": {},
   "number_sections": true,
   "sideBar": true,
   "skip_h1_title": false,
   "title_cell": "Table of Contents",
   "title_sidebar": "Contents",
   "toc_cell": false,
   "toc_position": {},
   "toc_section_display": true,
   "toc_window_display": false
  }
 },
 "nbformat": 4,
 "nbformat_minor": 2
}
