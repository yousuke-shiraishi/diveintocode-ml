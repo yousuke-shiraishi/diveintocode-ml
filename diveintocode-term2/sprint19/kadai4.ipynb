{
 "cells": [
  {
   "cell_type": "markdown",
   "metadata": {},
   "source": [
    "# 【問題4】物体検出データセットに対するデータ拡張"
   ]
  },
  {
   "cell_type": "code",
   "execution_count": 26,
   "metadata": {
    "ExecuteTime": {
     "end_time": "2019-06-11T22:57:40.460846Z",
     "start_time": "2019-06-11T22:57:40.343784Z"
    }
   },
   "outputs": [],
   "source": [
    "import numpy  as np\n",
    "import os\n",
    "import glob \n",
    "import re\n",
    "import random\n",
    "from PIL import Image"
   ]
  },
  {
   "cell_type": "code",
   "execution_count": 27,
   "metadata": {
    "ExecuteTime": {
     "end_time": "2019-06-11T22:57:42.025283Z",
     "start_time": "2019-06-11T22:57:42.020555Z"
    }
   },
   "outputs": [],
   "source": [
    "path = './output1/' \n",
    "# 学習に使用したファイル一例"
   ]
  },
  {
   "cell_type": "markdown",
   "metadata": {},
   "source": [
    "<img src=\"./output1/dog_0_7012.jpeg\">"
   ]
  },
  {
   "cell_type": "markdown",
   "metadata": {},
   "source": [
    "<img src=\"./output1/cat_0_3135.jpeg\">"
   ]
  },
  {
   "cell_type": "code",
   "execution_count": 28,
   "metadata": {
    "ExecuteTime": {
     "end_time": "2019-06-11T22:57:42.025283Z",
     "start_time": "2019-06-11T22:57:42.020555Z"
    }
   },
   "outputs": [],
   "source": [
    "path_test = './test/' \n",
    "# img_list = os.listdir(path)"
   ]
  },
  {
   "cell_type": "code",
   "execution_count": 30,
   "metadata": {
    "ExecuteTime": {
     "end_time": "2019-06-11T22:57:43.758549Z",
     "start_time": "2019-06-11T22:57:43.754726Z"
    }
   },
   "outputs": [],
   "source": [
    "img_list = glob.glob(path + '/*' + \".jpeg\")"
   ]
  },
  {
   "cell_type": "code",
   "execution_count": 31,
   "metadata": {
    "ExecuteTime": {
     "end_time": "2019-06-11T22:57:43.758549Z",
     "start_time": "2019-06-11T22:57:43.754726Z"
    }
   },
   "outputs": [],
   "source": [
    "img_list_test = glob.glob(path_test + '/*' + \".jpg\")"
   ]
  },
  {
   "cell_type": "markdown",
   "metadata": {},
   "source": [
    "# イメージのロード、配列化、リサイズ、データセット"
   ]
  },
  {
   "cell_type": "code",
   "execution_count": 32,
   "metadata": {
    "ExecuteTime": {
     "end_time": "2019-06-11T22:59:04.343382Z",
     "start_time": "2019-06-11T22:59:04.148801Z"
    }
   },
   "outputs": [],
   "source": [
    "# dog_img_array = np.empty((0,224,224,3))\n",
    "# cat_img_array = np.empty((0,224,224,3))\n",
    "random.shuffle(img_list)\n",
    "x=[]\n",
    "y=[]\n",
    "for img in img_list:\n",
    "    \n",
    "    # ファイル名に'dog'が含まれるイメージ\n",
    "    if re.search('./output1/dog', img):\n",
    "        dog_img = Image.open(img)\n",
    "        dog_img = dog_img.convert(\"RGB\")\n",
    "        dog_img = dog_img.resize((75,75))\n",
    "        dog_img = np.asarray(dog_img)\n",
    "        dog_img = dog_img/256\n",
    "        dog_img = dog_img.reshape(75,75,3)\n",
    "\n",
    "        x.append(dog_img)\n",
    "        y.append(0)\n",
    "    # ファイル名に'cat'が含まれるイメージ\n",
    "    if re.search('./output1/cat', img):\n",
    "        cat_img = Image.open(img)\n",
    "        cat_img = cat_img.convert(\"RGB\")\n",
    "        cat_img = cat_img.resize((75,75))\n",
    "        cat_img = np.asarray(cat_img)\n",
    "        cat_img = cat_img/256\n",
    "        cat_img = cat_img.reshape(75,75,3)\n",
    "\n",
    "        x.append(cat_img)\n",
    "        y.append(1)"
   ]
  },
  {
   "cell_type": "code",
   "execution_count": 33,
   "metadata": {
    "ExecuteTime": {
     "end_time": "2019-06-11T22:59:04.343382Z",
     "start_time": "2019-06-11T22:59:04.148801Z"
    }
   },
   "outputs": [],
   "source": [
    "# dog_img_array = np.empty((0,224,224,3))\n",
    "# cat_img_array = np.empty((0,224,224,3))\n",
    "random.shuffle(img_list_test)\n",
    "x_test=[]\n",
    "y_test=[]\n",
    "for img in img_list_test:\n",
    "    \n",
    "    # ファイル名に'dog'が含まれるイメージ\n",
    "    if re.search('./test/dog', img):\n",
    "        dog_img = Image.open(img)\n",
    "        dog_img = dog_img.convert(\"RGB\")\n",
    "        dog_img = dog_img.resize((75,75))\n",
    "        dog_img = np.asarray(dog_img)\n",
    "        dog_img = dog_img/256\n",
    "        dog_img = dog_img.reshape(75,75,3)\n",
    "\n",
    "        x_test.append(dog_img)\n",
    "        y_test.append(0)\n",
    "    # ファイル名に'cat'が含まれるイメージ\n",
    "    if re.search('./test/cat', img):\n",
    "        cat_img = Image.open(img)\n",
    "        cat_img = cat_img.convert(\"RGB\")\n",
    "        cat_img = cat_img.resize((75,75))\n",
    "        cat_img = np.asarray(cat_img)\n",
    "        cat_img = cat_img/256\n",
    "        cat_img = cat_img.reshape(75,75,3)\n",
    "\n",
    "        x_test.append(cat_img)\n",
    "        y_test.append(1)"
   ]
  },
  {
   "cell_type": "code",
   "execution_count": 34,
   "metadata": {},
   "outputs": [],
   "source": [
    "from tensorflow.python.keras import layers\n",
    "from tensorflow.python.keras import models\n",
    "from tensorflow.python.keras import optimizers"
   ]
  },
  {
   "cell_type": "code",
   "execution_count": 35,
   "metadata": {},
   "outputs": [],
   "source": [
    "classes = 1"
   ]
  },
  {
   "cell_type": "code",
   "execution_count": 36,
   "metadata": {},
   "outputs": [],
   "source": [
    "def train(x,y):\n",
    "    model = models.Sequential()\n",
    "    model.add(layers.Conv2D(16, (3, 3), activation='relu', input_shape=(75, 75, 3)))\n",
    "    model.add(layers.Conv2D(16, (3, 3), activation='relu'))\n",
    "    model.add(layers.MaxPooling2D((2, 2)))\n",
    "    model.add(layers.Conv2D(32, (3, 3), activation='relu'))\n",
    "    model.add(layers.MaxPooling2D((2, 2)))\n",
    "    model.add(layers.Flatten())\n",
    "    model.add(layers.Dense(512, activation='relu'))\n",
    "    model.add(layers.Dense(256, activation='relu'))\n",
    "    model.add(layers.Dense(1, activation='sigmoid'))        # 犬猫と同じ2クラス分類で\n",
    "\n",
    "    # モデルのコンパイル\n",
    "    model.compile(loss='binary_crossentropy',\n",
    "              optimizer=optimizers.RMSprop(lr=1e-4),\n",
    "              metrics=['acc'])\n",
    "    \n",
    "    model.fit(x,y,epochs=30)\n",
    "    return model\n",
    "    "
   ]
  },
  {
   "cell_type": "code",
   "execution_count": 37,
   "metadata": {},
   "outputs": [],
   "source": [
    "def model_eval(model,X_test,y_test):\n",
    "    score = model.evaluate(X_test,y_test)\n",
    "    print('loss=',score[0])\n",
    "    print('accuracy=',score[1])"
   ]
  },
  {
   "cell_type": "code",
   "execution_count": 38,
   "metadata": {},
   "outputs": [
    {
     "name": "stdout",
     "output_type": "stream",
     "text": [
      "Epoch 1/30\n",
      "117/117 [==============================] - 1s 11ms/sample - loss: 0.7662 - acc: 0.4872\n",
      "Epoch 2/30\n",
      "117/117 [==============================] - 1s 8ms/sample - loss: 0.6819 - acc: 0.5556\n",
      "Epoch 3/30\n",
      "117/117 [==============================] - 1s 8ms/sample - loss: 0.6734 - acc: 0.5299\n",
      "Epoch 4/30\n",
      "117/117 [==============================] - 1s 7ms/sample - loss: 0.6093 - acc: 0.7607\n",
      "Epoch 5/30\n",
      "117/117 [==============================] - 1s 8ms/sample - loss: 0.5809 - acc: 0.6667\n",
      "Epoch 6/30\n",
      "117/117 [==============================] - 1s 10ms/sample - loss: 0.6374 - acc: 0.5897\n",
      "Epoch 7/30\n",
      "117/117 [==============================] - 1s 8ms/sample - loss: 0.5765 - acc: 0.6838\n",
      "Epoch 8/30\n",
      "117/117 [==============================] - 1s 8ms/sample - loss: 0.5535 - acc: 0.7179\n",
      "Epoch 9/30\n",
      "117/117 [==============================] - 1s 8ms/sample - loss: 0.5092 - acc: 0.8291\n",
      "Epoch 10/30\n",
      "117/117 [==============================] - 1s 10ms/sample - loss: 0.5148 - acc: 0.7607\n",
      "Epoch 11/30\n",
      "117/117 [==============================] - 1s 8ms/sample - loss: 0.4961 - acc: 0.7607\n",
      "Epoch 12/30\n",
      "117/117 [==============================] - 1s 9ms/sample - loss: 0.4207 - acc: 0.8889\n",
      "Epoch 13/30\n",
      "117/117 [==============================] - 1s 10ms/sample - loss: 0.3862 - acc: 0.9060\n",
      "Epoch 14/30\n",
      "117/117 [==============================] - 1s 9ms/sample - loss: 0.5729 - acc: 0.6154\n",
      "Epoch 15/30\n",
      "117/117 [==============================] - 1s 10ms/sample - loss: 0.3654 - acc: 0.8974\n",
      "Epoch 16/30\n",
      "117/117 [==============================] - 1s 9ms/sample - loss: 0.3513 - acc: 0.8803\n",
      "Epoch 17/30\n",
      "117/117 [==============================] - 1s 8ms/sample - loss: 0.3547 - acc: 0.8547\n",
      "Epoch 18/30\n",
      "117/117 [==============================] - 1s 9ms/sample - loss: 0.3146 - acc: 0.8889\n",
      "Epoch 19/30\n",
      "117/117 [==============================] - 1s 8ms/sample - loss: 0.2763 - acc: 0.9316\n",
      "Epoch 20/30\n",
      "117/117 [==============================] - 1s 9ms/sample - loss: 0.2739 - acc: 0.8974\n",
      "Epoch 21/30\n",
      "117/117 [==============================] - 1s 9ms/sample - loss: 0.3516 - acc: 0.8376\n",
      "Epoch 22/30\n",
      "117/117 [==============================] - 1s 9ms/sample - loss: 0.3208 - acc: 0.8547\n",
      "Epoch 23/30\n",
      "117/117 [==============================] - 1s 10ms/sample - loss: 0.2867 - acc: 0.8803\n",
      "Epoch 24/30\n",
      "117/117 [==============================] - 1s 8ms/sample - loss: 0.2159 - acc: 0.9573\n",
      "Epoch 25/30\n",
      "117/117 [==============================] - 1s 10ms/sample - loss: 0.1931 - acc: 0.9658\n",
      "Epoch 26/30\n",
      "117/117 [==============================] - 1s 8ms/sample - loss: 0.2405 - acc: 0.9316\n",
      "Epoch 27/30\n",
      "117/117 [==============================] - 1s 8ms/sample - loss: 0.2864 - acc: 0.8547\n",
      "Epoch 28/30\n",
      "117/117 [==============================] - 1s 9ms/sample - loss: 0.1950 - acc: 0.9487\n",
      "Epoch 29/30\n",
      "117/117 [==============================] - 1s 8ms/sample - loss: 0.1717 - acc: 0.9658\n",
      "Epoch 30/30\n",
      "117/117 [==============================] - 1s 8ms/sample - loss: 0.1497 - acc: 0.9915\n",
      "6/6 [==============================] - 0s 16ms/sample - loss: 1.4612 - acc: 0.5000\n",
      "loss= 1.461153507232666\n",
      "accuracy= 0.5\n"
     ]
    }
   ],
   "source": [
    "X_train = np.array(x,dtype=np.float32)\n",
    "X_test = np.array(x_test,dtype=np.float32)\n",
    "y_train = y\n",
    "y_test = y_test\n",
    "\n",
    "\n",
    "model = train(X_train,y_train)\n",
    "model_eval(model,X_test,y_test)"
   ]
  },
  {
   "cell_type": "markdown",
   "metadata": {},
   "source": [
    "# 全然精度が出ていないのはサンプル数が足りないから"
   ]
  },
  {
   "cell_type": "code",
   "execution_count": null,
   "metadata": {},
   "outputs": [],
   "source": []
  }
 ],
 "metadata": {
  "kernelspec": {
   "display_name": "Python 3",
   "language": "python",
   "name": "python3"
  },
  "language_info": {
   "codemirror_mode": {
    "name": "ipython",
    "version": 3
   },
   "file_extension": ".py",
   "mimetype": "text/x-python",
   "name": "python",
   "nbconvert_exporter": "python",
   "pygments_lexer": "ipython3",
   "version": "3.6.7"
  },
  "latex_envs": {
   "LaTeX_envs_menu_present": true,
   "autoclose": false,
   "autocomplete": true,
   "bibliofile": "biblio.bib",
   "cite_by": "apalike",
   "current_citInitial": 1,
   "eqLabelWithNumbers": true,
   "eqNumInitial": 1,
   "hotkeys": {
    "equation": "Ctrl-E",
    "itemize": "Ctrl-I"
   },
   "labels_anchors": false,
   "latex_user_defs": false,
   "report_style_numbering": false,
   "user_envs_cfg": false
  },
  "toc": {
   "base_numbering": 1,
   "nav_menu": {},
   "number_sections": true,
   "sideBar": true,
   "skip_h1_title": false,
   "title_cell": "Table of Contents",
   "title_sidebar": "Contents",
   "toc_cell": false,
   "toc_position": {},
   "toc_section_display": true,
   "toc_window_display": false
  }
 },
 "nbformat": 4,
 "nbformat_minor": 2
}
