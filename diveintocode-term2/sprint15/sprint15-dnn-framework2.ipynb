{
 "cells": [
  {
   "cell_type": "markdown",
   "metadata": {},
   "source": [
    "# 【問題2】Iris（2値分類）をKerasで学習"
   ]
  },
  {
   "cell_type": "markdown",
   "metadata": {},
   "source": [
    "Sprint14で作成したIrisデータセットに対する2値分類をKerasに書き換えてください。"
   ]
  },
  {
   "cell_type": "code",
   "execution_count": 2,
   "metadata": {},
   "outputs": [
    {
     "name": "stderr",
     "output_type": "stream",
     "text": [
      "/anaconda3/envs/DIC/lib/python3.6/importlib/_bootstrap.py:219: RuntimeWarning: numpy.ufunc size changed, may indicate binary incompatibility. Expected 216, got 192\n",
      "  return f(*args, **kwds)\n",
      "/anaconda3/envs/DIC/lib/python3.6/importlib/_bootstrap.py:219: RuntimeWarning: numpy.ufunc size changed, may indicate binary incompatibility. Expected 216, got 192\n",
      "  return f(*args, **kwds)\n",
      "/anaconda3/envs/DIC/lib/python3.6/importlib/_bootstrap.py:219: RuntimeWarning: numpy.ufunc size changed, may indicate binary incompatibility. Expected 192 from C header, got 216 from PyObject\n",
      "  return f(*args, **kwds)\n"
     ]
    }
   ],
   "source": [
    "import pandas as pd\n",
    "import numpy as np\n",
    "from sklearn.model_selection import train_test_split\n",
    "import tensorflow as tf\n",
    "\n",
    "# データセットの読み込み\n",
    "dataset_path =\"Iris.csv\"\n",
    "df = pd.read_csv(dataset_path)\n",
    "# データフレームから条件抽出\n",
    "df = df[(df[\"Species\"] == \"Iris-versicolor\")|(df[\"Species\"] == \"Iris-virginica\")]\n",
    "y = df[\"Species\"]\n",
    "X = df.loc[:, [\"SepalLengthCm\", \"SepalWidthCm\", \"PetalLengthCm\", \"PetalWidthCm\"]]\n",
    "y = np.array(y)\n",
    "X = np.array(X)\n",
    "# ラベルを数値に変換\n",
    "y[y=='Iris-versicolor'] = 0\n",
    "y[y=='Iris-virginica'] = 1\n",
    "y = y.astype(np.int)[:, np.newaxis]\n",
    "\n",
    "# trainとtestに分割\n",
    "X_train, X_test, y_train, y_test = train_test_split(X, y, test_size=0.2, random_state=0)\n",
    "# さらにtrainとvalに分割\n",
    "X_train, X_val, y_train, y_val = train_test_split(X_train, y_train, test_size=0.2, random_state=0)"
   ]
  },
  {
   "cell_type": "code",
   "execution_count": 3,
   "metadata": {},
   "outputs": [
    {
     "name": "stdout",
     "output_type": "stream",
     "text": [
      "WARNING:tensorflow:From /Users/y-shiraishi/.local/lib/python3.6/site-packages/tensorflow/python/ops/resource_variable_ops.py:435: colocate_with (from tensorflow.python.framework.ops) is deprecated and will be removed in a future version.\n",
      "Instructions for updating:\n",
      "Colocations handled automatically by placer.\n"
     ]
    }
   ],
   "source": [
    "import tensorflow as tf\n",
    "\n",
    "model = tf.keras.Sequential([tf.keras.layers.Dense(1, activation = tf.nn.sigmoid, input_shape=(4,))])"
   ]
  },
  {
   "cell_type": "code",
   "execution_count": 4,
   "metadata": {},
   "outputs": [
    {
     "name": "stdout",
     "output_type": "stream",
     "text": [
      "_________________________________________________________________\n",
      "Layer (type)                 Output Shape              Param #   \n",
      "=================================================================\n",
      "dense (Dense)                (None, 1)                 5         \n",
      "=================================================================\n",
      "Total params: 5\n",
      "Trainable params: 5\n",
      "Non-trainable params: 0\n",
      "_________________________________________________________________\n"
     ]
    }
   ],
   "source": [
    "model.summary()"
   ]
  },
  {
   "cell_type": "code",
   "execution_count": 5,
   "metadata": {},
   "outputs": [],
   "source": [
    "model.compile(loss='binary_crossentropy',\n",
    "              optimizer=tf.train.AdamOptimizer(learning_rate=0.01),\n",
    "              metrics=['accuracy'])"
   ]
  },
  {
   "cell_type": "code",
   "execution_count": 6,
   "metadata": {},
   "outputs": [
    {
     "name": "stdout",
     "output_type": "stream",
     "text": [
      "Train on 64 samples, validate on 16 samples\n",
      "WARNING:tensorflow:From /Users/y-shiraishi/.local/lib/python3.6/site-packages/tensorflow/python/ops/math_ops.py:3066: to_int32 (from tensorflow.python.ops.math_ops) is deprecated and will be removed in a future version.\n",
      "Instructions for updating:\n",
      "Use tf.cast instead.\n",
      "Epoch 1/100\n",
      "64/64 [==============================] - 0s 4ms/sample - loss: 0.9324 - acc: 0.4531 - val_loss: 0.8969 - val_acc: 0.3125\n",
      "Epoch 2/100\n",
      "64/64 [==============================] - 0s 1ms/sample - loss: 0.8461 - acc: 0.3438 - val_loss: 0.8601 - val_acc: 0.3125\n",
      "Epoch 3/100\n",
      "64/64 [==============================] - 0s 1ms/sample - loss: 0.8301 - acc: 0.3438 - val_loss: 0.7626 - val_acc: 0.3125\n",
      "Epoch 4/100\n",
      "64/64 [==============================] - 0s 1ms/sample - loss: 0.8498 - acc: 0.3750 - val_loss: 0.7706 - val_acc: 0.3125\n",
      "Epoch 5/100\n",
      "64/64 [==============================] - 0s 2ms/sample - loss: 0.7790 - acc: 0.4531 - val_loss: 0.7495 - val_acc: 0.3125\n",
      "Epoch 6/100\n",
      "64/64 [==============================] - 0s 1ms/sample - loss: 0.7584 - acc: 0.4375 - val_loss: 0.7458 - val_acc: 0.3125\n",
      "Epoch 7/100\n",
      "64/64 [==============================] - 0s 2ms/sample - loss: 0.7407 - acc: 0.4531 - val_loss: 0.7104 - val_acc: 0.3750\n",
      "Epoch 8/100\n",
      "64/64 [==============================] - 0s 1ms/sample - loss: 0.7209 - acc: 0.4062 - val_loss: 0.6798 - val_acc: 0.4375\n",
      "Epoch 9/100\n",
      "64/64 [==============================] - 0s 2ms/sample - loss: 0.7104 - acc: 0.4375 - val_loss: 0.6688 - val_acc: 0.4375\n",
      "Epoch 10/100\n",
      "64/64 [==============================] - 0s 2ms/sample - loss: 0.6860 - acc: 0.5156 - val_loss: 0.6745 - val_acc: 0.4375\n",
      "Epoch 11/100\n",
      "64/64 [==============================] - 0s 1ms/sample - loss: 0.6705 - acc: 0.5469 - val_loss: 0.7426 - val_acc: 0.3750\n",
      "Epoch 12/100\n",
      "64/64 [==============================] - 0s 2ms/sample - loss: 0.6655 - acc: 0.5938 - val_loss: 0.6718 - val_acc: 0.3750\n",
      "Epoch 13/100\n",
      "64/64 [==============================] - 0s 2ms/sample - loss: 0.6397 - acc: 0.5781 - val_loss: 0.5902 - val_acc: 0.7500\n",
      "Epoch 14/100\n",
      "64/64 [==============================] - 0s 2ms/sample - loss: 0.6370 - acc: 0.6719 - val_loss: 0.5858 - val_acc: 0.7500\n",
      "Epoch 15/100\n",
      "64/64 [==============================] - 0s 2ms/sample - loss: 0.6440 - acc: 0.5938 - val_loss: 0.7971 - val_acc: 0.3750\n",
      "Epoch 16/100\n",
      "64/64 [==============================] - 0s 2ms/sample - loss: 0.6038 - acc: 0.6719 - val_loss: 0.5758 - val_acc: 0.6250\n",
      "Epoch 17/100\n",
      "64/64 [==============================] - 0s 2ms/sample - loss: 0.5878 - acc: 0.6719 - val_loss: 0.5193 - val_acc: 0.9375\n",
      "Epoch 18/100\n",
      "64/64 [==============================] - 0s 2ms/sample - loss: 0.5825 - acc: 0.7500 - val_loss: 0.5432 - val_acc: 0.8125\n",
      "Epoch 19/100\n",
      "64/64 [==============================] - 0s 2ms/sample - loss: 0.5621 - acc: 0.7188 - val_loss: 0.5367 - val_acc: 0.8125\n",
      "Epoch 20/100\n",
      "64/64 [==============================] - 0s 2ms/sample - loss: 0.5605 - acc: 0.8438 - val_loss: 0.5074 - val_acc: 1.0000\n",
      "Epoch 21/100\n",
      "64/64 [==============================] - 0s 2ms/sample - loss: 0.5494 - acc: 0.7500 - val_loss: 0.4834 - val_acc: 1.0000\n",
      "Epoch 22/100\n",
      "64/64 [==============================] - 0s 2ms/sample - loss: 0.5339 - acc: 0.7969 - val_loss: 0.4967 - val_acc: 0.9375\n",
      "Epoch 23/100\n",
      "64/64 [==============================] - 0s 2ms/sample - loss: 0.5141 - acc: 0.7969 - val_loss: 0.4536 - val_acc: 1.0000\n",
      "Epoch 24/100\n",
      "64/64 [==============================] - 0s 2ms/sample - loss: 0.5229 - acc: 0.7969 - val_loss: 0.5141 - val_acc: 0.8125\n",
      "Epoch 25/100\n",
      "64/64 [==============================] - 0s 2ms/sample - loss: 0.5100 - acc: 0.8594 - val_loss: 0.4898 - val_acc: 0.8125\n",
      "Epoch 26/100\n",
      "64/64 [==============================] - 0s 2ms/sample - loss: 0.5032 - acc: 0.8594 - val_loss: 0.4674 - val_acc: 0.9375\n",
      "Epoch 27/100\n",
      "64/64 [==============================] - 0s 2ms/sample - loss: 0.4859 - acc: 0.8281 - val_loss: 0.4439 - val_acc: 1.0000\n",
      "Epoch 28/100\n",
      "64/64 [==============================] - 0s 1ms/sample - loss: 0.4752 - acc: 0.9375 - val_loss: 0.4196 - val_acc: 1.0000\n",
      "Epoch 29/100\n",
      "64/64 [==============================] - 0s 2ms/sample - loss: 0.4640 - acc: 0.8906 - val_loss: 0.4669 - val_acc: 0.8125\n",
      "Epoch 30/100\n",
      "64/64 [==============================] - 0s 2ms/sample - loss: 0.4696 - acc: 0.8438 - val_loss: 0.3966 - val_acc: 1.0000\n",
      "Epoch 31/100\n",
      "64/64 [==============================] - 0s 2ms/sample - loss: 0.4500 - acc: 0.8438 - val_loss: 0.4141 - val_acc: 1.0000\n",
      "Epoch 32/100\n",
      "64/64 [==============================] - 0s 2ms/sample - loss: 0.4441 - acc: 0.9219 - val_loss: 0.4111 - val_acc: 1.0000\n",
      "Epoch 33/100\n",
      "64/64 [==============================] - 0s 2ms/sample - loss: 0.4411 - acc: 0.9062 - val_loss: 0.3849 - val_acc: 1.0000\n",
      "Epoch 34/100\n",
      "64/64 [==============================] - 0s 1ms/sample - loss: 0.4320 - acc: 0.9219 - val_loss: 0.3832 - val_acc: 1.0000\n",
      "Epoch 35/100\n",
      "64/64 [==============================] - 0s 1ms/sample - loss: 0.4286 - acc: 0.8750 - val_loss: 0.3512 - val_acc: 1.0000\n",
      "Epoch 36/100\n",
      "64/64 [==============================] - 0s 1ms/sample - loss: 0.4165 - acc: 0.9062 - val_loss: 0.3455 - val_acc: 1.0000\n",
      "Epoch 37/100\n",
      "64/64 [==============================] - 0s 2ms/sample - loss: 0.4228 - acc: 0.8281 - val_loss: 0.3309 - val_acc: 0.9375\n",
      "Epoch 38/100\n",
      "64/64 [==============================] - 0s 2ms/sample - loss: 0.4092 - acc: 0.9219 - val_loss: 0.3310 - val_acc: 1.0000\n",
      "Epoch 39/100\n",
      "64/64 [==============================] - 0s 2ms/sample - loss: 0.4051 - acc: 0.9531 - val_loss: 0.3859 - val_acc: 0.9375\n",
      "Epoch 40/100\n",
      "64/64 [==============================] - 0s 2ms/sample - loss: 0.3970 - acc: 0.9062 - val_loss: 0.3353 - val_acc: 1.0000\n",
      "Epoch 41/100\n",
      "64/64 [==============================] - 0s 2ms/sample - loss: 0.3826 - acc: 0.9219 - val_loss: 0.3775 - val_acc: 0.9375\n",
      "Epoch 42/100\n",
      "64/64 [==============================] - 0s 2ms/sample - loss: 0.3899 - acc: 0.9219 - val_loss: 0.3290 - val_acc: 1.0000\n",
      "Epoch 43/100\n",
      "64/64 [==============================] - 0s 1ms/sample - loss: 0.3760 - acc: 0.9062 - val_loss: 0.3134 - val_acc: 1.0000\n",
      "Epoch 44/100\n",
      "64/64 [==============================] - 0s 2ms/sample - loss: 0.3771 - acc: 0.9219 - val_loss: 0.3112 - val_acc: 1.0000\n",
      "Epoch 45/100\n",
      "64/64 [==============================] - 0s 2ms/sample - loss: 0.3715 - acc: 0.9062 - val_loss: 0.3085 - val_acc: 1.0000\n",
      "Epoch 46/100\n",
      "64/64 [==============================] - 0s 2ms/sample - loss: 0.3559 - acc: 0.9219 - val_loss: 0.3097 - val_acc: 1.0000\n",
      "Epoch 47/100\n",
      "64/64 [==============================] - 0s 2ms/sample - loss: 0.3451 - acc: 0.9219 - val_loss: 0.2846 - val_acc: 1.0000\n",
      "Epoch 48/100\n",
      "64/64 [==============================] - 0s 2ms/sample - loss: 0.3360 - acc: 0.9531 - val_loss: 0.3601 - val_acc: 0.9375\n",
      "Epoch 49/100\n",
      "64/64 [==============================] - 0s 1ms/sample - loss: 0.3565 - acc: 0.9062 - val_loss: 0.3180 - val_acc: 1.0000\n",
      "Epoch 50/100\n",
      "64/64 [==============================] - 0s 2ms/sample - loss: 0.3348 - acc: 0.9375 - val_loss: 0.2719 - val_acc: 1.0000\n",
      "Epoch 51/100\n",
      "64/64 [==============================] - 0s 1ms/sample - loss: 0.3352 - acc: 0.9375 - val_loss: 0.2776 - val_acc: 1.0000\n",
      "Epoch 52/100\n",
      "64/64 [==============================] - 0s 1ms/sample - loss: 0.3279 - acc: 0.9531 - val_loss: 0.2643 - val_acc: 1.0000\n",
      "Epoch 53/100\n",
      "64/64 [==============================] - 0s 1ms/sample - loss: 0.3205 - acc: 0.9375 - val_loss: 0.2803 - val_acc: 1.0000\n",
      "Epoch 54/100\n",
      "64/64 [==============================] - 0s 1ms/sample - loss: 0.3199 - acc: 0.9062 - val_loss: 0.2695 - val_acc: 1.0000\n",
      "Epoch 55/100\n",
      "64/64 [==============================] - 0s 1ms/sample - loss: 0.3224 - acc: 0.9219 - val_loss: 0.3290 - val_acc: 0.9375\n",
      "Epoch 56/100\n",
      "64/64 [==============================] - 0s 1ms/sample - loss: 0.3104 - acc: 0.9531 - val_loss: 0.2829 - val_acc: 1.0000\n",
      "Epoch 57/100\n",
      "64/64 [==============================] - 0s 1ms/sample - loss: 0.3052 - acc: 0.9062 - val_loss: 0.2385 - val_acc: 0.9375\n",
      "Epoch 58/100\n",
      "64/64 [==============================] - 0s 1ms/sample - loss: 0.3202 - acc: 0.9531 - val_loss: 0.2369 - val_acc: 1.0000\n",
      "Epoch 59/100\n",
      "64/64 [==============================] - 0s 1ms/sample - loss: 0.3042 - acc: 0.9219 - val_loss: 0.2526 - val_acc: 1.0000\n"
     ]
    },
    {
     "name": "stdout",
     "output_type": "stream",
     "text": [
      "Epoch 60/100\n",
      "64/64 [==============================] - 0s 1ms/sample - loss: 0.2957 - acc: 0.9688 - val_loss: 0.2405 - val_acc: 1.0000\n",
      "Epoch 61/100\n",
      "64/64 [==============================] - 0s 2ms/sample - loss: 0.2883 - acc: 0.9688 - val_loss: 0.2210 - val_acc: 1.0000\n",
      "Epoch 62/100\n",
      "64/64 [==============================] - 0s 2ms/sample - loss: 0.3030 - acc: 0.9375 - val_loss: 0.2488 - val_acc: 1.0000\n",
      "Epoch 63/100\n",
      "64/64 [==============================] - 0s 2ms/sample - loss: 0.2854 - acc: 0.9375 - val_loss: 0.2370 - val_acc: 1.0000\n",
      "Epoch 64/100\n",
      "64/64 [==============================] - 0s 2ms/sample - loss: 0.2834 - acc: 0.9219 - val_loss: 0.2120 - val_acc: 0.9375\n",
      "Epoch 65/100\n",
      "64/64 [==============================] - 0s 2ms/sample - loss: 0.2852 - acc: 0.9375 - val_loss: 0.2297 - val_acc: 1.0000\n",
      "Epoch 66/100\n",
      "64/64 [==============================] - 0s 2ms/sample - loss: 0.2686 - acc: 0.9688 - val_loss: 0.3042 - val_acc: 0.9375\n",
      "Epoch 67/100\n",
      "64/64 [==============================] - 0s 2ms/sample - loss: 0.2634 - acc: 0.9531 - val_loss: 0.2071 - val_acc: 1.0000\n",
      "Epoch 68/100\n",
      "64/64 [==============================] - 0s 2ms/sample - loss: 0.2790 - acc: 0.9375 - val_loss: 0.2149 - val_acc: 1.0000\n",
      "Epoch 69/100\n",
      "64/64 [==============================] - 0s 2ms/sample - loss: 0.2672 - acc: 0.9219 - val_loss: 0.2186 - val_acc: 1.0000\n",
      "Epoch 70/100\n",
      "64/64 [==============================] - 0s 2ms/sample - loss: 0.2608 - acc: 0.9531 - val_loss: 0.1991 - val_acc: 1.0000\n",
      "Epoch 71/100\n",
      "64/64 [==============================] - 0s 2ms/sample - loss: 0.2637 - acc: 0.9375 - val_loss: 0.1978 - val_acc: 1.0000\n",
      "Epoch 72/100\n",
      "64/64 [==============================] - 0s 2ms/sample - loss: 0.2499 - acc: 0.9531 - val_loss: 0.2727 - val_acc: 1.0000\n",
      "Epoch 73/100\n",
      "64/64 [==============================] - 0s 1ms/sample - loss: 0.2565 - acc: 0.9531 - val_loss: 0.1979 - val_acc: 1.0000\n",
      "Epoch 74/100\n",
      "64/64 [==============================] - 0s 1ms/sample - loss: 0.2555 - acc: 0.9375 - val_loss: 0.1871 - val_acc: 1.0000\n",
      "Epoch 75/100\n",
      "64/64 [==============================] - 0s 1ms/sample - loss: 0.2506 - acc: 0.9531 - val_loss: 0.2054 - val_acc: 1.0000\n",
      "Epoch 76/100\n",
      "64/64 [==============================] - 0s 1ms/sample - loss: 0.2584 - acc: 0.9531 - val_loss: 0.1903 - val_acc: 1.0000\n",
      "Epoch 77/100\n",
      "64/64 [==============================] - 0s 1ms/sample - loss: 0.2508 - acc: 0.9688 - val_loss: 0.2165 - val_acc: 1.0000\n",
      "Epoch 78/100\n",
      "64/64 [==============================] - 0s 1ms/sample - loss: 0.2531 - acc: 0.9375 - val_loss: 0.1951 - val_acc: 1.0000\n",
      "Epoch 79/100\n",
      "64/64 [==============================] - 0s 2ms/sample - loss: 0.2407 - acc: 0.9375 - val_loss: 0.1983 - val_acc: 1.0000\n",
      "Epoch 80/100\n",
      "64/64 [==============================] - 0s 2ms/sample - loss: 0.2422 - acc: 0.9375 - val_loss: 0.1877 - val_acc: 1.0000\n",
      "Epoch 81/100\n",
      "64/64 [==============================] - 0s 2ms/sample - loss: 0.2380 - acc: 0.9375 - val_loss: 0.1718 - val_acc: 1.0000\n",
      "Epoch 82/100\n",
      "64/64 [==============================] - 0s 2ms/sample - loss: 0.2377 - acc: 0.9219 - val_loss: 0.1841 - val_acc: 1.0000\n",
      "Epoch 83/100\n",
      "64/64 [==============================] - 0s 1ms/sample - loss: 0.2375 - acc: 0.9531 - val_loss: 0.1677 - val_acc: 1.0000\n",
      "Epoch 84/100\n",
      "64/64 [==============================] - 0s 1ms/sample - loss: 0.2351 - acc: 0.9688 - val_loss: 0.1894 - val_acc: 1.0000\n",
      "Epoch 85/100\n",
      "64/64 [==============================] - 0s 1ms/sample - loss: 0.2313 - acc: 0.9375 - val_loss: 0.1961 - val_acc: 1.0000\n",
      "Epoch 86/100\n",
      "64/64 [==============================] - 0s 1ms/sample - loss: 0.2237 - acc: 0.9531 - val_loss: 0.1598 - val_acc: 1.0000\n",
      "Epoch 87/100\n",
      "64/64 [==============================] - 0s 1ms/sample - loss: 0.2223 - acc: 0.9375 - val_loss: 0.2087 - val_acc: 1.0000\n",
      "Epoch 88/100\n",
      "64/64 [==============================] - 0s 1ms/sample - loss: 0.2268 - acc: 0.9531 - val_loss: 0.1648 - val_acc: 1.0000\n",
      "Epoch 89/100\n",
      "64/64 [==============================] - 0s 1ms/sample - loss: 0.2222 - acc: 0.9531 - val_loss: 0.1741 - val_acc: 1.0000\n",
      "Epoch 90/100\n",
      "64/64 [==============================] - 0s 1ms/sample - loss: 0.2220 - acc: 0.9531 - val_loss: 0.1671 - val_acc: 1.0000\n",
      "Epoch 91/100\n",
      "64/64 [==============================] - 0s 1ms/sample - loss: 0.2325 - acc: 0.9531 - val_loss: 0.1619 - val_acc: 1.0000\n",
      "Epoch 92/100\n",
      "64/64 [==============================] - 0s 1ms/sample - loss: 0.2087 - acc: 0.9688 - val_loss: 0.2289 - val_acc: 1.0000\n",
      "Epoch 93/100\n",
      "64/64 [==============================] - 0s 1ms/sample - loss: 0.2213 - acc: 0.9531 - val_loss: 0.1587 - val_acc: 1.0000\n",
      "Epoch 94/100\n",
      "64/64 [==============================] - 0s 1ms/sample - loss: 0.2126 - acc: 0.9375 - val_loss: 0.1538 - val_acc: 1.0000\n",
      "Epoch 95/100\n",
      "64/64 [==============================] - 0s 1ms/sample - loss: 0.2119 - acc: 0.9531 - val_loss: 0.1466 - val_acc: 1.0000\n",
      "Epoch 96/100\n",
      "64/64 [==============================] - 0s 1ms/sample - loss: 0.2171 - acc: 0.9219 - val_loss: 0.1471 - val_acc: 0.9375\n",
      "Epoch 97/100\n",
      "64/64 [==============================] - 0s 1ms/sample - loss: 0.2175 - acc: 0.9531 - val_loss: 0.1528 - val_acc: 1.0000\n",
      "Epoch 98/100\n",
      "64/64 [==============================] - 0s 2ms/sample - loss: 0.2122 - acc: 0.9531 - val_loss: 0.1893 - val_acc: 1.0000\n",
      "Epoch 99/100\n",
      "64/64 [==============================] - 0s 1ms/sample - loss: 0.1978 - acc: 0.9531 - val_loss: 0.1413 - val_acc: 1.0000\n",
      "Epoch 100/100\n",
      "64/64 [==============================] - 0s 1ms/sample - loss: 0.2086 - acc: 0.9375 - val_loss: 0.1420 - val_acc: 1.0000\n"
     ]
    }
   ],
   "source": [
    "history = model.fit(X_train, y_train,\n",
    "                    batch_size=1,\n",
    "                    epochs=100,\n",
    "                    verbose=1,\n",
    "                    validation_data=(X_val, y_val))"
   ]
  },
  {
   "cell_type": "code",
   "execution_count": 7,
   "metadata": {},
   "outputs": [
    {
     "name": "stdout",
     "output_type": "stream",
     "text": [
      "y_pred_proba [0.90287364 0.08277923 0.7335258  0.03538522 0.74467045 0.12013894\n",
      " 0.04451773 0.1580745  0.7325203  0.82446826 0.08029521 0.6180768\n",
      " 0.19595817 0.5417964  0.43327174 0.05884817 0.32324183 0.81324863\n",
      " 0.08302471 0.87781256 0.974276   0.15890497 0.71784383 0.9611867\n",
      " 0.85187167 0.22307226 0.88943887 0.06109703 0.86733866 0.8920742\n",
      " 0.9297806  0.8710077  0.18301666 0.8384204  0.22738603 0.98864985\n",
      " 0.94614017 0.04630205 0.0787223  0.42181644 0.02841642 0.6269802\n",
      " 0.5132051  0.01901498 0.11390945 0.20894065 0.96848    0.9935131\n",
      " 0.0616256  0.16348839 0.06004196 0.9184494  0.93261003 0.9546508\n",
      " 0.9687232  0.72540224 0.15914157 0.8655723  0.65843546 0.8798119\n",
      " 0.06382111 0.18189085 0.65446067 0.5048375 ]\n",
      "y_pred [1 0 1 0 1 0 0 0 1 1 0 1 0 1 0 0 0 1 0 1 1 0 1 1 1 0 1 0 1 1 1 1 0 1 0 1 1\n",
      " 0 0 0 0 1 1 0 0 0 1 1 0 0 0 1 1 1 1 1 0 1 1 1 0 0 1 1]\n"
     ]
    }
   ],
   "source": [
    "y_pred_proba = model.predict(X_train)[:, 0]\n",
    "\n",
    "# 確率を0, 1に変換\n",
    "y_pred = np.where(y_pred_proba >0.5, 1, 0)\n",
    "\n",
    "print(\"y_pred_proba\", y_pred_proba)\n",
    "print(\"y_pred\", y_pred)"
   ]
  },
  {
   "cell_type": "code",
   "execution_count": 8,
   "metadata": {},
   "outputs": [
    {
     "name": "stdout",
     "output_type": "stream",
     "text": [
      "Train loss: 0.19826994091272354\n",
      "Train accuracy: 0.953125\n"
     ]
    }
   ],
   "source": [
    "score = model.evaluate(X_train, y_train, verbose=0)\n",
    "print('Train loss:', score[0])\n",
    "print('Train accuracy:', score[1])"
   ]
  },
  {
   "cell_type": "code",
   "execution_count": 9,
   "metadata": {},
   "outputs": [
    {
     "name": "stderr",
     "output_type": "stream",
     "text": [
      "Using TensorFlow backend.\n"
     ]
    }
   ],
   "source": [
    "#バックエンドをインポート\n",
    "from keras.backend import tensorflow_backend as backend\n",
    " \n",
    "#処理終了時に下記をコール\n",
    "backend.clear_session()"
   ]
  },
  {
   "cell_type": "markdown",
   "metadata": {},
   "source": [
    "# 【問題3】Iris（多値分類）をKerasで学習"
   ]
  },
  {
   "cell_type": "markdown",
   "metadata": {},
   "source": [
    "Sprint14で作成したIrisデータセットに対する3値分類をKerasに書き換えてください。"
   ]
  },
  {
   "cell_type": "code",
   "execution_count": 1,
   "metadata": {},
   "outputs": [],
   "source": [
    "import pandas as pd\n",
    "import numpy as np\n",
    "from sklearn.model_selection import train_test_split\n",
    "import tensorflow as tf\n",
    "\n",
    "# データセットの読み込み\n",
    "dataset_path =\"Iris.csv\"\n",
    "df = pd.read_csv(dataset_path)\n",
    "# データフレームから条件抽出\n",
    "y = df[\"Species\"]\n",
    "X = df.loc[:, [\"SepalLengthCm\", \"SepalWidthCm\", \"PetalLengthCm\", \"PetalWidthCm\"]]\n",
    "y = pd.get_dummies(y)\n",
    "y = np.array(y)\n",
    "X = np.array(X)\n",
    "# trainとtestに分割\n",
    "X_train, X_test, y_train, y_test = train_test_split(X, y, test_size=0.2, random_state=0)\n",
    "# さらにtrainとvalに分割\n",
    "X_train, X_val, y_train, y_val = train_test_split(X_train, y_train, test_size=0.2, random_state=0)"
   ]
  },
  {
   "cell_type": "code",
   "execution_count": 2,
   "metadata": {},
   "outputs": [
    {
     "name": "stdout",
     "output_type": "stream",
     "text": [
      "WARNING:tensorflow:From /Users/y-shiraishi/.local/lib/python3.6/site-packages/tensorflow/python/ops/resource_variable_ops.py:435: colocate_with (from tensorflow.python.framework.ops) is deprecated and will be removed in a future version.\n",
      "Instructions for updating:\n",
      "Colocations handled automatically by placer.\n"
     ]
    }
   ],
   "source": [
    "import tensorflow as tf\n",
    "model = tf.keras.Sequential()\n",
    "model.add(tf.keras.layers.Dense(10, activation = tf.nn.relu, input_shape=(4,)))\n",
    "model.add(tf.keras.layers.Dense(3))\n",
    "model.add(tf.keras.layers.Activation('softmax'))"
   ]
  },
  {
   "cell_type": "code",
   "execution_count": 3,
   "metadata": {},
   "outputs": [
    {
     "name": "stdout",
     "output_type": "stream",
     "text": [
      "_________________________________________________________________\n",
      "Layer (type)                 Output Shape              Param #   \n",
      "=================================================================\n",
      "dense (Dense)                (None, 10)                50        \n",
      "_________________________________________________________________\n",
      "dense_1 (Dense)              (None, 3)                 33        \n",
      "_________________________________________________________________\n",
      "activation (Activation)      (None, 3)                 0         \n",
      "=================================================================\n",
      "Total params: 83\n",
      "Trainable params: 83\n",
      "Non-trainable params: 0\n",
      "_________________________________________________________________\n"
     ]
    }
   ],
   "source": [
    "model.summary()"
   ]
  },
  {
   "cell_type": "code",
   "execution_count": 4,
   "metadata": {},
   "outputs": [],
   "source": [
    "model.compile(loss='categorical_crossentropy',\n",
    "              optimizer=tf.train.AdamOptimizer(learning_rate=0.01),\n",
    "              metrics=['accuracy'])"
   ]
  },
  {
   "cell_type": "code",
   "execution_count": 5,
   "metadata": {},
   "outputs": [
    {
     "name": "stdout",
     "output_type": "stream",
     "text": [
      "Train on 96 samples, validate on 24 samples\n",
      "WARNING:tensorflow:From /Users/y-shiraishi/.local/lib/python3.6/site-packages/tensorflow/python/ops/math_ops.py:3066: to_int32 (from tensorflow.python.ops.math_ops) is deprecated and will be removed in a future version.\n",
      "Instructions for updating:\n",
      "Use tf.cast instead.\n",
      "Epoch 1/100\n",
      "96/96 [==============================] - 0s 3ms/sample - loss: 0.7668 - acc: 0.6771 - val_loss: 0.5034 - val_acc: 0.7083\n",
      "Epoch 2/100\n",
      "96/96 [==============================] - 0s 1ms/sample - loss: 0.4328 - acc: 0.7812 - val_loss: 0.3879 - val_acc: 0.9167\n",
      "Epoch 3/100\n",
      "96/96 [==============================] - 0s 1ms/sample - loss: 0.4138 - acc: 0.7812 - val_loss: 0.4404 - val_acc: 0.7083\n",
      "Epoch 4/100\n",
      "96/96 [==============================] - 0s 2ms/sample - loss: 0.3083 - acc: 0.8750 - val_loss: 0.3447 - val_acc: 0.8750\n",
      "Epoch 5/100\n",
      "96/96 [==============================] - 0s 2ms/sample - loss: 0.2636 - acc: 0.9375 - val_loss: 0.2813 - val_acc: 0.9167\n",
      "Epoch 6/100\n",
      "96/96 [==============================] - 0s 1ms/sample - loss: 0.1982 - acc: 0.9479 - val_loss: 0.3722 - val_acc: 0.7500\n",
      "Epoch 7/100\n",
      "96/96 [==============================] - 0s 2ms/sample - loss: 0.1681 - acc: 0.9688 - val_loss: 0.3368 - val_acc: 0.8333\n",
      "Epoch 8/100\n",
      "96/96 [==============================] - 0s 1ms/sample - loss: 0.1739 - acc: 0.9479 - val_loss: 0.2173 - val_acc: 0.9167\n",
      "Epoch 9/100\n",
      "96/96 [==============================] - 0s 1ms/sample - loss: 0.1181 - acc: 0.9896 - val_loss: 0.1980 - val_acc: 0.9167\n",
      "Epoch 10/100\n",
      "96/96 [==============================] - 0s 1ms/sample - loss: 0.1127 - acc: 0.9688 - val_loss: 0.2005 - val_acc: 0.9167\n",
      "Epoch 11/100\n",
      "96/96 [==============================] - 0s 1ms/sample - loss: 0.1075 - acc: 0.9688 - val_loss: 0.1855 - val_acc: 0.9167\n",
      "Epoch 12/100\n",
      "96/96 [==============================] - 0s 1ms/sample - loss: 0.1137 - acc: 0.9583 - val_loss: 0.1835 - val_acc: 0.9167\n",
      "Epoch 13/100\n",
      "96/96 [==============================] - 0s 1ms/sample - loss: 0.0984 - acc: 0.9688 - val_loss: 0.1874 - val_acc: 0.9167\n",
      "Epoch 14/100\n",
      "96/96 [==============================] - 0s 1ms/sample - loss: 0.1065 - acc: 0.9688 - val_loss: 0.1711 - val_acc: 0.9167\n",
      "Epoch 15/100\n",
      "96/96 [==============================] - 0s 2ms/sample - loss: 0.1931 - acc: 0.9375 - val_loss: 0.1746 - val_acc: 0.9167\n",
      "Epoch 16/100\n",
      "96/96 [==============================] - 0s 2ms/sample - loss: 0.0947 - acc: 0.9583 - val_loss: 0.1933 - val_acc: 0.9167\n",
      "Epoch 17/100\n",
      "96/96 [==============================] - 0s 2ms/sample - loss: 0.1421 - acc: 0.9167 - val_loss: 0.1733 - val_acc: 0.9167\n",
      "Epoch 18/100\n",
      "96/96 [==============================] - 0s 2ms/sample - loss: 0.0956 - acc: 0.9479 - val_loss: 0.3020 - val_acc: 0.9167\n",
      "Epoch 19/100\n",
      "96/96 [==============================] - 0s 2ms/sample - loss: 0.1312 - acc: 0.9375 - val_loss: 0.1888 - val_acc: 0.8333\n",
      "Epoch 20/100\n",
      "96/96 [==============================] - 0s 2ms/sample - loss: 0.0756 - acc: 0.9688 - val_loss: 0.1596 - val_acc: 0.9167\n",
      "Epoch 21/100\n",
      "96/96 [==============================] - 0s 2ms/sample - loss: 0.1130 - acc: 0.9688 - val_loss: 0.2396 - val_acc: 0.9167\n",
      "Epoch 22/100\n",
      "96/96 [==============================] - 0s 2ms/sample - loss: 0.0965 - acc: 0.9583 - val_loss: 0.3246 - val_acc: 0.9167\n",
      "Epoch 23/100\n",
      "96/96 [==============================] - 0s 2ms/sample - loss: 0.0888 - acc: 0.9375 - val_loss: 0.1811 - val_acc: 0.9167\n",
      "Epoch 24/100\n",
      "96/96 [==============================] - 0s 2ms/sample - loss: 0.1264 - acc: 0.9375 - val_loss: 0.3618 - val_acc: 0.9167\n",
      "Epoch 25/100\n",
      "96/96 [==============================] - 0s 2ms/sample - loss: 0.0750 - acc: 0.9792 - val_loss: 0.1635 - val_acc: 0.9167\n",
      "Epoch 26/100\n",
      "96/96 [==============================] - 0s 1ms/sample - loss: 0.1150 - acc: 0.9583 - val_loss: 0.2547 - val_acc: 0.9167\n",
      "Epoch 27/100\n",
      "96/96 [==============================] - 0s 2ms/sample - loss: 0.0713 - acc: 0.9583 - val_loss: 0.1960 - val_acc: 0.8333\n",
      "Epoch 28/100\n",
      "96/96 [==============================] - 0s 2ms/sample - loss: 0.1152 - acc: 0.9583 - val_loss: 0.2984 - val_acc: 0.8333\n",
      "Epoch 29/100\n",
      "96/96 [==============================] - 0s 2ms/sample - loss: 0.0492 - acc: 0.9896 - val_loss: 0.2067 - val_acc: 0.9167\n",
      "Epoch 30/100\n",
      "96/96 [==============================] - 0s 1ms/sample - loss: 0.0709 - acc: 0.9688 - val_loss: 0.2492 - val_acc: 0.8750\n",
      "Epoch 31/100\n",
      "96/96 [==============================] - 0s 2ms/sample - loss: 0.0822 - acc: 0.9688 - val_loss: 0.2508 - val_acc: 0.9167\n",
      "Epoch 32/100\n",
      "96/96 [==============================] - 0s 2ms/sample - loss: 0.0695 - acc: 0.9583 - val_loss: 0.3641 - val_acc: 0.9167\n",
      "Epoch 33/100\n",
      "96/96 [==============================] - 0s 1ms/sample - loss: 0.1449 - acc: 0.9167 - val_loss: 0.1608 - val_acc: 0.9167\n",
      "Epoch 34/100\n",
      "96/96 [==============================] - 0s 1ms/sample - loss: 0.0748 - acc: 0.9792 - val_loss: 0.4353 - val_acc: 0.8333\n",
      "Epoch 35/100\n",
      "96/96 [==============================] - 0s 1ms/sample - loss: 0.0695 - acc: 0.9792 - val_loss: 0.2011 - val_acc: 0.9167\n",
      "Epoch 36/100\n",
      "96/96 [==============================] - 0s 1ms/sample - loss: 0.1390 - acc: 0.9479 - val_loss: 0.3175 - val_acc: 0.8333\n",
      "Epoch 37/100\n",
      "96/96 [==============================] - 0s 1ms/sample - loss: 0.0988 - acc: 0.9583 - val_loss: 0.1883 - val_acc: 0.9167\n",
      "Epoch 38/100\n",
      "96/96 [==============================] - 0s 1ms/sample - loss: 0.0539 - acc: 0.9792 - val_loss: 0.1564 - val_acc: 0.9167\n",
      "Epoch 39/100\n",
      "96/96 [==============================] - 0s 1ms/sample - loss: 0.0572 - acc: 0.9792 - val_loss: 0.1697 - val_acc: 0.9167\n",
      "Epoch 40/100\n",
      "96/96 [==============================] - 0s 1ms/sample - loss: 0.0547 - acc: 0.9792 - val_loss: 0.3081 - val_acc: 0.9167\n",
      "Epoch 41/100\n",
      "96/96 [==============================] - 0s 1ms/sample - loss: 0.0498 - acc: 0.9792 - val_loss: 0.2335 - val_acc: 0.8750\n",
      "Epoch 42/100\n",
      "96/96 [==============================] - 0s 1ms/sample - loss: 0.0657 - acc: 0.9792 - val_loss: 0.1519 - val_acc: 0.9167\n",
      "Epoch 43/100\n",
      "96/96 [==============================] - 0s 1ms/sample - loss: 0.1399 - acc: 0.9375 - val_loss: 0.1553 - val_acc: 0.9167\n",
      "Epoch 44/100\n",
      "96/96 [==============================] - 0s 2ms/sample - loss: 0.0462 - acc: 0.9792 - val_loss: 0.1642 - val_acc: 0.9167\n",
      "Epoch 45/100\n",
      "96/96 [==============================] - 0s 2ms/sample - loss: 0.0612 - acc: 0.9792 - val_loss: 0.2895 - val_acc: 0.9167\n",
      "Epoch 46/100\n",
      "96/96 [==============================] - 0s 2ms/sample - loss: 0.0862 - acc: 0.9583 - val_loss: 0.2877 - val_acc: 0.9167\n",
      "Epoch 47/100\n",
      "96/96 [==============================] - 0s 2ms/sample - loss: 0.0709 - acc: 0.9688 - val_loss: 0.1527 - val_acc: 0.9167\n",
      "Epoch 48/100\n",
      "96/96 [==============================] - 0s 2ms/sample - loss: 0.0961 - acc: 0.9375 - val_loss: 0.2060 - val_acc: 0.9167\n",
      "Epoch 49/100\n",
      "96/96 [==============================] - 0s 1ms/sample - loss: 0.0333 - acc: 0.9792 - val_loss: 0.4016 - val_acc: 0.9167\n",
      "Epoch 50/100\n",
      "96/96 [==============================] - 0s 1ms/sample - loss: 0.0286 - acc: 0.9896 - val_loss: 0.1920 - val_acc: 0.8333\n",
      "Epoch 51/100\n",
      "96/96 [==============================] - 0s 1ms/sample - loss: 0.1070 - acc: 0.9583 - val_loss: 0.1939 - val_acc: 0.9167\n",
      "Epoch 52/100\n",
      "96/96 [==============================] - 0s 1ms/sample - loss: 0.0353 - acc: 0.9896 - val_loss: 0.2403 - val_acc: 0.8750\n",
      "Epoch 53/100\n",
      "96/96 [==============================] - 0s 1ms/sample - loss: 0.1098 - acc: 0.9583 - val_loss: 0.2760 - val_acc: 0.9167\n",
      "Epoch 54/100\n",
      "96/96 [==============================] - 0s 1ms/sample - loss: 0.0561 - acc: 0.9688 - val_loss: 0.2139 - val_acc: 0.9167\n",
      "Epoch 55/100\n",
      "96/96 [==============================] - 0s 1ms/sample - loss: 0.0672 - acc: 0.9583 - val_loss: 0.1609 - val_acc: 0.9167\n",
      "Epoch 56/100\n",
      "96/96 [==============================] - 0s 2ms/sample - loss: 0.0701 - acc: 0.9479 - val_loss: 0.2538 - val_acc: 0.9167\n",
      "Epoch 57/100\n",
      "96/96 [==============================] - 0s 2ms/sample - loss: 0.1446 - acc: 0.9375 - val_loss: 0.2872 - val_acc: 0.9167\n",
      "Epoch 58/100\n",
      "96/96 [==============================] - 0s 1ms/sample - loss: 0.0806 - acc: 0.9583 - val_loss: 0.1840 - val_acc: 0.9167\n",
      "Epoch 59/100\n",
      "96/96 [==============================] - 0s 1ms/sample - loss: 0.0900 - acc: 0.9688 - val_loss: 0.1694 - val_acc: 0.9167\n"
     ]
    },
    {
     "name": "stdout",
     "output_type": "stream",
     "text": [
      "Epoch 60/100\n",
      "96/96 [==============================] - 0s 1ms/sample - loss: 0.0773 - acc: 0.9583 - val_loss: 0.2237 - val_acc: 0.9167\n",
      "Epoch 61/100\n",
      "96/96 [==============================] - 0s 1ms/sample - loss: 0.0537 - acc: 0.9792 - val_loss: 0.1639 - val_acc: 0.8750\n",
      "Epoch 62/100\n",
      "96/96 [==============================] - 0s 2ms/sample - loss: 0.0404 - acc: 0.9896 - val_loss: 0.1572 - val_acc: 0.9583\n",
      "Epoch 63/100\n",
      "96/96 [==============================] - 0s 1ms/sample - loss: 0.0820 - acc: 0.9688 - val_loss: 0.5098 - val_acc: 0.8750\n",
      "Epoch 64/100\n",
      "96/96 [==============================] - 0s 1ms/sample - loss: 0.0258 - acc: 1.0000 - val_loss: 0.2850 - val_acc: 0.9167\n",
      "Epoch 65/100\n",
      "96/96 [==============================] - 0s 1ms/sample - loss: 0.0862 - acc: 0.9688 - val_loss: 0.2924 - val_acc: 0.9167\n",
      "Epoch 66/100\n",
      "96/96 [==============================] - 0s 1ms/sample - loss: 0.0761 - acc: 0.9688 - val_loss: 1.0702 - val_acc: 0.7083\n",
      "Epoch 67/100\n",
      "96/96 [==============================] - 0s 1ms/sample - loss: 0.0812 - acc: 0.9792 - val_loss: 0.2326 - val_acc: 0.9167\n",
      "Epoch 68/100\n",
      "96/96 [==============================] - 0s 1ms/sample - loss: 0.0881 - acc: 0.9688 - val_loss: 0.2506 - val_acc: 0.8750\n",
      "Epoch 69/100\n",
      "96/96 [==============================] - 0s 1ms/sample - loss: 0.1097 - acc: 0.9479 - val_loss: 0.3742 - val_acc: 0.9167\n",
      "Epoch 70/100\n",
      "96/96 [==============================] - 0s 1ms/sample - loss: 0.0764 - acc: 0.9792 - val_loss: 0.2075 - val_acc: 0.9167\n",
      "Epoch 71/100\n",
      "96/96 [==============================] - 0s 1ms/sample - loss: 0.0470 - acc: 0.9792 - val_loss: 0.1976 - val_acc: 0.8333\n",
      "Epoch 72/100\n",
      "96/96 [==============================] - 0s 1ms/sample - loss: 0.1086 - acc: 0.9583 - val_loss: 0.3309 - val_acc: 0.8750\n",
      "Epoch 73/100\n",
      "96/96 [==============================] - 0s 2ms/sample - loss: 0.0847 - acc: 0.9583 - val_loss: 0.4684 - val_acc: 0.8750\n",
      "Epoch 74/100\n",
      "96/96 [==============================] - 0s 2ms/sample - loss: 0.1111 - acc: 0.9688 - val_loss: 0.2282 - val_acc: 0.9167\n",
      "Epoch 75/100\n",
      "96/96 [==============================] - 0s 2ms/sample - loss: 0.0764 - acc: 0.9583 - val_loss: 0.1781 - val_acc: 0.9167\n",
      "Epoch 76/100\n",
      "96/96 [==============================] - 0s 2ms/sample - loss: 0.1374 - acc: 0.9479 - val_loss: 0.2622 - val_acc: 0.9167\n",
      "Epoch 77/100\n",
      "96/96 [==============================] - 0s 2ms/sample - loss: 0.0847 - acc: 0.9792 - val_loss: 0.1539 - val_acc: 0.9583\n",
      "Epoch 78/100\n",
      "96/96 [==============================] - 0s 1ms/sample - loss: 0.0588 - acc: 0.9896 - val_loss: 0.2100 - val_acc: 0.9167\n",
      "Epoch 79/100\n",
      "96/96 [==============================] - 0s 1ms/sample - loss: 0.0692 - acc: 0.9792 - val_loss: 0.2784 - val_acc: 0.9167\n",
      "Epoch 80/100\n",
      "96/96 [==============================] - 0s 2ms/sample - loss: 0.0586 - acc: 0.9792 - val_loss: 0.1553 - val_acc: 0.9167\n",
      "Epoch 81/100\n",
      "96/96 [==============================] - 0s 2ms/sample - loss: 0.0426 - acc: 0.9792 - val_loss: 0.2197 - val_acc: 0.9167\n",
      "Epoch 82/100\n",
      "96/96 [==============================] - 0s 1ms/sample - loss: 0.0554 - acc: 0.9792 - val_loss: 0.2349 - val_acc: 0.8750\n",
      "Epoch 83/100\n",
      "96/96 [==============================] - 0s 1ms/sample - loss: 0.0704 - acc: 0.9688 - val_loss: 0.1626 - val_acc: 0.9167\n",
      "Epoch 84/100\n",
      "96/96 [==============================] - 0s 2ms/sample - loss: 0.0654 - acc: 0.9583 - val_loss: 0.1962 - val_acc: 0.9167\n",
      "Epoch 85/100\n",
      "96/96 [==============================] - 0s 2ms/sample - loss: 0.0346 - acc: 0.9792 - val_loss: 0.1685 - val_acc: 0.9167\n",
      "Epoch 86/100\n",
      "96/96 [==============================] - 0s 2ms/sample - loss: 0.0186 - acc: 1.0000 - val_loss: 0.4310 - val_acc: 0.9167\n",
      "Epoch 87/100\n",
      "96/96 [==============================] - 0s 2ms/sample - loss: 0.0643 - acc: 0.9792 - val_loss: 0.1651 - val_acc: 0.9167\n",
      "Epoch 88/100\n",
      "96/96 [==============================] - 0s 2ms/sample - loss: 0.0821 - acc: 0.9479 - val_loss: 0.2156 - val_acc: 0.9167\n",
      "Epoch 89/100\n",
      "96/96 [==============================] - 0s 2ms/sample - loss: 0.0478 - acc: 0.9792 - val_loss: 0.3199 - val_acc: 0.9167\n",
      "Epoch 90/100\n",
      "96/96 [==============================] - 0s 2ms/sample - loss: 0.0585 - acc: 0.9688 - val_loss: 0.1590 - val_acc: 0.9583\n",
      "Epoch 91/100\n",
      "96/96 [==============================] - 0s 1ms/sample - loss: 0.0671 - acc: 0.9688 - val_loss: 0.2570 - val_acc: 0.9167\n",
      "Epoch 92/100\n",
      "96/96 [==============================] - 0s 2ms/sample - loss: 0.0870 - acc: 0.9688 - val_loss: 0.1571 - val_acc: 0.8750\n",
      "Epoch 93/100\n",
      "96/96 [==============================] - 0s 1ms/sample - loss: 0.0912 - acc: 0.9583 - val_loss: 0.1587 - val_acc: 0.9167\n",
      "Epoch 94/100\n",
      "96/96 [==============================] - 0s 1ms/sample - loss: 0.0557 - acc: 0.9688 - val_loss: 0.1615 - val_acc: 0.9583\n",
      "Epoch 95/100\n",
      "96/96 [==============================] - 0s 961us/sample - loss: 0.0657 - acc: 0.9688 - val_loss: 0.1777 - val_acc: 0.9167\n",
      "Epoch 96/100\n",
      "96/96 [==============================] - 0s 1ms/sample - loss: 0.0279 - acc: 1.0000 - val_loss: 0.1734 - val_acc: 0.8750\n",
      "Epoch 97/100\n",
      "96/96 [==============================] - 0s 1ms/sample - loss: 0.0653 - acc: 0.9583 - val_loss: 0.1590 - val_acc: 0.9167\n",
      "Epoch 98/100\n",
      "96/96 [==============================] - 0s 1ms/sample - loss: 0.0275 - acc: 0.9896 - val_loss: 0.1958 - val_acc: 0.8333\n",
      "Epoch 99/100\n",
      "96/96 [==============================] - 0s 1ms/sample - loss: 0.0900 - acc: 0.9688 - val_loss: 0.2592 - val_acc: 0.9167\n",
      "Epoch 100/100\n",
      "96/96 [==============================] - 0s 1ms/sample - loss: 0.0591 - acc: 0.9792 - val_loss: 0.1591 - val_acc: 0.9167\n"
     ]
    }
   ],
   "source": [
    "history = model.fit(X_train, y_train,\n",
    "                    batch_size=1,\n",
    "                    epochs=100,\n",
    "                    verbose=1,\n",
    "                    validation_data=(X_val, y_val))"
   ]
  },
  {
   "cell_type": "code",
   "execution_count": 6,
   "metadata": {},
   "outputs": [
    {
     "name": "stdout",
     "output_type": "stream",
     "text": [
      "y_pred [2 1 0 2 0 2 0 1 1 1 2 1 1 1 1 0 1 1 0 0 2 1 0 0 1 0 0 1 1 0]\n"
     ]
    }
   ],
   "source": [
    "y_pred = model.predict_classes(X_test, batch_size=10)\n",
    "print(\"y_pred\", y_pred)"
   ]
  },
  {
   "cell_type": "code",
   "execution_count": 7,
   "metadata": {},
   "outputs": [
    {
     "name": "stdout",
     "output_type": "stream",
     "text": [
      "Train loss: 0.02988588623702526\n",
      "Train accuracy: 0.96666664\n"
     ]
    }
   ],
   "source": [
    "score = model.evaluate(X_test, y_test, verbose=0)\n",
    "print('Train loss:', score[0])\n",
    "print('Train accuracy:', score[1])"
   ]
  },
  {
   "cell_type": "code",
   "execution_count": null,
   "metadata": {},
   "outputs": [],
   "source": [
    "#バックエンドをインポート\n",
    "from keras.backend import tensorflow_backend as backend\n",
    " \n",
    "#処理終了時に下記をコール\n",
    "backend.clear_session()"
   ]
  },
  {
   "cell_type": "markdown",
   "metadata": {},
   "source": [
    "# 【問題4】House PricesをKerasで学習"
   ]
  },
  {
   "cell_type": "markdown",
   "metadata": {},
   "source": [
    "Sprint14で作成したHouse Pricesデータセットに対する回帰をKerasに書き換えてください。"
   ]
  },
  {
   "cell_type": "code",
   "execution_count": 1,
   "metadata": {},
   "outputs": [],
   "source": [
    "import pandas as pd\n",
    "import numpy as np\n",
    "import seaborn as sns\n",
    "import matplotlib.pyplot as plt\n",
    "import tensorflow as tf\n",
    "from tensorflow import keras\n",
    "from sklearn.model_selection import train_test_split\n",
    "from tensorflow.keras import layers\n",
    "from sklearn.metrics import mean_squared_error"
   ]
  },
  {
   "cell_type": "code",
   "execution_count": 2,
   "metadata": {},
   "outputs": [],
   "source": [
    "def build_model():\n",
    "    model = keras.Sequential([\n",
    "    layers.Dense(50, activation=tf.nn.relu, input_shape=[len(train_dataset.keys())]),\n",
    "#     layers.Dense(64, activation=tf.nn.relu),\n",
    "    layers.Dense(1)\n",
    "    ])\n",
    "    optimizer = tf.keras.optimizers.RMSprop(0.001)\n",
    "\n",
    "    model.compile(loss='mean_squared_error',\n",
    "                optimizer=optimizer,\n",
    "                metrics=['mean_absolute_error', 'mean_squared_error'])\n",
    "    return model"
   ]
  },
  {
   "cell_type": "code",
   "execution_count": 3,
   "metadata": {},
   "outputs": [],
   "source": [
    "def norm(x):\n",
    "    return (x - train_stats['mean']) / train_stats['std']"
   ]
  },
  {
   "cell_type": "code",
   "execution_count": 4,
   "metadata": {},
   "outputs": [
    {
     "name": "stdout",
     "output_type": "stream",
     "text": [
      "WARNING:tensorflow:From /Users/y-shiraishi/.local/lib/python3.6/site-packages/tensorflow/python/ops/resource_variable_ops.py:435: colocate_with (from tensorflow.python.framework.ops) is deprecated and will be removed in a future version.\n",
      "Instructions for updating:\n",
      "Colocations handled automatically by placer.\n",
      "WARNING:tensorflow:From /Users/y-shiraishi/.local/lib/python3.6/site-packages/tensorflow/python/keras/utils/losses_utils.py:170: to_float (from tensorflow.python.ops.math_ops) is deprecated and will be removed in a future version.\n",
      "Instructions for updating:\n",
      "Use tf.cast instead.\n",
      "_________________________________________________________________\n",
      "Layer (type)                 Output Shape              Param #   \n",
      "=================================================================\n",
      "dense (Dense)                (None, 50)                150       \n",
      "_________________________________________________________________\n",
      "dense_1 (Dense)              (None, 1)                 51        \n",
      "=================================================================\n",
      "Total params: 201\n",
      "Trainable params: 201\n",
      "Non-trainable params: 0\n",
      "_________________________________________________________________\n"
     ]
    }
   ],
   "source": [
    "dataset_path =\"train.csv\"\n",
    "column_names = ['SalePrice', 'GrLivArea', 'YearBuilt']\n",
    "dataset = pd.read_csv(dataset_path, usecols=column_names)\n",
    "# dataset = pd.get_dummies(dataset)\n",
    "# dataset = dataset.dropna(how='all')\n",
    "dataset['SalePrice'] = np.log(dataset['SalePrice'])\n",
    "train_dataset = dataset.sample(frac=0.8,random_state=0)\n",
    "\n",
    "test_dataset = dataset.drop(train_dataset.index)\n",
    "\n",
    "\n",
    "# X_train, X_val, y_train, y_val = train_test_split(train_dataset['GrLivArea', 'YearBuilt'], train_dataset['SalePrice'], test_size=0.2, random_state=0)\n",
    "train_stats = train_dataset.describe()\n",
    "train_stats.pop(\"SalePrice\")\n",
    "train_stats = train_stats.transpose()\n",
    "\n",
    "train_labels = train_dataset.pop('SalePrice')\n",
    "test_labels = test_dataset.pop('SalePrice')\n",
    "# train_labels = X_val\n",
    "# test_labels = y_val\n",
    "normed_train_data = norm(train_dataset)\n",
    "normed_test_data = norm(test_dataset)\n",
    "\n",
    "model = build_model()\n",
    "model.summary()"
   ]
  },
  {
   "cell_type": "code",
   "execution_count": 5,
   "metadata": {},
   "outputs": [
    {
     "name": "stdout",
     "output_type": "stream",
     "text": [
      "WARNING:tensorflow:From /Users/y-shiraishi/.local/lib/python3.6/site-packages/tensorflow/python/ops/math_ops.py:3066: to_int32 (from tensorflow.python.ops.math_ops) is deprecated and will be removed in a future version.\n",
      "Instructions for updating:\n",
      "Use tf.cast instead.\n",
      "\n",
      "..........\n",
      "..........\n",
      "..........\n",
      "..........\n",
      "..........\n",
      "..........\n",
      "..........\n",
      "..........\n",
      "..........\n",
      ".........."
     ]
    }
   ],
   "source": [
    "# エポックが終わるごとにドットを一つ出力することで進捗を表示\n",
    "class PrintDot(keras.callbacks.Callback):\n",
    "    def on_epoch_end(self, epoch, logs):\n",
    "        if epoch % 10 == 0: print('')\n",
    "        print('.', end='')\n",
    "\n",
    "EPOCHS = 100\n",
    "\n",
    "history = model.fit(\n",
    "  normed_train_data, train_labels,\n",
    "  epochs=EPOCHS, validation_split = 0.2, verbose=0,\n",
    "  callbacks=[PrintDot()])"
   ]
  },
  {
   "cell_type": "code",
   "execution_count": 6,
   "metadata": {},
   "outputs": [],
   "source": [
    "hist = pd.DataFrame(history.history)\n",
    "hist['epoch'] = history.epoch"
   ]
  },
  {
   "cell_type": "code",
   "execution_count": 7,
   "metadata": {},
   "outputs": [
    {
     "data": {
      "image/png": "[encoded data removed]",
      "text/plain": [
       "<Figure size 432x288 with 1 Axes>"
      ]
     },
     "metadata": {
      "needs_background": "light"
     },
     "output_type": "display_data"
    },
    {
     "data": {
      "image/png": "[encoded data removed]",
      "text/plain": [
       "<Figure size 432x288 with 1 Axes>"
      ]
     },
     "metadata": {
      "needs_background": "light"
     },
     "output_type": "display_data"
    }
   ],
   "source": [
    "def plot_history(history):\n",
    "    hist = pd.DataFrame(history.history)\n",
    "    hist['epoch'] = history.epoch\n",
    "\n",
    "    plt.figure()\n",
    "    plt.xlabel('Epoch')\n",
    "    plt.ylabel('Mean Abs Error [SalePrice]')\n",
    "    plt.plot(hist['epoch'], hist['mean_absolute_error'],\n",
    "           label='Train Error')\n",
    "    plt.plot(hist['epoch'], hist['val_mean_absolute_error'],\n",
    "           label = 'Val Error')\n",
    "    plt.legend()\n",
    "    plt.ylim([0,20])\n",
    "    plt.show()\n",
    "\n",
    "    plt.figure()\n",
    "    plt.xlabel('Epoch')\n",
    "    plt.ylabel('Mean Square Error [$SalePrice^2$]')\n",
    "    plt.plot(hist['epoch'], hist['mean_squared_error'],\n",
    "           label='Train Error')\n",
    "    plt.plot(hist['epoch'], hist['val_mean_squared_error'],\n",
    "           label = 'Val Error')\n",
    "    plt.legend()\n",
    "    plt.ylim([0,50])\n",
    "    plt.show()\n",
    "\n",
    "plot_history(history)"
   ]
  },
  {
   "cell_type": "code",
   "execution_count": 23,
   "metadata": {},
   "outputs": [],
   "source": [
    "example_batch = normed_train_data[:10]\n",
    "example_result = model.predict(test_dataset[['GrLivArea', 'YearBuilt']])\n",
    "example_result = np.log(example_result)"
   ]
  },
  {
   "cell_type": "code",
   "execution_count": 24,
   "metadata": {},
   "outputs": [
    {
     "data": {
      "text/plain": [
       "15.51274046558817"
      ]
     },
     "execution_count": 24,
     "metadata": {},
     "output_type": "execute_result"
    }
   ],
   "source": [
    "\n",
    "mean_squared_error(example_result, test_labels)"
   ]
  },
  {
   "cell_type": "code",
   "execution_count": 11,
   "metadata": {},
   "outputs": [
    {
     "data": {
      "text/plain": [
       "(1168, 2)"
      ]
     },
     "execution_count": 11,
     "metadata": {},
     "output_type": "execute_result"
    }
   ],
   "source": [
    "normed_train_data.shape"
   ]
  },
  {
   "cell_type": "code",
   "execution_count": null,
   "metadata": {},
   "outputs": [],
   "source": [
    "#バックエンドをインポート\n",
    "from keras.backend import tensorflow_backend as backend\n",
    " \n",
    "#処理終了時に下記をコール\n",
    "backend.clear_session()"
   ]
  },
  {
   "cell_type": "markdown",
   "metadata": {},
   "source": [
    "# 【問題5】MNISTをKerasで学習"
   ]
  },
  {
   "cell_type": "markdown",
   "metadata": {},
   "source": [
    "Sprint14で作成したMNISTデータセットによる画像の多値分類をKerasに書き換えてください。"
   ]
  },
  {
   "cell_type": "code",
   "execution_count": 1,
   "metadata": {},
   "outputs": [
    {
     "name": "stdout",
     "output_type": "stream",
     "text": [
      "WARNING:tensorflow:From <ipython-input-1-4cfbad6dd5b4>:6: read_data_sets (from tensorflow.contrib.learn.python.learn.datasets.mnist) is deprecated and will be removed in a future version.\n",
      "Instructions for updating:\n",
      "Please use alternatives such as official/mnist/dataset.py from tensorflow/models.\n",
      "WARNING:tensorflow:From /Users/y-shiraishi/.local/lib/python3.6/site-packages/tensorflow/contrib/learn/python/learn/datasets/mnist.py:260: maybe_download (from tensorflow.contrib.learn.python.learn.datasets.base) is deprecated and will be removed in a future version.\n",
      "Instructions for updating:\n",
      "Please write your own downloading logic.\n",
      "WARNING:tensorflow:From /Users/y-shiraishi/.local/lib/python3.6/site-packages/tensorflow/contrib/learn/python/learn/datasets/mnist.py:262: extract_images (from tensorflow.contrib.learn.python.learn.datasets.mnist) is deprecated and will be removed in a future version.\n",
      "Instructions for updating:\n",
      "Please use tf.data to implement this functionality.\n",
      "Extracting MNIST_data/train-images-idx3-ubyte.gz\n",
      "WARNING:tensorflow:From /Users/y-shiraishi/.local/lib/python3.6/site-packages/tensorflow/contrib/learn/python/learn/datasets/mnist.py:267: extract_labels (from tensorflow.contrib.learn.python.learn.datasets.mnist) is deprecated and will be removed in a future version.\n",
      "Instructions for updating:\n",
      "Please use tf.data to implement this functionality.\n",
      "Extracting MNIST_data/train-labels-idx1-ubyte.gz\n",
      "WARNING:tensorflow:From /Users/y-shiraishi/.local/lib/python3.6/site-packages/tensorflow/contrib/learn/python/learn/datasets/mnist.py:110: dense_to_one_hot (from tensorflow.contrib.learn.python.learn.datasets.mnist) is deprecated and will be removed in a future version.\n",
      "Instructions for updating:\n",
      "Please use tf.one_hot on tensors.\n",
      "Extracting MNIST_data/t10k-images-idx3-ubyte.gz\n",
      "Extracting MNIST_data/t10k-labels-idx1-ubyte.gz\n",
      "WARNING:tensorflow:From /Users/y-shiraishi/.local/lib/python3.6/site-packages/tensorflow/contrib/learn/python/learn/datasets/mnist.py:290: DataSet.__init__ (from tensorflow.contrib.learn.python.learn.datasets.mnist) is deprecated and will be removed in a future version.\n",
      "Instructions for updating:\n",
      "Please use alternatives such as official/mnist/dataset.py from tensorflow/models.\n"
     ]
    }
   ],
   "source": [
    "import pandas as pd\n",
    "import numpy as np\n",
    "from sklearn.model_selection import train_test_split\n",
    "import tensorflow as tf\n",
    "from tensorflow.examples.tutorials.mnist import input_data\n",
    "mnist = input_data.read_data_sets(\"MNIST_data/\", one_hot=True)\n",
    "\n",
    "\n",
    "X_train = mnist.train.images\n",
    "y_train = mnist.train.labels\n",
    "X_test = mnist.test.images\n",
    "y_test = mnist.test.labels\n",
    "\n"
   ]
  },
  {
   "cell_type": "code",
   "execution_count": 2,
   "metadata": {},
   "outputs": [
    {
     "name": "stdout",
     "output_type": "stream",
     "text": [
      "WARNING:tensorflow:From /Users/y-shiraishi/.local/lib/python3.6/site-packages/tensorflow/python/ops/resource_variable_ops.py:435: colocate_with (from tensorflow.python.framework.ops) is deprecated and will be removed in a future version.\n",
      "Instructions for updating:\n",
      "Colocations handled automatically by placer.\n"
     ]
    }
   ],
   "source": [
    "import tensorflow as tf\n",
    "model = tf.keras.Sequential()\n",
    "model.add(tf.keras.layers.Dense(64, activation = tf.nn.relu, input_shape=(784,)))\n",
    "model.add(tf.keras.layers.Dense(10))\n",
    "model.add(tf.keras.layers.Activation('softmax'))"
   ]
  },
  {
   "cell_type": "code",
   "execution_count": 3,
   "metadata": {},
   "outputs": [
    {
     "name": "stdout",
     "output_type": "stream",
     "text": [
      "_________________________________________________________________\n",
      "Layer (type)                 Output Shape              Param #   \n",
      "=================================================================\n",
      "dense (Dense)                (None, 64)                50240     \n",
      "_________________________________________________________________\n",
      "dense_1 (Dense)              (None, 10)                650       \n",
      "_________________________________________________________________\n",
      "activation (Activation)      (None, 10)                0         \n",
      "=================================================================\n",
      "Total params: 50,890\n",
      "Trainable params: 50,890\n",
      "Non-trainable params: 0\n",
      "_________________________________________________________________\n"
     ]
    }
   ],
   "source": [
    "model.summary()"
   ]
  },
  {
   "cell_type": "code",
   "execution_count": 4,
   "metadata": {},
   "outputs": [],
   "source": [
    "model.compile(loss='categorical_crossentropy',\n",
    "              optimizer=tf.train.AdamOptimizer(learning_rate=0.01),\n",
    "              metrics=['accuracy'])"
   ]
  },
  {
   "cell_type": "code",
   "execution_count": 5,
   "metadata": {},
   "outputs": [
    {
     "name": "stdout",
     "output_type": "stream",
     "text": [
      "WARNING:tensorflow:From /Users/y-shiraishi/.local/lib/python3.6/site-packages/tensorflow/python/ops/math_ops.py:3066: to_int32 (from tensorflow.python.ops.math_ops) is deprecated and will be removed in a future version.\n",
      "Instructions for updating:\n",
      "Use tf.cast instead.\n",
      "Epoch 1/10\n",
      "55000/55000 [==============================] - 4s 79us/sample - loss: 0.2734 - acc: 0.9199\n",
      "Epoch 2/10\n",
      "55000/55000 [==============================] - 4s 74us/sample - loss: 0.1999 - acc: 0.9461\n",
      "Epoch 3/10\n",
      "55000/55000 [==============================] - 4s 69us/sample - loss: 0.1730 - acc: 0.9543\n",
      "Epoch 4/10\n",
      "55000/55000 [==============================] - 4s 66us/sample - loss: 0.1660 - acc: 0.9560\n",
      "Epoch 5/10\n",
      "55000/55000 [==============================] - 4s 70us/sample - loss: 0.1574 - acc: 0.9602\n",
      "Epoch 6/10\n",
      "55000/55000 [==============================] - 4s 76us/sample - loss: 0.1464 - acc: 0.9626\n",
      "Epoch 7/10\n",
      "55000/55000 [==============================] - 4s 74us/sample - loss: 0.1448 - acc: 0.96393s - ETA: 1s - loss: 0.1 - ETA: 1s - loss:\n",
      "Epoch 8/10\n",
      "55000/55000 [==============================] - 4s 76us/sample - loss: 0.1377 - acc: 0.96591s - loss\n",
      "Epoch 9/10\n",
      "55000/55000 [==============================] - 4s 76us/sample - loss: 0.1375 - acc: 0.9664\n",
      "Epoch 10/10\n",
      "55000/55000 [==============================] - 4s 75us/sample - loss: 0.1379 - acc: 0.96781s - lo\n"
     ]
    }
   ],
   "source": [
    "history = model.fit(X_train, y_train,\n",
    "                    batch_size=20,\n",
    "                    epochs=10,\n",
    "                    verbose=1)"
   ]
  },
  {
   "cell_type": "code",
   "execution_count": 6,
   "metadata": {},
   "outputs": [
    {
     "name": "stdout",
     "output_type": "stream",
     "text": [
      "y_pred [7 2 1 ... 4 5 6]\n"
     ]
    }
   ],
   "source": [
    "# y_pred_proba = model.predict(X_train)[:, 0]\n",
    "y_pred = model.predict_classes(X_test, batch_size=10)\n",
    "print(\"y_pred\", y_pred)"
   ]
  },
  {
   "cell_type": "code",
   "execution_count": 7,
   "metadata": {},
   "outputs": [
    {
     "name": "stdout",
     "output_type": "stream",
     "text": [
      "Train loss: 0.25930060202362365\n",
      "Train accuracy: 0.9528\n"
     ]
    }
   ],
   "source": [
    "score = model.evaluate(X_test, y_test, verbose=0)\n",
    "print('Train loss:', score[0])\n",
    "print('Train accuracy:', score[1])"
   ]
  },
  {
   "cell_type": "code",
   "execution_count": null,
   "metadata": {},
   "outputs": [],
   "source": [
    "#バックエンドをインポート\n",
    "from keras.backend import tensorflow_backend as backend\n",
    " \n",
    "#処理終了時に下記をコール\n",
    "backend.clear_session()"
   ]
  }
 ],
 "metadata": {
  "kernelspec": {
   "display_name": "Python 3",
   "language": "python",
   "name": "python3"
  },
  "language_info": {
   "codemirror_mode": {
    "name": "ipython",
    "version": 3
   },
   "file_extension": ".py",
   "mimetype": "text/x-python",
   "name": "python",
   "nbconvert_exporter": "python",
   "pygments_lexer": "ipython3",
   "version": "3.6.7"
  }
 },
 "nbformat": 4,
 "nbformat_minor": 2
}
